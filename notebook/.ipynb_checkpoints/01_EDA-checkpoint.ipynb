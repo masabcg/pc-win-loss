{
 "cells": [
  {
   "cell_type": "code",
   "execution_count": null,
   "id": "4aa1face-d9af-45be-b739-34b3d8b9f386",
   "metadata": {},
   "outputs": [],
   "source": [
    "import os\n",
    "os.chdir('/pc_win_loss')"
   ]
  },
  {
   "cell_type": "code",
   "execution_count": null,
   "id": "8f2c4c08-3ae4-4f98-b8b1-0d2842c35038",
   "metadata": {},
   "outputs": [],
   "source": [
    "import warnings\n",
    "import itertools\n",
    "\n",
    "import numpy as np\n",
    "import pandas as pd\n",
    "import matplotlib.pyplot as plt\n",
    "import seaborn as sns\n",
    "\n",
    "from functions.visualizer import *\n",
    "from src.config import *"
   ]
  },
  {
   "cell_type": "markdown",
   "id": "1e8744bc-52e7-4a32-b65c-54a601fbfad6",
   "metadata": {},
   "source": [
    "![](images/train_test_col_explain.png)\n",
    "![](images/sample_submit_col_explain.png)"
   ]
  },
  {
   "cell_type": "code",
   "execution_count": null,
   "id": "c63b1984-4459-486d-aa2c-5332b3991d00",
   "metadata": {},
   "outputs": [],
   "source": [
    "df_train = pd.read_csv('input/train.csv')\n",
    "df_train.head()"
   ]
  },
  {
   "cell_type": "code",
   "execution_count": null,
   "id": "04c25d22-efbb-4f68-8813-b34fa1bb5362",
   "metadata": {},
   "outputs": [],
   "source": [
    "df_train.describe(include='all')"
   ]
  },
  {
   "cell_type": "code",
   "execution_count": null,
   "id": "6a69e29c-988e-4b63-96ac-de21f18ef385",
   "metadata": {},
   "outputs": [],
   "source": [
    "df_train.nuniques()"
   ]
  },
  {
   "cell_type": "markdown",
   "id": "14f28c53-5ff5-41a4-be30-d4a8a614bc6b",
   "metadata": {},
   "source": [
    "- 欠損値はなし"
   ]
  },
  {
   "cell_type": "code",
   "execution_count": null,
   "id": "9f9dca7b-03ad-45a9-ad68-535f896e8b66",
   "metadata": {},
   "outputs": [],
   "source": [
    "# hist_graph_visualizer(df_train, bins=20)"
   ]
  },
  {
   "cell_type": "markdown",
   "id": "20706c02-a245-4083-8505-db4f10dc1b76",
   "metadata": {},
   "source": [
    "- blueTotalGoldが双峰性を示す\n"
   ]
  },
  {
   "cell_type": "code",
   "execution_count": null,
   "id": "8292abef-5f22-4413-a332-121da9895103",
   "metadata": {},
   "outputs": [],
   "source": [
    "# hist_graph_visualizer(df_train, hue_col_name=COL_BLUEWINS)"
   ]
  },
  {
   "cell_type": "markdown",
   "id": "57096562-7048-4ce5-99a2-ed6ed196e93d",
   "metadata": {},
   "source": [
    "plt.scatter(df_train[COL_FIRSTBLOOD], df_train[COL_KILLS], alpha=0.01)\n",
    "plt.show()"
   ]
  },
  {
   "cell_type": "markdown",
   "id": "4743b83a-731b-43e4-99fb-0777f5d8564a",
   "metadata": {},
   "source": [
    "list_col = list(df_train.columns)\n",
    "list_col"
   ]
  },
  {
   "cell_type": "markdown",
   "id": "5f79faf2-a32f-45c2-aca5-4591d7433539",
   "metadata": {},
   "source": [
    "list_pair_col = [pair for pair in itertools.combinations(list_col, 2)]\n",
    "list_pair_col"
   ]
  },
  {
   "cell_type": "markdown",
   "id": "34bd2591-0e7d-416a-9a5e-e3dbee3202b2",
   "metadata": {},
   "source": [
    "# 引数\n",
    "graph_size = 4\n",
    "c = 3\n",
    "facecolor = 'lightblue'\n",
    "alpha=0.1\n",
    "\n",
    "# 可視化\n",
    "num_graph = len(list_pair_col)\n",
    "\n",
    "fig, ax = plt.subplots((num_graph//c)+1, c, \n",
    "                       figsize=(graph_size*c, graph_size*(num_graph//c)+1), \n",
    "                       facecolor=facecolor\n",
    "                      )\n",
    "\n",
    "for i, pair in enumerate(list_pair_col):\n",
    "    x = pair[0]\n",
    "    y = pair[1]\n",
    "    ax[i//3, i%3].scatter(df_train[x], df_train[y], alpha=alpha)\n",
    "    ax[i//3, i%3].set_xlabel(x)\n",
    "    ax[i//3, i%3].set_ylabel(y)\n",
    "\n",
    "fig.tight_layout()\n",
    "plt.show()"
   ]
  },
  {
   "cell_type": "code",
   "execution_count": null,
   "id": "e3847952-4712-467d-b8ab-9429445b8955",
   "metadata": {},
   "outputs": [],
   "source": [
    "scatter_all_comb_visualizer(df_train)"
   ]
  }
 ],
 "metadata": {
  "kernelspec": {
   "display_name": "Python 3 (ipykernel)",
   "language": "python",
   "name": "python3"
  },
  "language_info": {
   "codemirror_mode": {
    "name": "ipython",
    "version": 3
   },
   "file_extension": ".py",
   "mimetype": "text/x-python",
   "name": "python",
   "nbconvert_exporter": "python",
   "pygments_lexer": "ipython3",
   "version": "3.9.13"
  }
 },
 "nbformat": 4,
 "nbformat_minor": 5
}
