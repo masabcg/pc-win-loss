{
 "cells": [
  {
   "cell_type": "markdown",
   "id": "166d97d2-a11a-43f6-8d56-5ba5ce09431d",
   "metadata": {},
   "source": [
    "## [本ノートブックのダウンロード先](https://colab.research.google.com/drive/1yA1Lexs9XxXqs34p79hDEPoOnHiOJMSU#scrollTo=b817e7fe-7b85-45bd-bc9a-23920ac6fe80)"
   ]
  },
  {
   "cell_type": "markdown",
   "id": "de6488bf-ebec-430f-8afe-1372ea3afbcc",
   "metadata": {
    "id": "de6488bf-ebec-430f-8afe-1372ea3afbcc"
   },
   "source": [
    "# 睡眠段階予測コンペティション チュートリアル\n",
    "コンペティションでは睡眠ポリグラフ検査によるセンサーデータを利用して睡眠段階を予測します。  \n",
    "\n",
    "このノートブックでは、睡眠ポリグラフについての簡単な説明とチュートリアルベースラインを紹介します。\n",
    "\n",
    "このチュートリアルはpythonで脳波を解析するためのライブラリである`MNE`のチュートリアルを参考にしています\n",
    "\n",
    "https://mne.tools/stable/auto_tutorials/clinical/60_sleep.html#sphx-glr-auto-tutorials-clinical-60-sleep-py"
   ]
  },
  {
   "cell_type": "markdown",
   "id": "e31ae212-590a-4a9a-b486-51e81921eb22",
   "metadata": {
    "id": "e31ae212-590a-4a9a-b486-51e81921eb22"
   },
   "source": [
    "# 1.睡眠ポリグラフ検査\n",
    "睡眠ポリグラフ検査とは、睡眠関連疾患の診断に用いられる検査の一つです。  \n",
    "睡眠ポリグラフは、ポリソムノグラフィ(polysomnography: PSG)と呼ばれ、睡眠時における脳波、呼吸、脚の運動、あごの運動、眼球運動（レム睡眠とノンレム睡眠）、心電図、酸素飽和度、胸壁の運動、腹壁の運動などを記録します。  \n",
    "  \n",
    "PSGの多くは、睡眠時無呼吸症候群を主体とする、睡眠呼吸障害の診断と治療効果判定のために行われています。潜在患者数は約300万人と推定されている一方で、検査に使用する機器の利用や、睡眠段階を判別するのに高度な訓練が必要となるので、検査需要に追いつていないと指摘があります。[1]"
   ]
  },
  {
   "cell_type": "markdown",
   "id": "b46bf733-5a9d-459b-b3e2-d9465d54b583",
   "metadata": {
    "id": "b46bf733-5a9d-459b-b3e2-d9465d54b583"
   },
   "source": [
    "# 2.睡眠段階\n",
    "睡眠段階の判定は睡眠ポリグラフを解析し、**30秒を1epoch**として、epoch毎に睡眠段階を判定します。  \n",
    "1epochに異なる睡眠段階が混在する場合は、最も多くの時間を占める睡眠段階を採用します。  \n",
    "\n",
    "今回使用するデータセットである、`Sleep-EDF Database Expanded`では、RechtschaffenとKales(R&K)による睡眠段階ガイドラインが使用され、睡眠段階を以下の8つのラベルでラベル付けされています。\n",
    "- Sleep stage W (覚醒状態)\n",
    "- Sleep stage 1\n",
    "- Sleep stage 2\n",
    "- Sleep stage 3\n",
    "- Sleep stage 4\n",
    "- Sleep stage R (レム睡眠)\n",
    "- Sleep stage ? (不明)\n",
    "- Movement time\n",
    "\n",
    "一方、米国睡眠医学会(AASM)によるガイドラインでは`Sleep stage 1 ~ 4`を3つに分類しています。[2]    \n",
    "\n",
    "`NME`のチュートリアルや過去の研究では、R&Kによる睡眠段階分類の`Sleep stage 3`と`Sleep stage 4`を`Sleep stage 3/4`に変更して  \n",
    "AASMによる睡眠段階分類に合わせています。  \n",
    "\n",
    "\n",
    "このコンペティションでもその方法にならい、AASMによる分類のラベル付けに変更します。\n",
    "\n",
    "`Movement time`と`Sleep stage ?`は`sample_submission.csv`の正解データには含まれていません"
   ]
  },
  {
   "cell_type": "code",
   "execution_count": 1,
   "id": "73SM5HS0Ro0s",
   "metadata": {
    "id": "73SM5HS0Ro0s"
   },
   "outputs": [],
   "source": [
    "# ラベル名をIDに置き換える\n",
    "# Sleep stage 3とSleep stage 4を同じIDとして、AASMによる分類に変更する\n",
    "RANDK_LABEL2ID = {\n",
    "    'Movement time': -1,\n",
    "    'Sleep stage ?': -1,\n",
    "    'Sleep stage W': 0,\n",
    "    'Sleep stage 1': 1,\n",
    "    'Sleep stage 2': 2,\n",
    "    'Sleep stage 3': 3,\n",
    "    'Sleep stage 4': 3,\n",
    "    'Sleep stage R': 4\n",
    "}\n",
    "\n",
    "# AASMによる分類\n",
    "LABEL2ID = {\n",
    "    'Movement time': -1,\n",
    "    'Sleep stage ?': -1,\n",
    "    'Sleep stage W': 0,\n",
    "    'Sleep stage 1': 1,\n",
    "    'Sleep stage 2': 2,\n",
    "    'Sleep stage 3/4': 3,\n",
    "    'Sleep stage R': 4\n",
    "}\n",
    "ID2LABEL = {v:k for k, v in LABEL2ID.items()}"
   ]
  },
  {
   "cell_type": "markdown",
   "id": "HSHI73KhSrAo",
   "metadata": {
    "id": "HSHI73KhSrAo"
   },
   "source": [
    "# ライブラリのインストールとデータ設定"
   ]
  },
  {
   "cell_type": "code",
   "execution_count": 2,
   "id": "co3MFO6mSsq2",
   "metadata": {
    "colab": {
     "base_uri": "https://localhost:8080/"
    },
    "id": "co3MFO6mSsq2",
    "outputId": "b70cf699-178d-4690-f2de-53731e3d356a"
   },
   "outputs": [],
   "source": [
    "# ライブラリのインストール\n",
    "# !pip install -q mne==1.2.0"
   ]
  },
  {
   "cell_type": "code",
   "execution_count": 3,
   "id": "1a826436-af76-49fc-99eb-ae946aa38769",
   "metadata": {},
   "outputs": [],
   "source": [
    "import os\n",
    "os.chdir('/sleep-stage-detection/')"
   ]
  },
  {
   "cell_type": "code",
   "execution_count": 4,
   "id": "9e60278d-9930-41a6-81f3-62a3f0d7fb72",
   "metadata": {
    "id": "9e60278d-9930-41a6-81f3-62a3f0d7fb72"
   },
   "outputs": [],
   "source": [
    "import datetime\n",
    "from pathlib import Path\n",
    "from typing import Dict, List\n",
    "\n",
    "import pandas as pd\n",
    "import numpy as np\n",
    "import warnings\n",
    "from tqdm.auto import tqdm\n",
    "\n",
    "from sklearn.model_selection import GroupKFold\n",
    "from sklearn.ensemble import RandomForestClassifier\n",
    "from sklearn.metrics import accuracy_score, classification_report, f1_score\n",
    "\n",
    "import mne"
   ]
  },
  {
   "cell_type": "code",
   "execution_count": 5,
   "id": "zhhOP7cvQrKR",
   "metadata": {
    "colab": {
     "base_uri": "https://localhost:8080/"
    },
    "id": "zhhOP7cvQrKR",
    "outputId": "94c21448-b0eb-4cae-8fc9-635d365e3904"
   },
   "outputs": [],
   "source": [
    "# # ドライブのマウントとカレントディレクトリの設定\n",
    "# from google.colab import drive\n",
    "# drive.mount('/content/drive')"
   ]
  },
  {
   "cell_type": "code",
   "execution_count": 6,
   "id": "ZIOSOexu23eG",
   "metadata": {
    "id": "ZIOSOexu23eG"
   },
   "outputs": [],
   "source": [
    "# ダウンロードしたデータをinput/sleep-stage-detection/*というディレクトリ構成でドライブに保存しています\n",
    "# ドライブ経由だと処理が遅くなるため、inputデータをランタイム配下にコピーします (エラーが発生する場合があります。その場合はセルを再実行してください)\n",
    "# !cp -r /content/drive/MyDrive/sleep-cpt/input ."
   ]
  },
  {
   "cell_type": "code",
   "execution_count": 7,
   "id": "wzu5xxuPOxRA",
   "metadata": {
    "colab": {
     "base_uri": "https://localhost:8080/"
    },
    "id": "wzu5xxuPOxRA",
    "outputId": "87bb49db-c669-4bec-b86c-195fb58d91d1"
   },
   "outputs": [],
   "source": [
    "# !ls ./input/sleep-stage-detection"
   ]
  },
  {
   "cell_type": "code",
   "execution_count": 8,
   "id": "6QUGc_QNZJ42",
   "metadata": {
    "id": "6QUGc_QNZJ42"
   },
   "outputs": [],
   "source": [
    "# ファイルの解凍(少し時間がかかります)\n",
    "# !tar -zxf ./input/sleep-stage-detection/edf_data.tar.gz -C ./input/sleep-stage-detection/"
   ]
  },
  {
   "cell_type": "code",
   "execution_count": 26,
   "id": "ae2a0fed-9bda-4b02-91ae-358edcbd4a37",
   "metadata": {
    "id": "ae2a0fed-9bda-4b02-91ae-358edcbd4a37"
   },
   "outputs": [],
   "source": [
    "INPUT_DIR = Path(\"input/\")\n",
    "EDF_DIR = INPUT_DIR / \"edf_data\""
   ]
  },
  {
   "cell_type": "markdown",
   "id": "sMN9ZGEI-NC5",
   "metadata": {
    "id": "sMN9ZGEI-NC5"
   },
   "source": [
    "# sample submissionの確認\n",
    "はじめにサブミッションの形式を確認します。\n"
   ]
  },
  {
   "cell_type": "code",
   "execution_count": 14,
   "id": "S91tNyM--QTH",
   "metadata": {
    "id": "S91tNyM--QTH"
   },
   "outputs": [],
   "source": [
    "sample_submission_df = pd.read_csv('input/sample_submission.csv', parse_dates=[1])"
   ]
  },
  {
   "cell_type": "code",
   "execution_count": 15,
   "id": "gOunOWqp-h2m",
   "metadata": {
    "colab": {
     "base_uri": "https://localhost:8080/",
     "height": 424
    },
    "id": "gOunOWqp-h2m",
    "outputId": "70fe2663-6dd6-4c1b-9a2f-8ff895b255e9"
   },
   "outputs": [
    {
     "data": {
      "text/html": [
       "<div>\n",
       "<style scoped>\n",
       "    .dataframe tbody tr th:only-of-type {\n",
       "        vertical-align: middle;\n",
       "    }\n",
       "\n",
       "    .dataframe tbody tr th {\n",
       "        vertical-align: top;\n",
       "    }\n",
       "\n",
       "    .dataframe thead th {\n",
       "        text-align: right;\n",
       "    }\n",
       "</style>\n",
       "<table border=\"1\" class=\"dataframe\">\n",
       "  <thead>\n",
       "    <tr style=\"text-align: right;\">\n",
       "      <th></th>\n",
       "      <th>id</th>\n",
       "      <th>meas_time</th>\n",
       "      <th>condition</th>\n",
       "    </tr>\n",
       "  </thead>\n",
       "  <tbody>\n",
       "    <tr>\n",
       "      <th>0</th>\n",
       "      <td>53c1555</td>\n",
       "      <td>1989-11-20 23:19:30</td>\n",
       "      <td>Sleep stage W</td>\n",
       "    </tr>\n",
       "    <tr>\n",
       "      <th>1</th>\n",
       "      <td>53c1555</td>\n",
       "      <td>1989-11-20 23:20:00</td>\n",
       "      <td>Sleep stage W</td>\n",
       "    </tr>\n",
       "    <tr>\n",
       "      <th>2</th>\n",
       "      <td>53c1555</td>\n",
       "      <td>1989-11-20 23:20:30</td>\n",
       "      <td>Sleep stage W</td>\n",
       "    </tr>\n",
       "    <tr>\n",
       "      <th>3</th>\n",
       "      <td>53c1555</td>\n",
       "      <td>1989-11-20 23:21:00</td>\n",
       "      <td>Sleep stage W</td>\n",
       "    </tr>\n",
       "    <tr>\n",
       "      <th>4</th>\n",
       "      <td>53c1555</td>\n",
       "      <td>1989-11-20 23:21:30</td>\n",
       "      <td>Sleep stage W</td>\n",
       "    </tr>\n",
       "    <tr>\n",
       "      <th>...</th>\n",
       "      <td>...</td>\n",
       "      <td>...</td>\n",
       "      <td>...</td>\n",
       "    </tr>\n",
       "    <tr>\n",
       "      <th>52291</th>\n",
       "      <td>9b444bb</td>\n",
       "      <td>1989-04-12 07:32:30</td>\n",
       "      <td>Sleep stage W</td>\n",
       "    </tr>\n",
       "    <tr>\n",
       "      <th>52292</th>\n",
       "      <td>9b444bb</td>\n",
       "      <td>1989-04-12 07:33:00</td>\n",
       "      <td>Sleep stage W</td>\n",
       "    </tr>\n",
       "    <tr>\n",
       "      <th>52293</th>\n",
       "      <td>9b444bb</td>\n",
       "      <td>1989-04-12 07:33:30</td>\n",
       "      <td>Sleep stage W</td>\n",
       "    </tr>\n",
       "    <tr>\n",
       "      <th>52294</th>\n",
       "      <td>9b444bb</td>\n",
       "      <td>1989-04-12 07:34:00</td>\n",
       "      <td>Sleep stage W</td>\n",
       "    </tr>\n",
       "    <tr>\n",
       "      <th>52295</th>\n",
       "      <td>9b444bb</td>\n",
       "      <td>1989-04-12 07:34:30</td>\n",
       "      <td>Sleep stage W</td>\n",
       "    </tr>\n",
       "  </tbody>\n",
       "</table>\n",
       "<p>52296 rows × 3 columns</p>\n",
       "</div>"
      ],
      "text/plain": [
       "            id           meas_time      condition\n",
       "0      53c1555 1989-11-20 23:19:30  Sleep stage W\n",
       "1      53c1555 1989-11-20 23:20:00  Sleep stage W\n",
       "2      53c1555 1989-11-20 23:20:30  Sleep stage W\n",
       "3      53c1555 1989-11-20 23:21:00  Sleep stage W\n",
       "4      53c1555 1989-11-20 23:21:30  Sleep stage W\n",
       "...        ...                 ...            ...\n",
       "52291  9b444bb 1989-04-12 07:32:30  Sleep stage W\n",
       "52292  9b444bb 1989-04-12 07:33:00  Sleep stage W\n",
       "52293  9b444bb 1989-04-12 07:33:30  Sleep stage W\n",
       "52294  9b444bb 1989-04-12 07:34:00  Sleep stage W\n",
       "52295  9b444bb 1989-04-12 07:34:30  Sleep stage W\n",
       "\n",
       "[52296 rows x 3 columns]"
      ]
     },
     "execution_count": 15,
     "metadata": {},
     "output_type": "execute_result"
    }
   ],
   "source": [
    "sample_submission_df"
   ]
  },
  {
   "cell_type": "markdown",
   "id": "YNRQ8xORS7je",
   "metadata": {
    "id": "YNRQ8xORS7je"
   },
   "source": [
    "meas_timeは睡眠段階の予測時間です。  \n",
    "30秒を1epochとして睡眠段階を判断しているため、30秒毎に行があるのが分かります。\n",
    "\n",
    "提供されているデータは波形データとアノテーションデータが別々になっているため  \n",
    "この形式に処理する必要があります。  "
   ]
  },
  {
   "cell_type": "markdown",
   "id": "60d22935-4a0c-4ab6-b8d6-6756db264563",
   "metadata": {
    "id": "60d22935-4a0c-4ab6-b8d6-6756db264563"
   },
   "source": [
    "# レコードデータの読み込み\n",
    "被験者のメタデータは`**_recoreds.csv`としてcsvで保存されています。"
   ]
  },
  {
   "cell_type": "code",
   "execution_count": 29,
   "id": "52cbd07a-f678-446e-80cf-88f63522255e",
   "metadata": {
    "id": "52cbd07a-f678-446e-80cf-88f63522255e"
   },
   "outputs": [],
   "source": [
    "train_record_df = pd.read_csv(\"input/train_records.csv\")\n",
    "test_record_df = pd.read_csv(\"input/test_records.csv\")"
   ]
  },
  {
   "cell_type": "code",
   "execution_count": 30,
   "id": "90de9ae6-0534-459b-a69c-edbdba2421be",
   "metadata": {
    "colab": {
     "base_uri": "https://localhost:8080/",
     "height": 206
    },
    "id": "90de9ae6-0534-459b-a69c-edbdba2421be",
    "outputId": "7578bea2-06fb-4700-e446-fb2671c4cb23"
   },
   "outputs": [
    {
     "data": {
      "text/html": [
       "<div>\n",
       "<style scoped>\n",
       "    .dataframe tbody tr th:only-of-type {\n",
       "        vertical-align: middle;\n",
       "    }\n",
       "\n",
       "    .dataframe tbody tr th {\n",
       "        vertical-align: top;\n",
       "    }\n",
       "\n",
       "    .dataframe thead th {\n",
       "        text-align: right;\n",
       "    }\n",
       "</style>\n",
       "<table border=\"1\" class=\"dataframe\">\n",
       "  <thead>\n",
       "    <tr style=\"text-align: right;\">\n",
       "      <th></th>\n",
       "      <th>id</th>\n",
       "      <th>subject_id</th>\n",
       "      <th>night</th>\n",
       "      <th>age</th>\n",
       "      <th>sex</th>\n",
       "      <th>lights_off</th>\n",
       "      <th>psg</th>\n",
       "      <th>hypnogram</th>\n",
       "    </tr>\n",
       "  </thead>\n",
       "  <tbody>\n",
       "    <tr>\n",
       "      <th>0</th>\n",
       "      <td>3c1c5cf</td>\n",
       "      <td>07c46da</td>\n",
       "      <td>1</td>\n",
       "      <td>90</td>\n",
       "      <td>male</td>\n",
       "      <td>23:28:00</td>\n",
       "      <td>3c1c5cf-PSG.edf</td>\n",
       "      <td>3c1c5cf-Hypnogram.edf</td>\n",
       "    </tr>\n",
       "    <tr>\n",
       "      <th>1</th>\n",
       "      <td>8fbd71b</td>\n",
       "      <td>07c46da</td>\n",
       "      <td>2</td>\n",
       "      <td>90</td>\n",
       "      <td>male</td>\n",
       "      <td>01:29:00</td>\n",
       "      <td>8fbd71b-PSG.edf</td>\n",
       "      <td>8fbd71b-Hypnogram.edf</td>\n",
       "    </tr>\n",
       "    <tr>\n",
       "      <th>2</th>\n",
       "      <td>9d5e9ec</td>\n",
       "      <td>21969ff</td>\n",
       "      <td>1</td>\n",
       "      <td>51</td>\n",
       "      <td>female</td>\n",
       "      <td>23:10:00</td>\n",
       "      <td>9d5e9ec-PSG.edf</td>\n",
       "      <td>9d5e9ec-Hypnogram.edf</td>\n",
       "    </tr>\n",
       "    <tr>\n",
       "      <th>3</th>\n",
       "      <td>e0df8c0</td>\n",
       "      <td>21969ff</td>\n",
       "      <td>2</td>\n",
       "      <td>51</td>\n",
       "      <td>female</td>\n",
       "      <td>23:15:00</td>\n",
       "      <td>e0df8c0-PSG.edf</td>\n",
       "      <td>e0df8c0-Hypnogram.edf</td>\n",
       "    </tr>\n",
       "    <tr>\n",
       "      <th>4</th>\n",
       "      <td>3e404fc</td>\n",
       "      <td>22b58e8</td>\n",
       "      <td>1</td>\n",
       "      <td>51</td>\n",
       "      <td>female</td>\n",
       "      <td>22:38:00</td>\n",
       "      <td>3e404fc-PSG.edf</td>\n",
       "      <td>3e404fc-Hypnogram.edf</td>\n",
       "    </tr>\n",
       "  </tbody>\n",
       "</table>\n",
       "</div>"
      ],
      "text/plain": [
       "        id subject_id  night  age     sex lights_off              psg  \\\n",
       "0  3c1c5cf    07c46da      1   90    male   23:28:00  3c1c5cf-PSG.edf   \n",
       "1  8fbd71b    07c46da      2   90    male   01:29:00  8fbd71b-PSG.edf   \n",
       "2  9d5e9ec    21969ff      1   51  female   23:10:00  9d5e9ec-PSG.edf   \n",
       "3  e0df8c0    21969ff      2   51  female   23:15:00  e0df8c0-PSG.edf   \n",
       "4  3e404fc    22b58e8      1   51  female   22:38:00  3e404fc-PSG.edf   \n",
       "\n",
       "               hypnogram  \n",
       "0  3c1c5cf-Hypnogram.edf  \n",
       "1  8fbd71b-Hypnogram.edf  \n",
       "2  9d5e9ec-Hypnogram.edf  \n",
       "3  e0df8c0-Hypnogram.edf  \n",
       "4  3e404fc-Hypnogram.edf  "
      ]
     },
     "execution_count": 30,
     "metadata": {},
     "output_type": "execute_result"
    }
   ],
   "source": [
    "train_record_df.head()"
   ]
  },
  {
   "cell_type": "code",
   "execution_count": 31,
   "id": "c0450e4e-ab10-4a6c-bfb7-dfcd776f5519",
   "metadata": {
    "colab": {
     "base_uri": "https://localhost:8080/",
     "height": 206
    },
    "id": "c0450e4e-ab10-4a6c-bfb7-dfcd776f5519",
    "outputId": "f0733cd1-b344-4335-efc2-76a3261820d2"
   },
   "outputs": [
    {
     "data": {
      "text/html": [
       "<div>\n",
       "<style scoped>\n",
       "    .dataframe tbody tr th:only-of-type {\n",
       "        vertical-align: middle;\n",
       "    }\n",
       "\n",
       "    .dataframe tbody tr th {\n",
       "        vertical-align: top;\n",
       "    }\n",
       "\n",
       "    .dataframe thead th {\n",
       "        text-align: right;\n",
       "    }\n",
       "</style>\n",
       "<table border=\"1\" class=\"dataframe\">\n",
       "  <thead>\n",
       "    <tr style=\"text-align: right;\">\n",
       "      <th></th>\n",
       "      <th>id</th>\n",
       "      <th>subject_id</th>\n",
       "      <th>night</th>\n",
       "      <th>age</th>\n",
       "      <th>sex</th>\n",
       "      <th>lights_off</th>\n",
       "      <th>psg</th>\n",
       "    </tr>\n",
       "  </thead>\n",
       "  <tbody>\n",
       "    <tr>\n",
       "      <th>0</th>\n",
       "      <td>53c1555</td>\n",
       "      <td>17ca2cd</td>\n",
       "      <td>1</td>\n",
       "      <td>91</td>\n",
       "      <td>female</td>\n",
       "      <td>00:15:00</td>\n",
       "      <td>53c1555-PSG.edf</td>\n",
       "    </tr>\n",
       "    <tr>\n",
       "      <th>1</th>\n",
       "      <td>29ef1d5</td>\n",
       "      <td>17ca2cd</td>\n",
       "      <td>2</td>\n",
       "      <td>91</td>\n",
       "      <td>female</td>\n",
       "      <td>23:39:00</td>\n",
       "      <td>29ef1d5-PSG.edf</td>\n",
       "    </tr>\n",
       "    <tr>\n",
       "      <th>2</th>\n",
       "      <td>c90b6e7</td>\n",
       "      <td>2c77159</td>\n",
       "      <td>1</td>\n",
       "      <td>56</td>\n",
       "      <td>female</td>\n",
       "      <td>23:55:00</td>\n",
       "      <td>c90b6e7-PSG.edf</td>\n",
       "    </tr>\n",
       "    <tr>\n",
       "      <th>3</th>\n",
       "      <td>a61e635</td>\n",
       "      <td>2c77159</td>\n",
       "      <td>2</td>\n",
       "      <td>56</td>\n",
       "      <td>female</td>\n",
       "      <td>00:13:00</td>\n",
       "      <td>a61e635-PSG.edf</td>\n",
       "    </tr>\n",
       "    <tr>\n",
       "      <th>4</th>\n",
       "      <td>2cb6860</td>\n",
       "      <td>40dc0bc</td>\n",
       "      <td>1</td>\n",
       "      <td>52</td>\n",
       "      <td>male</td>\n",
       "      <td>23:03:00</td>\n",
       "      <td>2cb6860-PSG.edf</td>\n",
       "    </tr>\n",
       "  </tbody>\n",
       "</table>\n",
       "</div>"
      ],
      "text/plain": [
       "        id subject_id  night  age     sex lights_off              psg\n",
       "0  53c1555    17ca2cd      1   91  female   00:15:00  53c1555-PSG.edf\n",
       "1  29ef1d5    17ca2cd      2   91  female   23:39:00  29ef1d5-PSG.edf\n",
       "2  c90b6e7    2c77159      1   56  female   23:55:00  c90b6e7-PSG.edf\n",
       "3  a61e635    2c77159      2   56  female   00:13:00  a61e635-PSG.edf\n",
       "4  2cb6860    40dc0bc      1   52    male   23:03:00  2cb6860-PSG.edf"
      ]
     },
     "execution_count": 31,
     "metadata": {},
     "output_type": "execute_result"
    }
   ],
   "source": [
    "test_record_df.head()"
   ]
  },
  {
   "cell_type": "markdown",
   "id": "a4217dc5-fed0-474f-bd86-be06024c887f",
   "metadata": {
    "id": "a4217dc5-fed0-474f-bd86-be06024c887f"
   },
   "source": [
    "各カラムの説明は以下となります\n",
    "\n",
    "* id:行に一意のID\n",
    "* subject_id:被験者にユニークなID\n",
    "* night:測定した夜のID\n",
    "* sex:性別\n",
    "* hypnogram:アノテーションデータのファイル名\n",
    "* psg:センサーデータのファイル名"
   ]
  },
  {
   "cell_type": "code",
   "execution_count": 32,
   "id": "Ege8g9xdeo8l",
   "metadata": {
    "colab": {
     "base_uri": "https://localhost:8080/"
    },
    "id": "Ege8g9xdeo8l",
    "outputId": "bf0b91db-6cde-4b3b-f89d-9e4260f649cf"
   },
   "outputs": [
    {
     "data": {
      "text/plain": [
       "0"
      ]
     },
     "execution_count": 32,
     "metadata": {},
     "output_type": "execute_result"
    }
   ],
   "source": [
    "# 訓練とテストで被験者は重複していないようです\n",
    "len(set(train_record_df[\"subject_id\"].unique()) & set(test_record_df[\"subject_id\"].unique()))"
   ]
  },
  {
   "cell_type": "code",
   "execution_count": 33,
   "id": "e142159b-163e-4f8c-9a69-9d4c1189abc9",
   "metadata": {
    "colab": {
     "base_uri": "https://localhost:8080/"
    },
    "id": "e142159b-163e-4f8c-9a69-9d4c1189abc9",
    "outputId": "4823389f-88e0-46ea-9792-df8e77e18254"
   },
   "outputs": [
    {
     "name": "stdout",
     "output_type": "stream",
     "text": [
      "訓練被験者数 55\n",
      "テスト被験者数 23\n"
     ]
    }
   ],
   "source": [
    "print(\"訓練被験者数\", len(train_record_df[\"subject_id\"].unique()))\n",
    "print(\"テスト被験者数\", len(test_record_df[\"subject_id\"].unique()))"
   ]
  },
  {
   "cell_type": "markdown",
   "id": "558379c0-9a21-4a54-9ea5-da78aa21ebc2",
   "metadata": {
    "id": "558379c0-9a21-4a54-9ea5-da78aa21ebc2"
   },
   "source": [
    "## 被験者データの表示\n",
    "\n",
    "被験者(subject)のある晩(night)のデータを見てみましょう。  \n",
    "`record type`が`PSG`であるものは、`睡眠段階を予測するための波形データ`に相当し、`Hypnogram`は`睡眠段階を記録したデータ`に相当します  \n",
    "\n",
    "`edf`ファイルは医療時系列データの保存によく使用されるデータフォーマットになります。  \n",
    "ロードするためには専用のライブラリが必要となります。\n",
    "\n",
    "このノートブックでは、脳波などを解析する際に用いられるpythonライブラリである`NME`を使用します。  "
   ]
  },
  {
   "cell_type": "code",
   "execution_count": 34,
   "id": "f4334d00-9646-4e46-8c2e-022071cd237e",
   "metadata": {
    "id": "f4334d00-9646-4e46-8c2e-022071cd237e"
   },
   "outputs": [],
   "source": [
    "# パスを設定\n",
    "train_record_df[\"hypnogram\"] = train_record_df[\"hypnogram\"].map(lambda x: str(EDF_DIR/x))\n",
    "train_record_df[\"psg\"] = train_record_df[\"psg\"].map(lambda x: str(EDF_DIR/x))\n",
    "test_record_df[\"psg\"] = test_record_df[\"psg\"].map(lambda x: str(EDF_DIR/x))"
   ]
  },
  {
   "cell_type": "code",
   "execution_count": 35,
   "id": "86fec816-90b6-447c-8c54-a1f692fbe9fd",
   "metadata": {},
   "outputs": [
    {
     "data": {
      "text/html": [
       "<div>\n",
       "<style scoped>\n",
       "    .dataframe tbody tr th:only-of-type {\n",
       "        vertical-align: middle;\n",
       "    }\n",
       "\n",
       "    .dataframe tbody tr th {\n",
       "        vertical-align: top;\n",
       "    }\n",
       "\n",
       "    .dataframe thead th {\n",
       "        text-align: right;\n",
       "    }\n",
       "</style>\n",
       "<table border=\"1\" class=\"dataframe\">\n",
       "  <thead>\n",
       "    <tr style=\"text-align: right;\">\n",
       "      <th></th>\n",
       "      <th>id</th>\n",
       "      <th>subject_id</th>\n",
       "      <th>night</th>\n",
       "      <th>age</th>\n",
       "      <th>sex</th>\n",
       "      <th>lights_off</th>\n",
       "      <th>psg</th>\n",
       "      <th>hypnogram</th>\n",
       "    </tr>\n",
       "  </thead>\n",
       "  <tbody>\n",
       "    <tr>\n",
       "      <th>0</th>\n",
       "      <td>3c1c5cf</td>\n",
       "      <td>07c46da</td>\n",
       "      <td>1</td>\n",
       "      <td>90</td>\n",
       "      <td>male</td>\n",
       "      <td>23:28:00</td>\n",
       "      <td>input/edf_data/3c1c5cf-PSG.edf</td>\n",
       "      <td>input/edf_data/3c1c5cf-Hypnogram.edf</td>\n",
       "    </tr>\n",
       "    <tr>\n",
       "      <th>1</th>\n",
       "      <td>8fbd71b</td>\n",
       "      <td>07c46da</td>\n",
       "      <td>2</td>\n",
       "      <td>90</td>\n",
       "      <td>male</td>\n",
       "      <td>01:29:00</td>\n",
       "      <td>input/edf_data/8fbd71b-PSG.edf</td>\n",
       "      <td>input/edf_data/8fbd71b-Hypnogram.edf</td>\n",
       "    </tr>\n",
       "    <tr>\n",
       "      <th>2</th>\n",
       "      <td>9d5e9ec</td>\n",
       "      <td>21969ff</td>\n",
       "      <td>1</td>\n",
       "      <td>51</td>\n",
       "      <td>female</td>\n",
       "      <td>23:10:00</td>\n",
       "      <td>input/edf_data/9d5e9ec-PSG.edf</td>\n",
       "      <td>input/edf_data/9d5e9ec-Hypnogram.edf</td>\n",
       "    </tr>\n",
       "    <tr>\n",
       "      <th>3</th>\n",
       "      <td>e0df8c0</td>\n",
       "      <td>21969ff</td>\n",
       "      <td>2</td>\n",
       "      <td>51</td>\n",
       "      <td>female</td>\n",
       "      <td>23:15:00</td>\n",
       "      <td>input/edf_data/e0df8c0-PSG.edf</td>\n",
       "      <td>input/edf_data/e0df8c0-Hypnogram.edf</td>\n",
       "    </tr>\n",
       "    <tr>\n",
       "      <th>4</th>\n",
       "      <td>3e404fc</td>\n",
       "      <td>22b58e8</td>\n",
       "      <td>1</td>\n",
       "      <td>51</td>\n",
       "      <td>female</td>\n",
       "      <td>22:38:00</td>\n",
       "      <td>input/edf_data/3e404fc-PSG.edf</td>\n",
       "      <td>input/edf_data/3e404fc-Hypnogram.edf</td>\n",
       "    </tr>\n",
       "  </tbody>\n",
       "</table>\n",
       "</div>"
      ],
      "text/plain": [
       "        id subject_id  night  age     sex lights_off  \\\n",
       "0  3c1c5cf    07c46da      1   90    male   23:28:00   \n",
       "1  8fbd71b    07c46da      2   90    male   01:29:00   \n",
       "2  9d5e9ec    21969ff      1   51  female   23:10:00   \n",
       "3  e0df8c0    21969ff      2   51  female   23:15:00   \n",
       "4  3e404fc    22b58e8      1   51  female   22:38:00   \n",
       "\n",
       "                              psg                             hypnogram  \n",
       "0  input/edf_data/3c1c5cf-PSG.edf  input/edf_data/3c1c5cf-Hypnogram.edf  \n",
       "1  input/edf_data/8fbd71b-PSG.edf  input/edf_data/8fbd71b-Hypnogram.edf  \n",
       "2  input/edf_data/9d5e9ec-PSG.edf  input/edf_data/9d5e9ec-Hypnogram.edf  \n",
       "3  input/edf_data/e0df8c0-PSG.edf  input/edf_data/e0df8c0-Hypnogram.edf  \n",
       "4  input/edf_data/3e404fc-PSG.edf  input/edf_data/3e404fc-Hypnogram.edf  "
      ]
     },
     "execution_count": 35,
     "metadata": {},
     "output_type": "execute_result"
    }
   ],
   "source": [
    "train_record_df.head()"
   ]
  },
  {
   "cell_type": "code",
   "execution_count": 36,
   "id": "9e2389dc-7605-4cc8-bd55-fb20a1150e2a",
   "metadata": {
    "id": "9e2389dc-7605-4cc8-bd55-fb20a1150e2a"
   },
   "outputs": [],
   "source": [
    "row = train_record_df.iloc[0]"
   ]
  },
  {
   "cell_type": "markdown",
   "id": "gJ-GueGP12i3",
   "metadata": {
    "id": "gJ-GueGP12i3"
   },
   "source": [
    "### edfファイルの読み込み\n",
    "`mne.io.read_raw_edf()`メソッドで`edf`ファイルを読み込むことができます。 \n",
    "\n",
    "**患者一人データを読み込むとcsvで数万行になるため、メモリの対策が必要になります。** \n",
    "\n",
    "`NME`ではEDFをファイルを読み込む際に、`preload=False`を設定できます。  \n",
    "データのメタ情報のみ読み込む機能であり、省メモリで済むようになります。\n",
    "\n",
    "詳しいリファレンスは以下をご参考下さい。  \n",
    "\n",
    "https://mne.tools/stable/generated/mne.io.read_raw_edf.html"
   ]
  },
  {
   "cell_type": "code",
   "execution_count": 37,
   "id": "b23a6683-2903-4efd-a0be-b3f70d980898",
   "metadata": {
    "colab": {
     "base_uri": "https://localhost:8080/"
    },
    "id": "b23a6683-2903-4efd-a0be-b3f70d980898",
    "outputId": "59eec1c0-06df-4fd8-e324-59e823dd2571"
   },
   "outputs": [
    {
     "name": "stdout",
     "output_type": "stream",
     "text": [
      "Extracting EDF parameters from /sleep-stage-detection/input/edf_data/3c1c5cf-PSG.edf...\n",
      "EDF file detected\n",
      "Setting channel info structure...\n",
      "Creating raw.info structure...\n"
     ]
    }
   ],
   "source": [
    "# edfファイルの読み込み\n",
    "psg_edf = mne.io.read_raw_edf(row[\"psg\"], preload=False)"
   ]
  },
  {
   "cell_type": "code",
   "execution_count": 38,
   "id": "uRqtfs9U25tV",
   "metadata": {
    "colab": {
     "base_uri": "https://localhost:8080/"
    },
    "id": "uRqtfs9U25tV",
    "outputId": "77df424a-dbd8-4b11-fdd5-791462bc1aaa"
   },
   "outputs": [
    {
     "data": {
      "text/plain": [
       "mne.io.edf.edf.RawEDF"
      ]
     },
     "execution_count": 38,
     "metadata": {},
     "output_type": "execute_result"
    }
   ],
   "source": [
    "# 読み込んだデータは、mne.io.edf.edf.RawEDFクラスのインスタンスになります\n",
    "type(psg_edf)"
   ]
  },
  {
   "cell_type": "code",
   "execution_count": 39,
   "id": "c124469d-2dd9-4f1c-b2aa-6b869ba476b8",
   "metadata": {
    "colab": {
     "base_uri": "https://localhost:8080/",
     "height": 254
    },
    "id": "c124469d-2dd9-4f1c-b2aa-6b869ba476b8",
    "outputId": "99194c6e-d415-4c12-bd7a-d317a062c3b0"
   },
   "outputs": [
    {
     "data": {
      "text/html": [
       "<table class=\"table table-hover table-striped table-sm table-responsive small\">\n",
       "    <tr>\n",
       "        <th>Measurement date</th>\n",
       "        \n",
       "        <td>November 13, 1989  16:35:00 GMT</td>\n",
       "        \n",
       "    </tr>\n",
       "    <tr>\n",
       "        <th>Experimenter</th>\n",
       "        \n",
       "        <td>Unknown</td>\n",
       "        \n",
       "    </tr>\n",
       "        <th>Participant</th>\n",
       "        \n",
       "        <td>Unknown</td>\n",
       "        \n",
       "    </tr>\n",
       "    <tr>\n",
       "        <th>Digitized points</th>\n",
       "        \n",
       "        <td>Not available</td>\n",
       "        \n",
       "    </tr>\n",
       "    <tr>\n",
       "        <th>Good channels</th>\n",
       "        <td>7 EEG</td>\n",
       "    </tr>\n",
       "    <tr>\n",
       "        <th>Bad channels</th>\n",
       "        <td>None</td>\n",
       "    </tr>\n",
       "    <tr>\n",
       "        <th>EOG channels</th>\n",
       "        <td>Not available</td>\n",
       "    </tr>\n",
       "    <tr>\n",
       "        <th>ECG channels</th>\n",
       "        <td>Not available</td>\n",
       "    \n",
       "    <tr>\n",
       "        <th>Sampling frequency</th>\n",
       "        <td>100.00 Hz</td>\n",
       "    </tr>\n",
       "    \n",
       "    \n",
       "    <tr>\n",
       "        <th>Highpass</th>\n",
       "        <td>0.50 Hz</td>\n",
       "    </tr>\n",
       "    \n",
       "    \n",
       "    <tr>\n",
       "        <th>Lowpass</th>\n",
       "        <td>100.00 Hz</td>\n",
       "    </tr>\n",
       "    \n",
       "    \n",
       "</table>"
      ],
      "text/plain": [
       "<Info | 7 non-empty values\n",
       " bads: []\n",
       " ch_names: EEG Fpz-Cz, EEG Pz-Oz, EOG horizontal, Resp oro-nasal, EMG ...\n",
       " chs: 7 EEG\n",
       " custom_ref_applied: False\n",
       " highpass: 0.5 Hz\n",
       " lowpass: 100.0 Hz\n",
       " meas_date: 1989-11-13 16:35:00 UTC\n",
       " nchan: 7\n",
       " projs: []\n",
       " sfreq: 100.0 Hz\n",
       ">"
      ]
     },
     "execution_count": 39,
     "metadata": {},
     "output_type": "execute_result"
    }
   ],
   "source": [
    "# infoでメタ情報を表示できます\n",
    "psg_edf.info"
   ]
  },
  {
   "cell_type": "markdown",
   "id": "675c68a6-c5b4-4894-bf2f-a606f6ea1a01",
   "metadata": {
    "id": "675c68a6-c5b4-4894-bf2f-a606f6ea1a01"
   },
   "source": [
    "センサーチャンネルの名前を確認します"
   ]
  },
  {
   "cell_type": "code",
   "execution_count": 40,
   "id": "7e9bad5f-e714-4b32-ba95-ebc32fbec486",
   "metadata": {
    "colab": {
     "base_uri": "https://localhost:8080/"
    },
    "id": "7e9bad5f-e714-4b32-ba95-ebc32fbec486",
    "outputId": "600b3343-38a9-4044-9f77-15a1febac535"
   },
   "outputs": [
    {
     "data": {
      "text/plain": [
       "['EEG Fpz-Cz',\n",
       " 'EEG Pz-Oz',\n",
       " 'EOG horizontal',\n",
       " 'Resp oro-nasal',\n",
       " 'EMG submental',\n",
       " 'Temp rectal',\n",
       " 'Event marker']"
      ]
     },
     "execution_count": 40,
     "metadata": {},
     "output_type": "execute_result"
    }
   ],
   "source": [
    "psg_edf.ch_names"
   ]
  },
  {
   "cell_type": "markdown",
   "id": "6777c8bb-36ed-4a2d-813b-37de761aac6d",
   "metadata": {
    "id": "6777c8bb-36ed-4a2d-813b-37de761aac6d"
   },
   "source": [
    "それぞれのチャンネルは睡眠ポリグラフからのセンサーチャンネルの情報になっています。  \n",
    "\n",
    "詳細についてはデータの公開先([Sleep-EDF Database Expanded](https://www.physionet.org/content/sleep-edfx/1.0.0/))をご参照下さい。\n",
    "\n",
    "日本語でのセンサーの説明などは、参考文献にある睡眠検査[3]や終夜睡眠ポリグラフ[4]をなどを参考にして下さい。\n",
    "\n",
    "ここでは、センサーチャンネルについて簡単に説明します。  "
   ]
  },
  {
   "cell_type": "markdown",
   "id": "c91458c3-e944-47da-a718-d52f18c3333f",
   "metadata": {
    "id": "c91458c3-e944-47da-a718-d52f18c3333f"
   },
   "source": [
    "- EEG： 脳波。すべての予測段階の判定に必要であり、意識水準と対応して変化する。\n",
    "  - Fpz-Cz、Pz-Ozは頭に取り付けるセンサー箇所の箇所の電位差を表す\n",
    "- EOG： 眼電図。 眼球運動を測定。\n",
    "  - horizontalは水平方向に取り付けた電位差を表す\n",
    "- EMG： オトガイ(顎下)筋電図。\n",
    "- Resp oro-nasal：口鼻呼吸 (oroが口、nasalが鼻、respはrespirationの略で呼吸を表す)\n",
    "- Temp rectal：直腸温 (原著に記載がないため、実際に直腸の温度を計測したかどうかは不明)\n",
    "- Event marker：各時刻で起きたイベントの時刻"
   ]
  },
  {
   "cell_type": "markdown",
   "id": "S6ENN2oXRhLn",
   "metadata": {
    "id": "S6ENN2oXRhLn"
   },
   "source": [
    "読み込んだデータは`to_data_frame`でdataframe化できます。  "
   ]
  },
  {
   "cell_type": "code",
   "execution_count": 41,
   "id": "6da3cc5a-62a9-4d30-aaa5-038842c54a91",
   "metadata": {
    "id": "6da3cc5a-62a9-4d30-aaa5-038842c54a91"
   },
   "outputs": [],
   "source": [
    "psg_df = psg_edf.to_data_frame()"
   ]
  },
  {
   "cell_type": "code",
   "execution_count": 42,
   "id": "Bq8FuBcP8aOF",
   "metadata": {
    "colab": {
     "base_uri": "https://localhost:8080/",
     "height": 424
    },
    "id": "Bq8FuBcP8aOF",
    "outputId": "cf8e9f2e-b4b7-4bf3-ce05-35108e1dd782"
   },
   "outputs": [
    {
     "data": {
      "text/html": [
       "<div>\n",
       "<style scoped>\n",
       "    .dataframe tbody tr th:only-of-type {\n",
       "        vertical-align: middle;\n",
       "    }\n",
       "\n",
       "    .dataframe tbody tr th {\n",
       "        vertical-align: top;\n",
       "    }\n",
       "\n",
       "    .dataframe thead th {\n",
       "        text-align: right;\n",
       "    }\n",
       "</style>\n",
       "<table border=\"1\" class=\"dataframe\">\n",
       "  <thead>\n",
       "    <tr style=\"text-align: right;\">\n",
       "      <th></th>\n",
       "      <th>time</th>\n",
       "      <th>EEG Fpz-Cz</th>\n",
       "      <th>EEG Pz-Oz</th>\n",
       "      <th>EOG horizontal</th>\n",
       "      <th>Resp oro-nasal</th>\n",
       "      <th>EMG submental</th>\n",
       "      <th>Temp rectal</th>\n",
       "      <th>Event marker</th>\n",
       "    </tr>\n",
       "  </thead>\n",
       "  <tbody>\n",
       "    <tr>\n",
       "      <th>0</th>\n",
       "      <td>0.00</td>\n",
       "      <td>84.851770</td>\n",
       "      <td>-11.197558</td>\n",
       "      <td>-219.482051</td>\n",
       "      <td>8.800000e+07</td>\n",
       "      <td>3.234000</td>\n",
       "      <td>1.427420e+07</td>\n",
       "      <td>9.490000e+08</td>\n",
       "    </tr>\n",
       "    <tr>\n",
       "      <th>1</th>\n",
       "      <td>0.01</td>\n",
       "      <td>87.957998</td>\n",
       "      <td>13.197558</td>\n",
       "      <td>-215.531868</td>\n",
       "      <td>8.790847e+07</td>\n",
       "      <td>3.233153</td>\n",
       "      <td>1.428125e+07</td>\n",
       "      <td>9.499478e+08</td>\n",
       "    </tr>\n",
       "    <tr>\n",
       "      <th>2</th>\n",
       "      <td>0.02</td>\n",
       "      <td>96.862515</td>\n",
       "      <td>-3.908181</td>\n",
       "      <td>-209.112821</td>\n",
       "      <td>8.781710e+07</td>\n",
       "      <td>3.232296</td>\n",
       "      <td>1.428833e+07</td>\n",
       "      <td>9.509124e+08</td>\n",
       "    </tr>\n",
       "    <tr>\n",
       "      <th>3</th>\n",
       "      <td>0.03</td>\n",
       "      <td>106.181197</td>\n",
       "      <td>-2.644689</td>\n",
       "      <td>-204.175092</td>\n",
       "      <td>8.772580e+07</td>\n",
       "      <td>3.231429</td>\n",
       "      <td>1.429543e+07</td>\n",
       "      <td>9.518927e+08</td>\n",
       "    </tr>\n",
       "    <tr>\n",
       "      <th>4</th>\n",
       "      <td>0.04</td>\n",
       "      <td>102.557265</td>\n",
       "      <td>-25.095971</td>\n",
       "      <td>-198.249817</td>\n",
       "      <td>8.763449e+07</td>\n",
       "      <td>3.230552</td>\n",
       "      <td>1.430254e+07</td>\n",
       "      <td>9.528878e+08</td>\n",
       "    </tr>\n",
       "  </tbody>\n",
       "</table>\n",
       "</div>"
      ],
      "text/plain": [
       "   time  EEG Fpz-Cz  EEG Pz-Oz  EOG horizontal  Resp oro-nasal  EMG submental  \\\n",
       "0  0.00   84.851770 -11.197558     -219.482051    8.800000e+07       3.234000   \n",
       "1  0.01   87.957998  13.197558     -215.531868    8.790847e+07       3.233153   \n",
       "2  0.02   96.862515  -3.908181     -209.112821    8.781710e+07       3.232296   \n",
       "3  0.03  106.181197  -2.644689     -204.175092    8.772580e+07       3.231429   \n",
       "4  0.04  102.557265 -25.095971     -198.249817    8.763449e+07       3.230552   \n",
       "\n",
       "    Temp rectal  Event marker  \n",
       "0  1.427420e+07  9.490000e+08  \n",
       "1  1.428125e+07  9.499478e+08  \n",
       "2  1.428833e+07  9.509124e+08  \n",
       "3  1.429543e+07  9.518927e+08  \n",
       "4  1.430254e+07  9.528878e+08  "
      ]
     },
     "execution_count": 42,
     "metadata": {},
     "output_type": "execute_result"
    }
   ],
   "source": [
    "psg_df.head()"
   ]
  },
  {
   "cell_type": "code",
   "execution_count": 44,
   "id": "77b54f6b-54b6-4b04-9acb-c7213ba26b42",
   "metadata": {},
   "outputs": [
    {
     "data": {
      "text/plain": [
       "(7890000, 8)"
      ]
     },
     "execution_count": 44,
     "metadata": {},
     "output_type": "execute_result"
    }
   ],
   "source": [
    "psg_df.shape"
   ]
  },
  {
   "cell_type": "markdown",
   "id": "UsEyLZamLxGH",
   "metadata": {
    "id": "UsEyLZamLxGH"
   },
   "source": [
    "EEGとEOGは100Hzなので、0.00秒から始まっています。\n",
    "\n",
    "従って、データの合計時間は(7890000/100)/3600=約22時間です。  "
   ]
  },
  {
   "cell_type": "code",
   "execution_count": 46,
   "id": "0dd0d8c3-4936-4b93-9df6-a41ebcfa6a2b",
   "metadata": {},
   "outputs": [
    {
     "data": {
      "text/plain": [
       "(108, 8)"
      ]
     },
     "execution_count": 46,
     "metadata": {},
     "output_type": "execute_result"
    }
   ],
   "source": [
    "train_record_df.shape"
   ]
  },
  {
   "cell_type": "code",
   "execution_count": 47,
   "id": "f2252589-073a-440d-867d-9f27c33bdb3e",
   "metadata": {},
   "outputs": [
    {
     "data": {
      "text/plain": [
       "108"
      ]
     },
     "execution_count": 47,
     "metadata": {},
     "output_type": "execute_result"
    }
   ],
   "source": [
    "train_record_df['psg'].nunique()"
   ]
  },
  {
   "cell_type": "markdown",
   "id": "cb371c31-6e2b-4dc0-a0b1-df31cc8542f3",
   "metadata": {
    "id": "cb371c31-6e2b-4dc0-a0b1-df31cc8542f3"
   },
   "source": [
    "計測時間の開始は`meas_date`で取得できます  \n",
    "これを設定すると16時から翌14時過ぎまで計測していることが分かります"
   ]
  },
  {
   "cell_type": "code",
   "execution_count": 48,
   "id": "48974a80-fade-4501-a645-bf98f7aec1f6",
   "metadata": {
    "id": "48974a80-fade-4501-a645-bf98f7aec1f6"
   },
   "outputs": [],
   "source": [
    "meas_start = psg_edf.info[\"meas_date\"]\n",
    "meas_start = meas_start.replace(tzinfo=None)\n",
    "# 100Hz\n",
    "psg_df[\"meas_time\"] = pd.date_range(start=meas_start, periods=len(psg_df), freq=pd.Timedelta(1 / 100, unit=\"s\"))"
   ]
  },
  {
   "cell_type": "code",
   "execution_count": 49,
   "id": "36966128-0d0b-4f91-a0ec-8948741d11f6",
   "metadata": {
    "colab": {
     "base_uri": "https://localhost:8080/",
     "height": 424
    },
    "id": "36966128-0d0b-4f91-a0ec-8948741d11f6",
    "outputId": "9bf864d0-1a69-4626-e781-84d92a37329e"
   },
   "outputs": [
    {
     "data": {
      "text/html": [
       "<div>\n",
       "<style scoped>\n",
       "    .dataframe tbody tr th:only-of-type {\n",
       "        vertical-align: middle;\n",
       "    }\n",
       "\n",
       "    .dataframe tbody tr th {\n",
       "        vertical-align: top;\n",
       "    }\n",
       "\n",
       "    .dataframe thead th {\n",
       "        text-align: right;\n",
       "    }\n",
       "</style>\n",
       "<table border=\"1\" class=\"dataframe\">\n",
       "  <thead>\n",
       "    <tr style=\"text-align: right;\">\n",
       "      <th></th>\n",
       "      <th>time</th>\n",
       "      <th>EEG Fpz-Cz</th>\n",
       "      <th>EEG Pz-Oz</th>\n",
       "      <th>EOG horizontal</th>\n",
       "      <th>Resp oro-nasal</th>\n",
       "      <th>EMG submental</th>\n",
       "      <th>Temp rectal</th>\n",
       "      <th>Event marker</th>\n",
       "      <th>meas_time</th>\n",
       "    </tr>\n",
       "  </thead>\n",
       "  <tbody>\n",
       "    <tr>\n",
       "      <th>0</th>\n",
       "      <td>0.00</td>\n",
       "      <td>84.851770</td>\n",
       "      <td>-11.197558</td>\n",
       "      <td>-219.482051</td>\n",
       "      <td>8.800000e+07</td>\n",
       "      <td>3.234000</td>\n",
       "      <td>1.427420e+07</td>\n",
       "      <td>9.490000e+08</td>\n",
       "      <td>1989-11-13 16:35:00.000</td>\n",
       "    </tr>\n",
       "    <tr>\n",
       "      <th>1</th>\n",
       "      <td>0.01</td>\n",
       "      <td>87.957998</td>\n",
       "      <td>13.197558</td>\n",
       "      <td>-215.531868</td>\n",
       "      <td>8.790847e+07</td>\n",
       "      <td>3.233153</td>\n",
       "      <td>1.428125e+07</td>\n",
       "      <td>9.499478e+08</td>\n",
       "      <td>1989-11-13 16:35:00.010</td>\n",
       "    </tr>\n",
       "    <tr>\n",
       "      <th>2</th>\n",
       "      <td>0.02</td>\n",
       "      <td>96.862515</td>\n",
       "      <td>-3.908181</td>\n",
       "      <td>-209.112821</td>\n",
       "      <td>8.781710e+07</td>\n",
       "      <td>3.232296</td>\n",
       "      <td>1.428833e+07</td>\n",
       "      <td>9.509124e+08</td>\n",
       "      <td>1989-11-13 16:35:00.020</td>\n",
       "    </tr>\n",
       "    <tr>\n",
       "      <th>3</th>\n",
       "      <td>0.03</td>\n",
       "      <td>106.181197</td>\n",
       "      <td>-2.644689</td>\n",
       "      <td>-204.175092</td>\n",
       "      <td>8.772580e+07</td>\n",
       "      <td>3.231429</td>\n",
       "      <td>1.429543e+07</td>\n",
       "      <td>9.518927e+08</td>\n",
       "      <td>1989-11-13 16:35:00.030</td>\n",
       "    </tr>\n",
       "    <tr>\n",
       "      <th>4</th>\n",
       "      <td>0.04</td>\n",
       "      <td>102.557265</td>\n",
       "      <td>-25.095971</td>\n",
       "      <td>-198.249817</td>\n",
       "      <td>8.763449e+07</td>\n",
       "      <td>3.230552</td>\n",
       "      <td>1.430254e+07</td>\n",
       "      <td>9.528878e+08</td>\n",
       "      <td>1989-11-13 16:35:00.040</td>\n",
       "    </tr>\n",
       "    <tr>\n",
       "      <th>...</th>\n",
       "      <td>...</td>\n",
       "      <td>...</td>\n",
       "      <td>...</td>\n",
       "      <td>...</td>\n",
       "      <td>...</td>\n",
       "      <td>...</td>\n",
       "      <td>...</td>\n",
       "      <td>...</td>\n",
       "      <td>...</td>\n",
       "    </tr>\n",
       "    <tr>\n",
       "      <th>7889995</th>\n",
       "      <td>78899.95</td>\n",
       "      <td>-0.776557</td>\n",
       "      <td>-3.422222</td>\n",
       "      <td>12.097436</td>\n",
       "      <td>6.878336e+07</td>\n",
       "      <td>3.304648</td>\n",
       "      <td>1.428788e+07</td>\n",
       "      <td>9.730920e+08</td>\n",
       "      <td>1989-11-14 14:29:59.950</td>\n",
       "    </tr>\n",
       "    <tr>\n",
       "      <th>7889996</th>\n",
       "      <td>78899.96</td>\n",
       "      <td>2.950916</td>\n",
       "      <td>-1.284005</td>\n",
       "      <td>11.109890</td>\n",
       "      <td>6.845655e+07</td>\n",
       "      <td>3.304943</td>\n",
       "      <td>1.428799e+07</td>\n",
       "      <td>9.730803e+08</td>\n",
       "      <td>1989-11-14 14:29:59.960</td>\n",
       "    </tr>\n",
       "    <tr>\n",
       "      <th>7889997</th>\n",
       "      <td>78899.97</td>\n",
       "      <td>-12.476679</td>\n",
       "      <td>-0.409280</td>\n",
       "      <td>-1.728205</td>\n",
       "      <td>6.811467e+07</td>\n",
       "      <td>3.305226</td>\n",
       "      <td>1.428810e+07</td>\n",
       "      <td>9.730652e+08</td>\n",
       "      <td>1989-11-14 14:29:59.970</td>\n",
       "    </tr>\n",
       "    <tr>\n",
       "      <th>7889998</th>\n",
       "      <td>78899.98</td>\n",
       "      <td>-3.261538</td>\n",
       "      <td>-13.530159</td>\n",
       "      <td>6.172161</td>\n",
       "      <td>6.775786e+07</td>\n",
       "      <td>3.305496</td>\n",
       "      <td>1.428820e+07</td>\n",
       "      <td>9.730468e+08</td>\n",
       "      <td>1989-11-14 14:29:59.980</td>\n",
       "    </tr>\n",
       "    <tr>\n",
       "      <th>7889999</th>\n",
       "      <td>78899.99</td>\n",
       "      <td>-4.607570</td>\n",
       "      <td>18.931868</td>\n",
       "      <td>7.653480</td>\n",
       "      <td>6.738625e+07</td>\n",
       "      <td>3.305754</td>\n",
       "      <td>1.428830e+07</td>\n",
       "      <td>9.730250e+08</td>\n",
       "      <td>1989-11-14 14:29:59.990</td>\n",
       "    </tr>\n",
       "  </tbody>\n",
       "</table>\n",
       "<p>7890000 rows × 9 columns</p>\n",
       "</div>"
      ],
      "text/plain": [
       "             time  EEG Fpz-Cz  EEG Pz-Oz  EOG horizontal  Resp oro-nasal  \\\n",
       "0            0.00   84.851770 -11.197558     -219.482051    8.800000e+07   \n",
       "1            0.01   87.957998  13.197558     -215.531868    8.790847e+07   \n",
       "2            0.02   96.862515  -3.908181     -209.112821    8.781710e+07   \n",
       "3            0.03  106.181197  -2.644689     -204.175092    8.772580e+07   \n",
       "4            0.04  102.557265 -25.095971     -198.249817    8.763449e+07   \n",
       "...           ...         ...        ...             ...             ...   \n",
       "7889995  78899.95   -0.776557  -3.422222       12.097436    6.878336e+07   \n",
       "7889996  78899.96    2.950916  -1.284005       11.109890    6.845655e+07   \n",
       "7889997  78899.97  -12.476679  -0.409280       -1.728205    6.811467e+07   \n",
       "7889998  78899.98   -3.261538 -13.530159        6.172161    6.775786e+07   \n",
       "7889999  78899.99   -4.607570  18.931868        7.653480    6.738625e+07   \n",
       "\n",
       "         EMG submental   Temp rectal  Event marker               meas_time  \n",
       "0             3.234000  1.427420e+07  9.490000e+08 1989-11-13 16:35:00.000  \n",
       "1             3.233153  1.428125e+07  9.499478e+08 1989-11-13 16:35:00.010  \n",
       "2             3.232296  1.428833e+07  9.509124e+08 1989-11-13 16:35:00.020  \n",
       "3             3.231429  1.429543e+07  9.518927e+08 1989-11-13 16:35:00.030  \n",
       "4             3.230552  1.430254e+07  9.528878e+08 1989-11-13 16:35:00.040  \n",
       "...                ...           ...           ...                     ...  \n",
       "7889995       3.304648  1.428788e+07  9.730920e+08 1989-11-14 14:29:59.950  \n",
       "7889996       3.304943  1.428799e+07  9.730803e+08 1989-11-14 14:29:59.960  \n",
       "7889997       3.305226  1.428810e+07  9.730652e+08 1989-11-14 14:29:59.970  \n",
       "7889998       3.305496  1.428820e+07  9.730468e+08 1989-11-14 14:29:59.980  \n",
       "7889999       3.305754  1.428830e+07  9.730250e+08 1989-11-14 14:29:59.990  \n",
       "\n",
       "[7890000 rows x 9 columns]"
      ]
     },
     "execution_count": 49,
     "metadata": {},
     "output_type": "execute_result"
    }
   ],
   "source": [
    "psg_df"
   ]
  },
  {
   "cell_type": "markdown",
   "id": "bfc88a59-957d-4d15-857c-d7c2384ca08d",
   "metadata": {
    "id": "bfc88a59-957d-4d15-857c-d7c2384ca08d"
   },
   "source": [
    "## Hypnogramデータ(ラベル)の読み込み\n",
    "Hypnogramには睡眠段階のラベルが保存されています"
   ]
  },
  {
   "cell_type": "code",
   "execution_count": 50,
   "id": "44276d66-bb79-4cc0-b045-9e09bc2fd540",
   "metadata": {
    "id": "44276d66-bb79-4cc0-b045-9e09bc2fd540"
   },
   "outputs": [],
   "source": [
    "# Hypnogramはread_annotationsで読み込むことが可能です\n",
    "annot = mne.read_annotations(row[\"hypnogram\"])"
   ]
  },
  {
   "cell_type": "code",
   "execution_count": 51,
   "id": "e500b459-5bdf-446b-b7e0-93ff0036cf9f",
   "metadata": {
    "id": "e500b459-5bdf-446b-b7e0-93ff0036cf9f"
   },
   "outputs": [],
   "source": [
    "# 同様にto_data_frameでdataframe化できます\n",
    "annot_df = annot.to_data_frame()"
   ]
  },
  {
   "cell_type": "markdown",
   "id": "grGDVhEH-E5W",
   "metadata": {
    "id": "grGDVhEH-E5W"
   },
   "source": [
    "アノテーションは開始時間とその間隔で構成されています。  \n"
   ]
  },
  {
   "cell_type": "code",
   "execution_count": 52,
   "id": "9f8b43a2-e421-4be9-b56c-07754f0fc798",
   "metadata": {
    "colab": {
     "base_uri": "https://localhost:8080/",
     "height": 424
    },
    "id": "9f8b43a2-e421-4be9-b56c-07754f0fc798",
    "outputId": "d988d0ef-8166-4d7f-902a-67d54c1f43f2"
   },
   "outputs": [
    {
     "data": {
      "text/html": [
       "<div>\n",
       "<style scoped>\n",
       "    .dataframe tbody tr th:only-of-type {\n",
       "        vertical-align: middle;\n",
       "    }\n",
       "\n",
       "    .dataframe tbody tr th {\n",
       "        vertical-align: top;\n",
       "    }\n",
       "\n",
       "    .dataframe thead th {\n",
       "        text-align: right;\n",
       "    }\n",
       "</style>\n",
       "<table border=\"1\" class=\"dataframe\">\n",
       "  <thead>\n",
       "    <tr style=\"text-align: right;\">\n",
       "      <th></th>\n",
       "      <th>onset</th>\n",
       "      <th>duration</th>\n",
       "      <th>description</th>\n",
       "    </tr>\n",
       "  </thead>\n",
       "  <tbody>\n",
       "    <tr>\n",
       "      <th>0</th>\n",
       "      <td>1970-01-01 00:00:00</td>\n",
       "      <td>16290.0</td>\n",
       "      <td>Sleep stage W</td>\n",
       "    </tr>\n",
       "    <tr>\n",
       "      <th>1</th>\n",
       "      <td>1970-01-01 04:31:30</td>\n",
       "      <td>30.0</td>\n",
       "      <td>Sleep stage 1</td>\n",
       "    </tr>\n",
       "    <tr>\n",
       "      <th>2</th>\n",
       "      <td>1970-01-01 04:32:00</td>\n",
       "      <td>90.0</td>\n",
       "      <td>Sleep stage 2</td>\n",
       "    </tr>\n",
       "    <tr>\n",
       "      <th>3</th>\n",
       "      <td>1970-01-01 04:33:30</td>\n",
       "      <td>1890.0</td>\n",
       "      <td>Sleep stage W</td>\n",
       "    </tr>\n",
       "    <tr>\n",
       "      <th>4</th>\n",
       "      <td>1970-01-01 05:05:00</td>\n",
       "      <td>30.0</td>\n",
       "      <td>Sleep stage 1</td>\n",
       "    </tr>\n",
       "    <tr>\n",
       "      <th>...</th>\n",
       "      <td>...</td>\n",
       "      <td>...</td>\n",
       "      <td>...</td>\n",
       "    </tr>\n",
       "    <tr>\n",
       "      <th>132</th>\n",
       "      <td>1970-01-01 17:37:30</td>\n",
       "      <td>30.0</td>\n",
       "      <td>Sleep stage 1</td>\n",
       "    </tr>\n",
       "    <tr>\n",
       "      <th>133</th>\n",
       "      <td>1970-01-01 17:38:00</td>\n",
       "      <td>270.0</td>\n",
       "      <td>Sleep stage W</td>\n",
       "    </tr>\n",
       "    <tr>\n",
       "      <th>134</th>\n",
       "      <td>1970-01-01 17:42:30</td>\n",
       "      <td>30.0</td>\n",
       "      <td>Sleep stage 1</td>\n",
       "    </tr>\n",
       "    <tr>\n",
       "      <th>135</th>\n",
       "      <td>1970-01-01 17:43:00</td>\n",
       "      <td>15120.0</td>\n",
       "      <td>Sleep stage W</td>\n",
       "    </tr>\n",
       "    <tr>\n",
       "      <th>136</th>\n",
       "      <td>1970-01-01 21:55:00</td>\n",
       "      <td>7500.0</td>\n",
       "      <td>Sleep stage ?</td>\n",
       "    </tr>\n",
       "  </tbody>\n",
       "</table>\n",
       "<p>137 rows × 3 columns</p>\n",
       "</div>"
      ],
      "text/plain": [
       "                  onset  duration    description\n",
       "0   1970-01-01 00:00:00   16290.0  Sleep stage W\n",
       "1   1970-01-01 04:31:30      30.0  Sleep stage 1\n",
       "2   1970-01-01 04:32:00      90.0  Sleep stage 2\n",
       "3   1970-01-01 04:33:30    1890.0  Sleep stage W\n",
       "4   1970-01-01 05:05:00      30.0  Sleep stage 1\n",
       "..                  ...       ...            ...\n",
       "132 1970-01-01 17:37:30      30.0  Sleep stage 1\n",
       "133 1970-01-01 17:38:00     270.0  Sleep stage W\n",
       "134 1970-01-01 17:42:30      30.0  Sleep stage 1\n",
       "135 1970-01-01 17:43:00   15120.0  Sleep stage W\n",
       "136 1970-01-01 21:55:00    7500.0  Sleep stage ?\n",
       "\n",
       "[137 rows x 3 columns]"
      ]
     },
     "execution_count": 52,
     "metadata": {},
     "output_type": "execute_result"
    }
   ],
   "source": [
    "annot_df"
   ]
  },
  {
   "cell_type": "code",
   "execution_count": 53,
   "id": "78ed57d7-7d2a-4026-a439-770d871b4d6e",
   "metadata": {
    "colab": {
     "base_uri": "https://localhost:8080/"
    },
    "id": "78ed57d7-7d2a-4026-a439-770d871b4d6e",
    "outputId": "0a1134b0-da80-4832-8533-5bbda55df9a9"
   },
   "outputs": [
    {
     "data": {
      "text/plain": [
       "Sleep stage 1    47\n",
       "Sleep stage 2    39\n",
       "Sleep stage W    28\n",
       "Sleep stage 3    12\n",
       "Sleep stage R     8\n",
       "Sleep stage ?     3\n",
       "Name: description, dtype: int64"
      ]
     },
     "execution_count": 53,
     "metadata": {},
     "output_type": "execute_result"
    }
   ],
   "source": [
    "annot_df[\"description\"].value_counts()"
   ]
  },
  {
   "cell_type": "markdown",
   "id": "fd6653eb-f1f6-497b-b564-51adcaa6d14b",
   "metadata": {
    "id": "fd6653eb-f1f6-497b-b564-51adcaa6d14b"
   },
   "source": [
    "カラムの内容を簡単に説明します\n",
    "- onset：経過時間（年と日付は設定が必要なので正しくありません。この例では時間の経過のみが正しいものになります）\n",
    "- duration：アノテーションの間隔時間\n",
    "- description：睡眠段階のラベル\n",
    "\n",
    "最初と最後にかなり長い`Sleep Stage W`があることが分かります"
   ]
  },
  {
   "cell_type": "markdown",
   "id": "IDjK-146QLnN",
   "metadata": {
    "id": "IDjK-146QLnN"
   },
   "source": [
    "## 波形データとアノテーションデータの紐づけ\n",
    "波形データとアノテーションデータは別々のデータ構造を持っているため、波形データにアノテーションを紐付ける作業が必要になります。\n",
    "\n",
    "睡眠段階は30秒を1epochとして判定されるため、波形データを30秒毎に区切って1epochとして、`onset`と`duration`から睡眠段階を紐付けます。  \n",
    "これは煩雑な作業になりますが、`mne`には、この操作を行うメソッドがあります。  \n",
    "\n",
    "また、前後にかなり長い`Sleep Stage W`があります。  \n",
    "データ数を減らすため、適当に5時間で解析時間の切り捨てを行います\n",
    "\n",
    "今回は処理を簡単にするために、チャンネルに`EEG Fpz-Cz`のみを利用します(`read_raw_edf`の`include`メソッドにEEGのみを指定)  "
   ]
  },
  {
   "cell_type": "code",
   "execution_count": 54,
   "id": "BOLC4Ke3PFrg",
   "metadata": {
    "id": "BOLC4Ke3PFrg"
   },
   "outputs": [],
   "source": [
    "# 再度データを読み込みます\n",
    "# 簡単のためにEEG Fpz-Czのみ利用します\n",
    "psg_edf = mne.io.read_raw_edf(row[\"psg\"], include=[\"EEG Fpz-Cz\"], verbose=False)\n",
    "annot = mne.read_annotations(row[\"hypnogram\"])\n",
    "\n",
    "# 1時間(3600秒)*5\n",
    "truncate_start_point = 3600 * 5\n",
    "truncate_end_point = (len(psg_edf)/100) - (3600 *5)\n",
    "# 切り捨て\n",
    "annot.crop(truncate_start_point, truncate_end_point, verbose=False)\n",
    "\n",
    "# annotationデータを紐づけます\n",
    "psg_edf.set_annotations(annot, verbose=False, emit_warning=False)\n",
    "\n",
    "# 30秒毎に分割された睡眠段階\n",
    "events, _ = mne.events_from_annotations(psg_edf, event_id=RANDK_LABEL2ID, chunk_duration=30., verbose=False)\n",
    "\n",
    "# 30秒毎に1epochとする\n",
    "tmax = 30. - 1. / psg_edf.info['sfreq']\n",
    "epoch = mne.Epochs(raw=psg_edf, events=events, event_id=LABEL2ID, tmin=0, tmax=tmax, baseline=None, verbose=False, on_missing='ignore')\n",
    "\n",
    "# subjectとnightの設定 \n",
    "epoch.info[\"temp\"] = {\n",
    "    \"id\":row[\"id\"],\n",
    "    \"subject_id\":row[\"subject_id\"],\n",
    "    \"night\":row[\"night\"],\n",
    "    \"truncate_start_point\":truncate_start_point,\n",
    "    \"truncate_end_point\":truncate_end_point\n",
    "}"
   ]
  },
  {
   "cell_type": "markdown",
   "id": "5c675fed-a769-4758-b8a8-dd8b3ed4e32b",
   "metadata": {
    "id": "5c675fed-a769-4758-b8a8-dd8b3ed4e32b"
   },
   "source": [
    "`mne.epochs.Epochs`クラスは波形データにラベルを紐づけたインスタンスになります"
   ]
  },
  {
   "cell_type": "code",
   "execution_count": 55,
   "id": "c85e49fe-4e66-4ba8-a0db-370f90622833",
   "metadata": {
    "colab": {
     "base_uri": "https://localhost:8080/",
     "height": 227
    },
    "id": "c85e49fe-4e66-4ba8-a0db-370f90622833",
    "outputId": "560e1046-9163-40cb-e337-bd9f7df9869b"
   },
   "outputs": [
    {
     "name": "stdout",
     "output_type": "stream",
     "text": [
      "<class 'mne.epochs.Epochs'>\n"
     ]
    },
    {
     "data": {
      "text/html": [
       "<table class=\"table table-hover table-striped table-sm table-responsive small\">\n",
       "    <tr>\n",
       "        <th>Number of events</th>\n",
       "        <td>1430</td>\n",
       "    </tr>\n",
       "    <tr>\n",
       "        <th>Events</th>\n",
       "        \n",
       "        <td>Movement time: 20<br/>Sleep stage 1: 122<br/>Sleep stage 2: 422<br/>Sleep stage 3/4: 27<br/>Sleep stage ?: 20<br/>Sleep stage R: 35<br/>Sleep stage W: 804</td>\n",
       "        \n",
       "    </tr>\n",
       "    <tr>\n",
       "        <th>Time range</th>\n",
       "        <td>0.000 – 29.990 sec</td>\n",
       "    </tr>\n",
       "    <tr>\n",
       "        <th>Baseline</th>\n",
       "        <td>off</td>\n",
       "    </tr>\n",
       "</table>"
      ],
      "text/plain": [
       "<Epochs |  1430 events (good & bad), 0 - 29.99 sec, baseline off, ~7 kB, data not loaded,\n",
       " 'Movement time': 20\n",
       " 'Sleep stage ?': 20\n",
       " 'Sleep stage W': 804\n",
       " 'Sleep stage 1': 122\n",
       " 'Sleep stage 2': 422\n",
       " 'Sleep stage 3/4': 27\n",
       " 'Sleep stage R': 35>"
      ]
     },
     "execution_count": 55,
     "metadata": {},
     "output_type": "execute_result"
    }
   ],
   "source": [
    "print(type(epoch))\n",
    "epoch"
   ]
  },
  {
   "cell_type": "markdown",
   "id": "669a43dd-62c3-4ee3-8978-050f50e02594",
   "metadata": {
    "id": "669a43dd-62c3-4ee3-8978-050f50e02594"
   },
   "source": [
    "`RawEDF`クラスと同様にデータフレーム化できます。\n",
    "\n",
    "データフレームを生成して確認します"
   ]
  },
  {
   "cell_type": "code",
   "execution_count": 56,
   "id": "65afecbd-d962-442c-84f1-ca51104b14ec",
   "metadata": {
    "colab": {
     "base_uri": "https://localhost:8080/",
     "height": 424
    },
    "id": "65afecbd-d962-442c-84f1-ca51104b14ec",
    "outputId": "269def84-2b56-435b-c907-8b35811e99cb"
   },
   "outputs": [
    {
     "data": {
      "text/html": [
       "<div>\n",
       "<style scoped>\n",
       "    .dataframe tbody tr th:only-of-type {\n",
       "        vertical-align: middle;\n",
       "    }\n",
       "\n",
       "    .dataframe tbody tr th {\n",
       "        vertical-align: top;\n",
       "    }\n",
       "\n",
       "    .dataframe thead th {\n",
       "        text-align: right;\n",
       "    }\n",
       "</style>\n",
       "<table border=\"1\" class=\"dataframe\">\n",
       "  <thead>\n",
       "    <tr style=\"text-align: right;\">\n",
       "      <th></th>\n",
       "      <th>time</th>\n",
       "      <th>condition</th>\n",
       "      <th>epoch</th>\n",
       "      <th>EEG Fpz-Cz</th>\n",
       "    </tr>\n",
       "  </thead>\n",
       "  <tbody>\n",
       "    <tr>\n",
       "      <th>0</th>\n",
       "      <td>0.00</td>\n",
       "      <td>Sleep stage W</td>\n",
       "      <td>0</td>\n",
       "      <td>-80.295971</td>\n",
       "    </tr>\n",
       "    <tr>\n",
       "      <th>1</th>\n",
       "      <td>0.01</td>\n",
       "      <td>Sleep stage W</td>\n",
       "      <td>0</td>\n",
       "      <td>-32.252991</td>\n",
       "    </tr>\n",
       "    <tr>\n",
       "      <th>2</th>\n",
       "      <td>0.02</td>\n",
       "      <td>Sleep stage W</td>\n",
       "      <td>0</td>\n",
       "      <td>-88.165079</td>\n",
       "    </tr>\n",
       "    <tr>\n",
       "      <th>3</th>\n",
       "      <td>0.03</td>\n",
       "      <td>Sleep stage W</td>\n",
       "      <td>0</td>\n",
       "      <td>15.893529</td>\n",
       "    </tr>\n",
       "    <tr>\n",
       "      <th>4</th>\n",
       "      <td>0.04</td>\n",
       "      <td>Sleep stage W</td>\n",
       "      <td>0</td>\n",
       "      <td>23.555556</td>\n",
       "    </tr>\n",
       "    <tr>\n",
       "      <th>...</th>\n",
       "      <td>...</td>\n",
       "      <td>...</td>\n",
       "      <td>...</td>\n",
       "      <td>...</td>\n",
       "    </tr>\n",
       "    <tr>\n",
       "      <th>4289995</th>\n",
       "      <td>29.95</td>\n",
       "      <td>Sleep stage 1</td>\n",
       "      <td>1429</td>\n",
       "      <td>7.092552</td>\n",
       "    </tr>\n",
       "    <tr>\n",
       "      <th>4289996</th>\n",
       "      <td>29.96</td>\n",
       "      <td>Sleep stage 1</td>\n",
       "      <td>1429</td>\n",
       "      <td>0.155311</td>\n",
       "    </tr>\n",
       "    <tr>\n",
       "      <th>4289997</th>\n",
       "      <td>29.97</td>\n",
       "      <td>Sleep stage 1</td>\n",
       "      <td>1429</td>\n",
       "      <td>6.574847</td>\n",
       "    </tr>\n",
       "    <tr>\n",
       "      <th>4289998</th>\n",
       "      <td>29.98</td>\n",
       "      <td>Sleep stage 1</td>\n",
       "      <td>1429</td>\n",
       "      <td>-6.678388</td>\n",
       "    </tr>\n",
       "    <tr>\n",
       "      <th>4289999</th>\n",
       "      <td>29.99</td>\n",
       "      <td>Sleep stage 1</td>\n",
       "      <td>1429</td>\n",
       "      <td>9.888156</td>\n",
       "    </tr>\n",
       "  </tbody>\n",
       "</table>\n",
       "<p>4290000 rows × 4 columns</p>\n",
       "</div>"
      ],
      "text/plain": [
       "          time      condition  epoch  EEG Fpz-Cz\n",
       "0         0.00  Sleep stage W      0  -80.295971\n",
       "1         0.01  Sleep stage W      0  -32.252991\n",
       "2         0.02  Sleep stage W      0  -88.165079\n",
       "3         0.03  Sleep stage W      0   15.893529\n",
       "4         0.04  Sleep stage W      0   23.555556\n",
       "...        ...            ...    ...         ...\n",
       "4289995  29.95  Sleep stage 1   1429    7.092552\n",
       "4289996  29.96  Sleep stage 1   1429    0.155311\n",
       "4289997  29.97  Sleep stage 1   1429    6.574847\n",
       "4289998  29.98  Sleep stage 1   1429   -6.678388\n",
       "4289999  29.99  Sleep stage 1   1429    9.888156\n",
       "\n",
       "[4290000 rows x 4 columns]"
      ]
     },
     "execution_count": 56,
     "metadata": {},
     "output_type": "execute_result"
    }
   ],
   "source": [
    "epoch_df = epoch.to_data_frame(verbose=False)\n",
    "epoch_df"
   ]
  },
  {
   "cell_type": "code",
   "execution_count": 58,
   "id": "519573c1-008f-4f3b-8c9e-360bd387cd97",
   "metadata": {},
   "outputs": [
    {
     "data": {
      "text/html": [
       "<div>\n",
       "<style scoped>\n",
       "    .dataframe tbody tr th:only-of-type {\n",
       "        vertical-align: middle;\n",
       "    }\n",
       "\n",
       "    .dataframe tbody tr th {\n",
       "        vertical-align: top;\n",
       "    }\n",
       "\n",
       "    .dataframe thead th {\n",
       "        text-align: right;\n",
       "    }\n",
       "</style>\n",
       "<table border=\"1\" class=\"dataframe\">\n",
       "  <thead>\n",
       "    <tr style=\"text-align: right;\">\n",
       "      <th></th>\n",
       "      <th>time</th>\n",
       "      <th>condition</th>\n",
       "      <th>epoch</th>\n",
       "      <th>EEG Fpz-Cz</th>\n",
       "    </tr>\n",
       "  </thead>\n",
       "  <tbody>\n",
       "    <tr>\n",
       "      <th>0</th>\n",
       "      <td>0.00</td>\n",
       "      <td>Sleep stage W</td>\n",
       "      <td>0</td>\n",
       "      <td>-80.295971</td>\n",
       "    </tr>\n",
       "    <tr>\n",
       "      <th>1</th>\n",
       "      <td>0.01</td>\n",
       "      <td>Sleep stage W</td>\n",
       "      <td>0</td>\n",
       "      <td>-32.252991</td>\n",
       "    </tr>\n",
       "    <tr>\n",
       "      <th>2</th>\n",
       "      <td>0.02</td>\n",
       "      <td>Sleep stage W</td>\n",
       "      <td>0</td>\n",
       "      <td>-88.165079</td>\n",
       "    </tr>\n",
       "    <tr>\n",
       "      <th>3</th>\n",
       "      <td>0.03</td>\n",
       "      <td>Sleep stage W</td>\n",
       "      <td>0</td>\n",
       "      <td>15.893529</td>\n",
       "    </tr>\n",
       "    <tr>\n",
       "      <th>4</th>\n",
       "      <td>0.04</td>\n",
       "      <td>Sleep stage W</td>\n",
       "      <td>0</td>\n",
       "      <td>23.555556</td>\n",
       "    </tr>\n",
       "    <tr>\n",
       "      <th>...</th>\n",
       "      <td>...</td>\n",
       "      <td>...</td>\n",
       "      <td>...</td>\n",
       "      <td>...</td>\n",
       "    </tr>\n",
       "    <tr>\n",
       "      <th>2995</th>\n",
       "      <td>29.95</td>\n",
       "      <td>Sleep stage W</td>\n",
       "      <td>0</td>\n",
       "      <td>28.214896</td>\n",
       "    </tr>\n",
       "    <tr>\n",
       "      <th>2996</th>\n",
       "      <td>29.96</td>\n",
       "      <td>Sleep stage W</td>\n",
       "      <td>0</td>\n",
       "      <td>62.486935</td>\n",
       "    </tr>\n",
       "    <tr>\n",
       "      <th>2997</th>\n",
       "      <td>29.97</td>\n",
       "      <td>Sleep stage W</td>\n",
       "      <td>0</td>\n",
       "      <td>-14.961661</td>\n",
       "    </tr>\n",
       "    <tr>\n",
       "      <th>2998</th>\n",
       "      <td>29.98</td>\n",
       "      <td>Sleep stage W</td>\n",
       "      <td>0</td>\n",
       "      <td>-13.097924</td>\n",
       "    </tr>\n",
       "    <tr>\n",
       "      <th>2999</th>\n",
       "      <td>29.99</td>\n",
       "      <td>Sleep stage W</td>\n",
       "      <td>0</td>\n",
       "      <td>-31.114042</td>\n",
       "    </tr>\n",
       "  </tbody>\n",
       "</table>\n",
       "<p>3000 rows × 4 columns</p>\n",
       "</div>"
      ],
      "text/plain": [
       "       time      condition  epoch  EEG Fpz-Cz\n",
       "0      0.00  Sleep stage W      0  -80.295971\n",
       "1      0.01  Sleep stage W      0  -32.252991\n",
       "2      0.02  Sleep stage W      0  -88.165079\n",
       "3      0.03  Sleep stage W      0   15.893529\n",
       "4      0.04  Sleep stage W      0   23.555556\n",
       "...     ...            ...    ...         ...\n",
       "2995  29.95  Sleep stage W      0   28.214896\n",
       "2996  29.96  Sleep stage W      0   62.486935\n",
       "2997  29.97  Sleep stage W      0  -14.961661\n",
       "2998  29.98  Sleep stage W      0  -13.097924\n",
       "2999  29.99  Sleep stage W      0  -31.114042\n",
       "\n",
       "[3000 rows x 4 columns]"
      ]
     },
     "execution_count": 58,
     "metadata": {},
     "output_type": "execute_result"
    }
   ],
   "source": [
    "epoch_df[epoch_df['epoch'] == 0]"
   ]
  },
  {
   "cell_type": "code",
   "execution_count": 60,
   "id": "96878bad-e2cc-4f11-aa1f-a66cff946619",
   "metadata": {},
   "outputs": [
    {
     "data": {
      "text/plain": [
       "<AxesSubplot:ylabel='Frequency'>"
      ]
     },
     "execution_count": 60,
     "metadata": {},
     "output_type": "execute_result"
    },
    {
     "data": {
      "image/png": "[encoded data removed]",
      "text/plain": [
       "<Figure size 640x480 with 1 Axes>"
      ]
     },
     "metadata": {},
     "output_type": "display_data"
    }
   ],
   "source": [
    "epoch_df[epoch_df['epoch'] == 0]['EEG Fpz-Cz'].plot.hist()"
   ]
  },
  {
   "cell_type": "markdown",
   "id": "38098f04-8d97-4ce5-b5cf-9bf052919138",
   "metadata": {
    "id": "38098f04-8d97-4ce5-b5cf-9bf052919138"
   },
   "source": [
    "`epoch`のカラムが追加されていることが分かります。  \n",
    "`epoch`は0.00〜29.99秒の30秒で、1つのepochとなっていることが分かります。  \n",
    "`time`はsampling rateが100Hzなので0.00秒になっています。  "
   ]
  },
  {
   "cell_type": "markdown",
   "id": "b8b7ffdb-80ff-4890-87e8-ea659f4fab84",
   "metadata": {
    "id": "b8b7ffdb-80ff-4890-87e8-ea659f4fab84"
   },
   "source": [
    "eventsのarrayは  \n",
    "1列目が計測開始からの経過時間(10ms)  \n",
    "3列目はアノテーションのID  \n",
    "になっています（今回の例では2列目は特に考慮する必要がありません。詳しくは[ドキュメント](https://mne.tools/stable/glossary.html#term-events)をご参考下さい）"
   ]
  },
  {
   "cell_type": "code",
   "execution_count": 61,
   "id": "068a30af-57d3-40bf-bad8-ee2cc3e5848b",
   "metadata": {
    "colab": {
     "base_uri": "https://localhost:8080/"
    },
    "id": "068a30af-57d3-40bf-bad8-ee2cc3e5848b",
    "outputId": "40b1dbea-0b2a-421e-8837-d3cac34bd6d3"
   },
   "outputs": [
    {
     "data": {
      "text/plain": [
       "array([[1800000,       0,       0],\n",
       "       [1803000,       0,       0],\n",
       "       [1806000,       0,       0],\n",
       "       ...,\n",
       "       [6081000,       0,       0],\n",
       "       [6084000,       0,       1],\n",
       "       [6087000,       0,       1]])"
      ]
     },
     "execution_count": 61,
     "metadata": {},
     "output_type": "execute_result"
    }
   ],
   "source": [
    "events"
   ]
  },
  {
   "cell_type": "code",
   "execution_count": 62,
   "id": "Hb-DwQ0QHsuv",
   "metadata": {
    "colab": {
     "base_uri": "https://localhost:8080/"
    },
    "id": "Hb-DwQ0QHsuv",
    "outputId": "2cc46138-b319-4ad4-be7c-7457ac719194"
   },
   "outputs": [
    {
     "data": {
      "text/plain": [
       "(1430, 3)"
      ]
     },
     "execution_count": 62,
     "metadata": {},
     "output_type": "execute_result"
    }
   ],
   "source": [
    "# epoch数と一致することが分かります\n",
    "events.shape"
   ]
  },
  {
   "cell_type": "markdown",
   "id": "3968c437-aad9-4786-9839-67fac20e358e",
   "metadata": {
    "id": "3968c437-aad9-4786-9839-67fac20e358e"
   },
   "source": [
    "# 計測時間の設定\n",
    "\n",
    "timeカラムは0.00〜29.99秒のエポック内の秒数になっており連続した測定時間になっていません。  \n",
    "なので計測時間から連続した時間を振ります。\n",
    "\n",
    "\n",
    "データにはMeasurement date(測定日)の情報がありますが、切り捨てをしたため測定日を計算し直す必要があります。  \n",
    "具体的には、切り捨てが発生した`truncate_start_point`を`start`として測定日に設定します。  \n",
    "終了時刻は、データ点の長さ分を100Hzの時間単位で計算すれば決まります。"
   ]
  },
  {
   "cell_type": "code",
   "execution_count": 63,
   "id": "ac97984c-3038-4275-920d-4779a783179c",
   "metadata": {
    "id": "ac97984c-3038-4275-920d-4779a783179c"
   },
   "outputs": [],
   "source": [
    "# 測定日を切り捨てが発生したポイントまでスライド\n",
    "new_meas_date = epoch.info[\"meas_date\"].replace(tzinfo=None) + datetime.timedelta(seconds=epoch.info[\"temp\"][\"truncate_start_point\"])\n",
    "# 連続した時間を作成\n",
    "epoch_df[\"meas_time\"] = pd.date_range(start=new_meas_date, periods=len(epoch_df), freq=pd.Timedelta(1 / 100, unit=\"s\"))"
   ]
  },
  {
   "cell_type": "code",
   "execution_count": 64,
   "id": "c2e46f09-0a8d-4bfd-ac9f-d553368cd965",
   "metadata": {
    "colab": {
     "base_uri": "https://localhost:8080/",
     "height": 424
    },
    "id": "c2e46f09-0a8d-4bfd-ac9f-d553368cd965",
    "outputId": "aae9c7b8-67c0-40b1-bfcf-602f79bd6968"
   },
   "outputs": [
    {
     "data": {
      "text/html": [
       "<div>\n",
       "<style scoped>\n",
       "    .dataframe tbody tr th:only-of-type {\n",
       "        vertical-align: middle;\n",
       "    }\n",
       "\n",
       "    .dataframe tbody tr th {\n",
       "        vertical-align: top;\n",
       "    }\n",
       "\n",
       "    .dataframe thead th {\n",
       "        text-align: right;\n",
       "    }\n",
       "</style>\n",
       "<table border=\"1\" class=\"dataframe\">\n",
       "  <thead>\n",
       "    <tr style=\"text-align: right;\">\n",
       "      <th></th>\n",
       "      <th>time</th>\n",
       "      <th>condition</th>\n",
       "      <th>epoch</th>\n",
       "      <th>EEG Fpz-Cz</th>\n",
       "      <th>meas_time</th>\n",
       "    </tr>\n",
       "  </thead>\n",
       "  <tbody>\n",
       "    <tr>\n",
       "      <th>0</th>\n",
       "      <td>0.00</td>\n",
       "      <td>Sleep stage W</td>\n",
       "      <td>0</td>\n",
       "      <td>-80.295971</td>\n",
       "      <td>1989-11-13 21:35:00.000</td>\n",
       "    </tr>\n",
       "    <tr>\n",
       "      <th>1</th>\n",
       "      <td>0.01</td>\n",
       "      <td>Sleep stage W</td>\n",
       "      <td>0</td>\n",
       "      <td>-32.252991</td>\n",
       "      <td>1989-11-13 21:35:00.010</td>\n",
       "    </tr>\n",
       "    <tr>\n",
       "      <th>2</th>\n",
       "      <td>0.02</td>\n",
       "      <td>Sleep stage W</td>\n",
       "      <td>0</td>\n",
       "      <td>-88.165079</td>\n",
       "      <td>1989-11-13 21:35:00.020</td>\n",
       "    </tr>\n",
       "    <tr>\n",
       "      <th>3</th>\n",
       "      <td>0.03</td>\n",
       "      <td>Sleep stage W</td>\n",
       "      <td>0</td>\n",
       "      <td>15.893529</td>\n",
       "      <td>1989-11-13 21:35:00.030</td>\n",
       "    </tr>\n",
       "    <tr>\n",
       "      <th>4</th>\n",
       "      <td>0.04</td>\n",
       "      <td>Sleep stage W</td>\n",
       "      <td>0</td>\n",
       "      <td>23.555556</td>\n",
       "      <td>1989-11-13 21:35:00.040</td>\n",
       "    </tr>\n",
       "    <tr>\n",
       "      <th>...</th>\n",
       "      <td>...</td>\n",
       "      <td>...</td>\n",
       "      <td>...</td>\n",
       "      <td>...</td>\n",
       "      <td>...</td>\n",
       "    </tr>\n",
       "    <tr>\n",
       "      <th>4289995</th>\n",
       "      <td>29.95</td>\n",
       "      <td>Sleep stage 1</td>\n",
       "      <td>1429</td>\n",
       "      <td>7.092552</td>\n",
       "      <td>1989-11-14 09:29:59.950</td>\n",
       "    </tr>\n",
       "    <tr>\n",
       "      <th>4289996</th>\n",
       "      <td>29.96</td>\n",
       "      <td>Sleep stage 1</td>\n",
       "      <td>1429</td>\n",
       "      <td>0.155311</td>\n",
       "      <td>1989-11-14 09:29:59.960</td>\n",
       "    </tr>\n",
       "    <tr>\n",
       "      <th>4289997</th>\n",
       "      <td>29.97</td>\n",
       "      <td>Sleep stage 1</td>\n",
       "      <td>1429</td>\n",
       "      <td>6.574847</td>\n",
       "      <td>1989-11-14 09:29:59.970</td>\n",
       "    </tr>\n",
       "    <tr>\n",
       "      <th>4289998</th>\n",
       "      <td>29.98</td>\n",
       "      <td>Sleep stage 1</td>\n",
       "      <td>1429</td>\n",
       "      <td>-6.678388</td>\n",
       "      <td>1989-11-14 09:29:59.980</td>\n",
       "    </tr>\n",
       "    <tr>\n",
       "      <th>4289999</th>\n",
       "      <td>29.99</td>\n",
       "      <td>Sleep stage 1</td>\n",
       "      <td>1429</td>\n",
       "      <td>9.888156</td>\n",
       "      <td>1989-11-14 09:29:59.990</td>\n",
       "    </tr>\n",
       "  </tbody>\n",
       "</table>\n",
       "<p>4290000 rows × 5 columns</p>\n",
       "</div>"
      ],
      "text/plain": [
       "          time      condition  epoch  EEG Fpz-Cz               meas_time\n",
       "0         0.00  Sleep stage W      0  -80.295971 1989-11-13 21:35:00.000\n",
       "1         0.01  Sleep stage W      0  -32.252991 1989-11-13 21:35:00.010\n",
       "2         0.02  Sleep stage W      0  -88.165079 1989-11-13 21:35:00.020\n",
       "3         0.03  Sleep stage W      0   15.893529 1989-11-13 21:35:00.030\n",
       "4         0.04  Sleep stage W      0   23.555556 1989-11-13 21:35:00.040\n",
       "...        ...            ...    ...         ...                     ...\n",
       "4289995  29.95  Sleep stage 1   1429    7.092552 1989-11-14 09:29:59.950\n",
       "4289996  29.96  Sleep stage 1   1429    0.155311 1989-11-14 09:29:59.960\n",
       "4289997  29.97  Sleep stage 1   1429    6.574847 1989-11-14 09:29:59.970\n",
       "4289998  29.98  Sleep stage 1   1429   -6.678388 1989-11-14 09:29:59.980\n",
       "4289999  29.99  Sleep stage 1   1429    9.888156 1989-11-14 09:29:59.990\n",
       "\n",
       "[4290000 rows x 5 columns]"
      ]
     },
     "execution_count": 64,
     "metadata": {},
     "output_type": "execute_result"
    }
   ],
   "source": [
    "epoch_df"
   ]
  },
  {
   "cell_type": "markdown",
   "id": "25715474-2680-46d3-a47c-93cb76851864",
   "metadata": {
    "id": "25715474-2680-46d3-a47c-93cb76851864"
   },
   "source": [
    "21時から翌の9時までの睡眠の波形データとアノテーションが紐付いたデータが作成されました。  \n",
    "csvデータとして扱いたい場合、このdataframeを保存しておくとよいかもしれません。  \n",
    "\n",
    "\n",
    "関数化しておきます。"
   ]
  },
  {
   "cell_type": "code",
   "execution_count": 65,
   "id": "8488481c-33b2-4fbe-9013-173b830366f5",
   "metadata": {
    "id": "8488481c-33b2-4fbe-9013-173b830366f5"
   },
   "outputs": [],
   "source": [
    "def epoch_to_df(epoch:mne.epochs.Epochs) -> pd.DataFrame:\n",
    "    truncate_start_point = epoch.info[\"temp\"][\"truncate_start_point\"]\n",
    "    \n",
    "    df = epoch.to_data_frame(verbose=False)\n",
    "    \n",
    "    new_meas_date = epoch.info[\"meas_date\"].replace(tzinfo=None) + datetime.timedelta(seconds=truncate_start_point)\n",
    "    \n",
    "    df[\"meas_time\"] = pd.date_range(start=new_meas_date, periods=len(df), freq=pd.Timedelta(1 / 100, unit=\"s\"))\n",
    "    \n",
    "    return df"
   ]
  },
  {
   "cell_type": "code",
   "execution_count": 66,
   "id": "1b2baecd-a211-4d0e-9d77-d7689d59f121",
   "metadata": {
    "colab": {
     "base_uri": "https://localhost:8080/",
     "height": 424
    },
    "id": "1b2baecd-a211-4d0e-9d77-d7689d59f121",
    "outputId": "fb1c2549-15e1-4bd1-deff-2695458e32da"
   },
   "outputs": [
    {
     "data": {
      "text/html": [
       "<div>\n",
       "<style scoped>\n",
       "    .dataframe tbody tr th:only-of-type {\n",
       "        vertical-align: middle;\n",
       "    }\n",
       "\n",
       "    .dataframe tbody tr th {\n",
       "        vertical-align: top;\n",
       "    }\n",
       "\n",
       "    .dataframe thead th {\n",
       "        text-align: right;\n",
       "    }\n",
       "</style>\n",
       "<table border=\"1\" class=\"dataframe\">\n",
       "  <thead>\n",
       "    <tr style=\"text-align: right;\">\n",
       "      <th></th>\n",
       "      <th>time</th>\n",
       "      <th>condition</th>\n",
       "      <th>epoch</th>\n",
       "      <th>EEG Fpz-Cz</th>\n",
       "      <th>meas_time</th>\n",
       "    </tr>\n",
       "  </thead>\n",
       "  <tbody>\n",
       "    <tr>\n",
       "      <th>0</th>\n",
       "      <td>0.00</td>\n",
       "      <td>Sleep stage W</td>\n",
       "      <td>0</td>\n",
       "      <td>-80.295971</td>\n",
       "      <td>1989-11-13 21:35:00.000</td>\n",
       "    </tr>\n",
       "    <tr>\n",
       "      <th>1</th>\n",
       "      <td>0.01</td>\n",
       "      <td>Sleep stage W</td>\n",
       "      <td>0</td>\n",
       "      <td>-32.252991</td>\n",
       "      <td>1989-11-13 21:35:00.010</td>\n",
       "    </tr>\n",
       "    <tr>\n",
       "      <th>2</th>\n",
       "      <td>0.02</td>\n",
       "      <td>Sleep stage W</td>\n",
       "      <td>0</td>\n",
       "      <td>-88.165079</td>\n",
       "      <td>1989-11-13 21:35:00.020</td>\n",
       "    </tr>\n",
       "    <tr>\n",
       "      <th>3</th>\n",
       "      <td>0.03</td>\n",
       "      <td>Sleep stage W</td>\n",
       "      <td>0</td>\n",
       "      <td>15.893529</td>\n",
       "      <td>1989-11-13 21:35:00.030</td>\n",
       "    </tr>\n",
       "    <tr>\n",
       "      <th>4</th>\n",
       "      <td>0.04</td>\n",
       "      <td>Sleep stage W</td>\n",
       "      <td>0</td>\n",
       "      <td>23.555556</td>\n",
       "      <td>1989-11-13 21:35:00.040</td>\n",
       "    </tr>\n",
       "    <tr>\n",
       "      <th>...</th>\n",
       "      <td>...</td>\n",
       "      <td>...</td>\n",
       "      <td>...</td>\n",
       "      <td>...</td>\n",
       "      <td>...</td>\n",
       "    </tr>\n",
       "    <tr>\n",
       "      <th>4289995</th>\n",
       "      <td>29.95</td>\n",
       "      <td>Sleep stage 1</td>\n",
       "      <td>1429</td>\n",
       "      <td>7.092552</td>\n",
       "      <td>1989-11-14 09:29:59.950</td>\n",
       "    </tr>\n",
       "    <tr>\n",
       "      <th>4289996</th>\n",
       "      <td>29.96</td>\n",
       "      <td>Sleep stage 1</td>\n",
       "      <td>1429</td>\n",
       "      <td>0.155311</td>\n",
       "      <td>1989-11-14 09:29:59.960</td>\n",
       "    </tr>\n",
       "    <tr>\n",
       "      <th>4289997</th>\n",
       "      <td>29.97</td>\n",
       "      <td>Sleep stage 1</td>\n",
       "      <td>1429</td>\n",
       "      <td>6.574847</td>\n",
       "      <td>1989-11-14 09:29:59.970</td>\n",
       "    </tr>\n",
       "    <tr>\n",
       "      <th>4289998</th>\n",
       "      <td>29.98</td>\n",
       "      <td>Sleep stage 1</td>\n",
       "      <td>1429</td>\n",
       "      <td>-6.678388</td>\n",
       "      <td>1989-11-14 09:29:59.980</td>\n",
       "    </tr>\n",
       "    <tr>\n",
       "      <th>4289999</th>\n",
       "      <td>29.99</td>\n",
       "      <td>Sleep stage 1</td>\n",
       "      <td>1429</td>\n",
       "      <td>9.888156</td>\n",
       "      <td>1989-11-14 09:29:59.990</td>\n",
       "    </tr>\n",
       "  </tbody>\n",
       "</table>\n",
       "<p>4290000 rows × 5 columns</p>\n",
       "</div>"
      ],
      "text/plain": [
       "          time      condition  epoch  EEG Fpz-Cz               meas_time\n",
       "0         0.00  Sleep stage W      0  -80.295971 1989-11-13 21:35:00.000\n",
       "1         0.01  Sleep stage W      0  -32.252991 1989-11-13 21:35:00.010\n",
       "2         0.02  Sleep stage W      0  -88.165079 1989-11-13 21:35:00.020\n",
       "3         0.03  Sleep stage W      0   15.893529 1989-11-13 21:35:00.030\n",
       "4         0.04  Sleep stage W      0   23.555556 1989-11-13 21:35:00.040\n",
       "...        ...            ...    ...         ...                     ...\n",
       "4289995  29.95  Sleep stage 1   1429    7.092552 1989-11-14 09:29:59.950\n",
       "4289996  29.96  Sleep stage 1   1429    0.155311 1989-11-14 09:29:59.960\n",
       "4289997  29.97  Sleep stage 1   1429    6.574847 1989-11-14 09:29:59.970\n",
       "4289998  29.98  Sleep stage 1   1429   -6.678388 1989-11-14 09:29:59.980\n",
       "4289999  29.99  Sleep stage 1   1429    9.888156 1989-11-14 09:29:59.990\n",
       "\n",
       "[4290000 rows x 5 columns]"
      ]
     },
     "execution_count": 66,
     "metadata": {},
     "output_type": "execute_result"
    }
   ],
   "source": [
    "epoch_to_df(epoch)"
   ]
  },
  {
   "cell_type": "markdown",
   "id": "5a0a36f1-ef39-46fe-87e8-f56f1950e06d",
   "metadata": {
    "id": "5a0a36f1-ef39-46fe-87e8-f56f1950e06d"
   },
   "source": [
    "## submission形式への変換\n",
    "`epoch`毎にグループ化して`time`の最小値を取ることでsubmissionする形式に変換できます"
   ]
  },
  {
   "cell_type": "code",
   "execution_count": 67,
   "id": "cb1369ae-6b6e-4f7a-acb6-11056ba169b1",
   "metadata": {
    "colab": {
     "base_uri": "https://localhost:8080/",
     "height": 424
    },
    "id": "cb1369ae-6b6e-4f7a-acb6-11056ba169b1",
    "outputId": "fbcdf709-1b63-4d10-cc71-5ef05d91c082"
   },
   "outputs": [
    {
     "data": {
      "text/html": [
       "<div>\n",
       "<style scoped>\n",
       "    .dataframe tbody tr th:only-of-type {\n",
       "        vertical-align: middle;\n",
       "    }\n",
       "\n",
       "    .dataframe tbody tr th {\n",
       "        vertical-align: top;\n",
       "    }\n",
       "\n",
       "    .dataframe thead th {\n",
       "        text-align: right;\n",
       "    }\n",
       "</style>\n",
       "<table border=\"1\" class=\"dataframe\">\n",
       "  <thead>\n",
       "    <tr style=\"text-align: right;\">\n",
       "      <th></th>\n",
       "      <th>meas_time</th>\n",
       "      <th>condition</th>\n",
       "      <th>id</th>\n",
       "    </tr>\n",
       "  </thead>\n",
       "  <tbody>\n",
       "    <tr>\n",
       "      <th>0</th>\n",
       "      <td>1989-11-13 21:35:00</td>\n",
       "      <td>Sleep stage W</td>\n",
       "      <td>3c1c5cf</td>\n",
       "    </tr>\n",
       "    <tr>\n",
       "      <th>1</th>\n",
       "      <td>1989-11-13 21:35:30</td>\n",
       "      <td>Sleep stage W</td>\n",
       "      <td>3c1c5cf</td>\n",
       "    </tr>\n",
       "    <tr>\n",
       "      <th>2</th>\n",
       "      <td>1989-11-13 21:36:00</td>\n",
       "      <td>Sleep stage W</td>\n",
       "      <td>3c1c5cf</td>\n",
       "    </tr>\n",
       "    <tr>\n",
       "      <th>3</th>\n",
       "      <td>1989-11-13 21:36:30</td>\n",
       "      <td>Sleep stage W</td>\n",
       "      <td>3c1c5cf</td>\n",
       "    </tr>\n",
       "    <tr>\n",
       "      <th>4</th>\n",
       "      <td>1989-11-13 21:37:00</td>\n",
       "      <td>Sleep stage W</td>\n",
       "      <td>3c1c5cf</td>\n",
       "    </tr>\n",
       "    <tr>\n",
       "      <th>...</th>\n",
       "      <td>...</td>\n",
       "      <td>...</td>\n",
       "      <td>...</td>\n",
       "    </tr>\n",
       "    <tr>\n",
       "      <th>1425</th>\n",
       "      <td>1989-11-14 09:27:30</td>\n",
       "      <td>Sleep stage W</td>\n",
       "      <td>3c1c5cf</td>\n",
       "    </tr>\n",
       "    <tr>\n",
       "      <th>1426</th>\n",
       "      <td>1989-11-14 09:28:00</td>\n",
       "      <td>Sleep stage W</td>\n",
       "      <td>3c1c5cf</td>\n",
       "    </tr>\n",
       "    <tr>\n",
       "      <th>1427</th>\n",
       "      <td>1989-11-14 09:28:30</td>\n",
       "      <td>Sleep stage W</td>\n",
       "      <td>3c1c5cf</td>\n",
       "    </tr>\n",
       "    <tr>\n",
       "      <th>1428</th>\n",
       "      <td>1989-11-14 09:29:00</td>\n",
       "      <td>Sleep stage W</td>\n",
       "      <td>3c1c5cf</td>\n",
       "    </tr>\n",
       "    <tr>\n",
       "      <th>1429</th>\n",
       "      <td>1989-11-14 09:29:30</td>\n",
       "      <td>Sleep stage W</td>\n",
       "      <td>3c1c5cf</td>\n",
       "    </tr>\n",
       "  </tbody>\n",
       "</table>\n",
       "<p>1430 rows × 3 columns</p>\n",
       "</div>"
      ],
      "text/plain": [
       "               meas_time      condition       id\n",
       "0    1989-11-13 21:35:00  Sleep stage W  3c1c5cf\n",
       "1    1989-11-13 21:35:30  Sleep stage W  3c1c5cf\n",
       "2    1989-11-13 21:36:00  Sleep stage W  3c1c5cf\n",
       "3    1989-11-13 21:36:30  Sleep stage W  3c1c5cf\n",
       "4    1989-11-13 21:37:00  Sleep stage W  3c1c5cf\n",
       "...                  ...            ...      ...\n",
       "1425 1989-11-14 09:27:30  Sleep stage W  3c1c5cf\n",
       "1426 1989-11-14 09:28:00  Sleep stage W  3c1c5cf\n",
       "1427 1989-11-14 09:28:30  Sleep stage W  3c1c5cf\n",
       "1428 1989-11-14 09:29:00  Sleep stage W  3c1c5cf\n",
       "1429 1989-11-14 09:29:30  Sleep stage W  3c1c5cf\n",
       "\n",
       "[1430 rows x 3 columns]"
      ]
     },
     "execution_count": 67,
     "metadata": {},
     "output_type": "execute_result"
    }
   ],
   "source": [
    "label_df = epoch_df.loc[epoch_df.groupby(\"epoch\")[\"time\"].idxmin()][[\"meas_time\"]].reset_index(drop=True)\n",
    "label_df[\"condition\"] = \"Sleep stage W\"\n",
    "label_df[\"id\"] = epoch.info[\"temp\"][\"id\"]\n",
    "label_df"
   ]
  },
  {
   "cell_type": "markdown",
   "id": "8257e655-2428-47d3-9a41-848ce7eb3e1e",
   "metadata": {
    "id": "8257e655-2428-47d3-9a41-848ce7eb3e1e"
   },
   "source": [
    "関数化しておきます"
   ]
  },
  {
   "cell_type": "code",
   "execution_count": 68,
   "id": "2a7fd0c3-b24e-4358-aa8c-bf4014fc429d",
   "metadata": {
    "id": "2a7fd0c3-b24e-4358-aa8c-bf4014fc429d"
   },
   "outputs": [],
   "source": [
    "def epoch_to_sub_df(epoch_df:pd.DataFrame, id, is_train:bool) -> pd.DataFrame:\n",
    "    cols = [\"id\", \"meas_time\"]\n",
    "    if is_train:\n",
    "        # 訓練セットの場合はラベルを追加\n",
    "        cols.append(\"condition\")\n",
    "    \n",
    "    label_df = epoch_df.loc[epoch_df.groupby(\"epoch\")[\"time\"].idxmin()].reset_index(drop=True)\n",
    "    label_df[\"id\"] = id\n",
    "    \n",
    "    return label_df[cols]"
   ]
  },
  {
   "cell_type": "code",
   "execution_count": 69,
   "id": "d00fc71f-ea99-4fa2-b9c0-d7c6db7f9e5c",
   "metadata": {
    "colab": {
     "base_uri": "https://localhost:8080/",
     "height": 424
    },
    "id": "d00fc71f-ea99-4fa2-b9c0-d7c6db7f9e5c",
    "outputId": "fb704365-a295-4630-8f10-6a50e0ac2404"
   },
   "outputs": [
    {
     "data": {
      "text/html": [
       "<div>\n",
       "<style scoped>\n",
       "    .dataframe tbody tr th:only-of-type {\n",
       "        vertical-align: middle;\n",
       "    }\n",
       "\n",
       "    .dataframe tbody tr th {\n",
       "        vertical-align: top;\n",
       "    }\n",
       "\n",
       "    .dataframe thead th {\n",
       "        text-align: right;\n",
       "    }\n",
       "</style>\n",
       "<table border=\"1\" class=\"dataframe\">\n",
       "  <thead>\n",
       "    <tr style=\"text-align: right;\">\n",
       "      <th></th>\n",
       "      <th>id</th>\n",
       "      <th>meas_time</th>\n",
       "      <th>condition</th>\n",
       "    </tr>\n",
       "  </thead>\n",
       "  <tbody>\n",
       "    <tr>\n",
       "      <th>0</th>\n",
       "      <td>3c1c5cf</td>\n",
       "      <td>1989-11-13 21:35:00</td>\n",
       "      <td>Sleep stage W</td>\n",
       "    </tr>\n",
       "    <tr>\n",
       "      <th>1</th>\n",
       "      <td>3c1c5cf</td>\n",
       "      <td>1989-11-13 21:35:30</td>\n",
       "      <td>Sleep stage W</td>\n",
       "    </tr>\n",
       "    <tr>\n",
       "      <th>2</th>\n",
       "      <td>3c1c5cf</td>\n",
       "      <td>1989-11-13 21:36:00</td>\n",
       "      <td>Sleep stage W</td>\n",
       "    </tr>\n",
       "    <tr>\n",
       "      <th>3</th>\n",
       "      <td>3c1c5cf</td>\n",
       "      <td>1989-11-13 21:36:30</td>\n",
       "      <td>Sleep stage W</td>\n",
       "    </tr>\n",
       "    <tr>\n",
       "      <th>4</th>\n",
       "      <td>3c1c5cf</td>\n",
       "      <td>1989-11-13 21:37:00</td>\n",
       "      <td>Sleep stage W</td>\n",
       "    </tr>\n",
       "    <tr>\n",
       "      <th>...</th>\n",
       "      <td>...</td>\n",
       "      <td>...</td>\n",
       "      <td>...</td>\n",
       "    </tr>\n",
       "    <tr>\n",
       "      <th>1425</th>\n",
       "      <td>3c1c5cf</td>\n",
       "      <td>1989-11-14 09:27:30</td>\n",
       "      <td>Sleep stage W</td>\n",
       "    </tr>\n",
       "    <tr>\n",
       "      <th>1426</th>\n",
       "      <td>3c1c5cf</td>\n",
       "      <td>1989-11-14 09:28:00</td>\n",
       "      <td>Sleep stage W</td>\n",
       "    </tr>\n",
       "    <tr>\n",
       "      <th>1427</th>\n",
       "      <td>3c1c5cf</td>\n",
       "      <td>1989-11-14 09:28:30</td>\n",
       "      <td>Sleep stage W</td>\n",
       "    </tr>\n",
       "    <tr>\n",
       "      <th>1428</th>\n",
       "      <td>3c1c5cf</td>\n",
       "      <td>1989-11-14 09:29:00</td>\n",
       "      <td>Sleep stage 1</td>\n",
       "    </tr>\n",
       "    <tr>\n",
       "      <th>1429</th>\n",
       "      <td>3c1c5cf</td>\n",
       "      <td>1989-11-14 09:29:30</td>\n",
       "      <td>Sleep stage 1</td>\n",
       "    </tr>\n",
       "  </tbody>\n",
       "</table>\n",
       "<p>1430 rows × 3 columns</p>\n",
       "</div>"
      ],
      "text/plain": [
       "           id           meas_time      condition\n",
       "0     3c1c5cf 1989-11-13 21:35:00  Sleep stage W\n",
       "1     3c1c5cf 1989-11-13 21:35:30  Sleep stage W\n",
       "2     3c1c5cf 1989-11-13 21:36:00  Sleep stage W\n",
       "3     3c1c5cf 1989-11-13 21:36:30  Sleep stage W\n",
       "4     3c1c5cf 1989-11-13 21:37:00  Sleep stage W\n",
       "...       ...                 ...            ...\n",
       "1425  3c1c5cf 1989-11-14 09:27:30  Sleep stage W\n",
       "1426  3c1c5cf 1989-11-14 09:28:00  Sleep stage W\n",
       "1427  3c1c5cf 1989-11-14 09:28:30  Sleep stage W\n",
       "1428  3c1c5cf 1989-11-14 09:29:00  Sleep stage 1\n",
       "1429  3c1c5cf 1989-11-14 09:29:30  Sleep stage 1\n",
       "\n",
       "[1430 rows x 3 columns]"
      ]
     },
     "execution_count": 69,
     "metadata": {},
     "output_type": "execute_result"
    }
   ],
   "source": [
    "epoch_to_sub_df(epoch_df, epoch.info[\"temp\"][\"id\"], is_train=True)"
   ]
  },
  {
   "cell_type": "markdown",
   "id": "164cd284-676b-40d1-98cd-18595f9564cb",
   "metadata": {
    "id": "164cd284-676b-40d1-98cd-18595f9564cb"
   },
   "source": [
    "テストデータにはアノテーションファイルがないので`events`の行列を、先程の例で作成することはできません。  \n",
    "\n",
    "\n",
    "評価の開始と終了時刻はsample submissionにあるので、前後の切り捨て時刻を計算して求めます。  \n",
    "アノテーションのラベルIDは`0`としてダミーで生成します。"
   ]
  },
  {
   "cell_type": "code",
   "execution_count": 70,
   "id": "ef1fed26-c961-46f8-9ee1-d2f674f9e798",
   "metadata": {
    "colab": {
     "base_uri": "https://localhost:8080/"
    },
    "id": "ef1fed26-c961-46f8-9ee1-d2f674f9e798",
    "outputId": "4d07c5b2-4774-49d3-c198-c78eb2d99bb3"
   },
   "outputs": [
    {
     "name": "stdout",
     "output_type": "stream",
     "text": [
      "psg start: 1989-11-20 15:16:00,  test start: 1989-11-20 23:19:30, test end: 1989-11-21 08:10:30\n",
      "event start sencond: 29010, event end second: 60900 \n"
     ]
    }
   ],
   "source": [
    "test_row = test_record_df.iloc[0]\n",
    "psg_edf = mne.io.read_raw_edf(test_row[\"psg\"], include=[\"EEG Fpz-Cz\"], verbose=False)\n",
    "\n",
    "# PSGの開始をedfのmeas_dateから取得します\n",
    "start_psg_date = psg_edf.info[\"meas_date\"]\n",
    "# 計算のためにtimezoneを消去します\n",
    "start_psg_date = start_psg_date.replace(tzinfo=None)\n",
    "\n",
    "# sample submissionから評価される時間レンジを取得します\n",
    "test_start_time = sample_submission_df[sample_submission_df[\"id\"]==test_row[\"id\"]][\"meas_time\"].min()\n",
    "test_end_time = sample_submission_df[sample_submission_df[\"id\"]==test_row[\"id\"]][\"meas_time\"].max()\n",
    "# psgの計測開始、評価の対象の開始、評価の対象の終了\n",
    "print(f\"psg start: {start_psg_date},  test start: {test_start_time}, test end: {test_end_time}\")\n",
    "\n",
    "# psgの計測時間から評価の対象の開始と終了を経過時間(秒)になおす\n",
    "truncate_start_point = int((test_start_time - start_psg_date).total_seconds())\n",
    "truncate_end_point = int((test_end_time - start_psg_date).total_seconds())+30\n",
    "print(f\"event start sencond: {truncate_start_point}, event end second: {truncate_end_point} \")\n",
    "\n",
    "# 30秒毎にデータ点を生成\n",
    "event_range = list(range(truncate_start_point, truncate_end_point, 30))\n",
    "events = np.zeros((len(event_range), 3), dtype=int)\n",
    "events[:, 0] = event_range\n",
    "\n",
    "# 秒を10m秒に変換する\n",
    "events = events * 100"
   ]
  },
  {
   "cell_type": "code",
   "execution_count": 71,
   "id": "ce92569f-335a-4f4a-8801-3f438aa8e9a8",
   "metadata": {
    "colab": {
     "base_uri": "https://localhost:8080/"
    },
    "id": "ce92569f-335a-4f4a-8801-3f438aa8e9a8",
    "outputId": "e5bad5c5-5837-4531-88b3-2146bc675572"
   },
   "outputs": [
    {
     "data": {
      "text/plain": [
       "array([[2901000,       0,       0],\n",
       "       [2904000,       0,       0],\n",
       "       [2907000,       0,       0],\n",
       "       ...,\n",
       "       [6081000,       0,       0],\n",
       "       [6084000,       0,       0],\n",
       "       [6087000,       0,       0]])"
      ]
     },
     "execution_count": 71,
     "metadata": {},
     "output_type": "execute_result"
    }
   ],
   "source": [
    "events"
   ]
  },
  {
   "cell_type": "code",
   "execution_count": 72,
   "id": "2e798229-7c19-4860-875c-92c8a45c0d79",
   "metadata": {
    "id": "2e798229-7c19-4860-875c-92c8a45c0d79"
   },
   "outputs": [],
   "source": [
    "tmax = 30. - 1. / psg_edf.info['sfreq']\n",
    "epoch = mne.Epochs(raw=psg_edf, events=events, event_id={'Sleep stage W': 0}, tmin=0, tmax=tmax, baseline=None, verbose=False)"
   ]
  },
  {
   "cell_type": "code",
   "execution_count": 73,
   "id": "ca32eb00-5075-4ff5-b413-e62c48964877",
   "metadata": {
    "colab": {
     "base_uri": "https://localhost:8080/",
     "height": 460
    },
    "id": "ca32eb00-5075-4ff5-b413-e62c48964877",
    "outputId": "35fdbc96-da99-4611-8127-9dea94117921"
   },
   "outputs": [
    {
     "name": "stdout",
     "output_type": "stream",
     "text": [
      "Loading data for 1063 events and 3000 original time points ...\n",
      "0 bad epochs dropped\n"
     ]
    },
    {
     "data": {
      "text/html": [
       "<div>\n",
       "<style scoped>\n",
       "    .dataframe tbody tr th:only-of-type {\n",
       "        vertical-align: middle;\n",
       "    }\n",
       "\n",
       "    .dataframe tbody tr th {\n",
       "        vertical-align: top;\n",
       "    }\n",
       "\n",
       "    .dataframe thead th {\n",
       "        text-align: right;\n",
       "    }\n",
       "</style>\n",
       "<table border=\"1\" class=\"dataframe\">\n",
       "  <thead>\n",
       "    <tr style=\"text-align: right;\">\n",
       "      <th></th>\n",
       "      <th>time</th>\n",
       "      <th>condition</th>\n",
       "      <th>epoch</th>\n",
       "      <th>EEG Fpz-Cz</th>\n",
       "    </tr>\n",
       "  </thead>\n",
       "  <tbody>\n",
       "    <tr>\n",
       "      <th>0</th>\n",
       "      <td>0.00</td>\n",
       "      <td>Sleep stage W</td>\n",
       "      <td>0</td>\n",
       "      <td>-10.738462</td>\n",
       "    </tr>\n",
       "    <tr>\n",
       "      <th>1</th>\n",
       "      <td>0.01</td>\n",
       "      <td>Sleep stage W</td>\n",
       "      <td>0</td>\n",
       "      <td>-13.220513</td>\n",
       "    </tr>\n",
       "    <tr>\n",
       "      <th>2</th>\n",
       "      <td>0.02</td>\n",
       "      <td>Sleep stage W</td>\n",
       "      <td>0</td>\n",
       "      <td>-31.481319</td>\n",
       "    </tr>\n",
       "    <tr>\n",
       "      <th>3</th>\n",
       "      <td>0.03</td>\n",
       "      <td>Sleep stage W</td>\n",
       "      <td>0</td>\n",
       "      <td>-10.915751</td>\n",
       "    </tr>\n",
       "    <tr>\n",
       "      <th>4</th>\n",
       "      <td>0.04</td>\n",
       "      <td>Sleep stage W</td>\n",
       "      <td>0</td>\n",
       "      <td>-39.902564</td>\n",
       "    </tr>\n",
       "    <tr>\n",
       "      <th>...</th>\n",
       "      <td>...</td>\n",
       "      <td>...</td>\n",
       "      <td>...</td>\n",
       "      <td>...</td>\n",
       "    </tr>\n",
       "    <tr>\n",
       "      <th>3188995</th>\n",
       "      <td>29.95</td>\n",
       "      <td>Sleep stage W</td>\n",
       "      <td>1062</td>\n",
       "      <td>-37.065934</td>\n",
       "    </tr>\n",
       "    <tr>\n",
       "      <th>3188996</th>\n",
       "      <td>29.96</td>\n",
       "      <td>Sleep stage W</td>\n",
       "      <td>1062</td>\n",
       "      <td>-34.761172</td>\n",
       "    </tr>\n",
       "    <tr>\n",
       "      <th>3188997</th>\n",
       "      <td>29.97</td>\n",
       "      <td>Sleep stage W</td>\n",
       "      <td>1062</td>\n",
       "      <td>-37.331868</td>\n",
       "    </tr>\n",
       "    <tr>\n",
       "      <th>3188998</th>\n",
       "      <td>29.98</td>\n",
       "      <td>Sleep stage W</td>\n",
       "      <td>1062</td>\n",
       "      <td>-22.882784</td>\n",
       "    </tr>\n",
       "    <tr>\n",
       "      <th>3188999</th>\n",
       "      <td>29.99</td>\n",
       "      <td>Sleep stage W</td>\n",
       "      <td>1062</td>\n",
       "      <td>-30.506227</td>\n",
       "    </tr>\n",
       "  </tbody>\n",
       "</table>\n",
       "<p>3189000 rows × 4 columns</p>\n",
       "</div>"
      ],
      "text/plain": [
       "          time      condition  epoch  EEG Fpz-Cz\n",
       "0         0.00  Sleep stage W      0  -10.738462\n",
       "1         0.01  Sleep stage W      0  -13.220513\n",
       "2         0.02  Sleep stage W      0  -31.481319\n",
       "3         0.03  Sleep stage W      0  -10.915751\n",
       "4         0.04  Sleep stage W      0  -39.902564\n",
       "...        ...            ...    ...         ...\n",
       "3188995  29.95  Sleep stage W   1062  -37.065934\n",
       "3188996  29.96  Sleep stage W   1062  -34.761172\n",
       "3188997  29.97  Sleep stage W   1062  -37.331868\n",
       "3188998  29.98  Sleep stage W   1062  -22.882784\n",
       "3188999  29.99  Sleep stage W   1062  -30.506227\n",
       "\n",
       "[3189000 rows x 4 columns]"
      ]
     },
     "execution_count": 73,
     "metadata": {},
     "output_type": "execute_result"
    }
   ],
   "source": [
    "epoch.to_data_frame()"
   ]
  },
  {
   "cell_type": "markdown",
   "id": "f9651879-7f6b-47d8-b7cb-8b7760f22762",
   "metadata": {
    "id": "f9651879-7f6b-47d8-b7cb-8b7760f22762"
   },
   "source": [
    "trainとtestで以上の処理をすべて行えるように関数化しておきます"
   ]
  },
  {
   "cell_type": "code",
   "execution_count": 74,
   "id": "3a59e110-264e-48b2-842a-ec2100347378",
   "metadata": {
    "id": "3a59e110-264e-48b2-842a-ec2100347378"
   },
   "outputs": [],
   "source": [
    "def read_and_set_annoation(record_df:pd.DataFrame, include=None, is_test=False) -> List[mne.epochs.Epochs]:\n",
    "    whole_epoch_data = []\n",
    "\n",
    "    for row_id, row in tqdm(record_df.iterrows(), total=len(record_df)):        \n",
    "        # PSGファイルとHypnogram(アノテーションファイルを読み込む)\n",
    "        psg_edf = mne.io.read_raw_edf(row[\"psg\"], include=include, verbose=False)\n",
    "        \n",
    "        if not is_test:\n",
    "            # 訓練データの場合\n",
    "            annot = mne.read_annotations(row[\"hypnogram\"])\n",
    "\n",
    "            # 切り捨て\n",
    "            truncate_start_point = 3600 * 5\n",
    "            truncate_end_point = (len(psg_edf)/100) - (3600 *5)\n",
    "            annot.crop(truncate_start_point, truncate_end_point, verbose=False)\n",
    "\n",
    "            # アノテーションデータの切り捨て\n",
    "            psg_edf.set_annotations(annot, emit_warning=False)\n",
    "            events, _ = mne.events_from_annotations(psg_edf, event_id=RANDK_LABEL2ID, chunk_duration=30., verbose=False)\n",
    "            \n",
    "            event_id = LABEL2ID\n",
    "        else:\n",
    "            # テストデータの場合\n",
    "            start_psg_date = psg_edf.info[\"meas_date\"]\n",
    "            start_psg_date = start_psg_date.replace(tzinfo=None)\n",
    "\n",
    "            test_start_time = sample_submission_df[sample_submission_df[\"id\"]==row[\"id\"]][\"meas_time\"].min()\n",
    "            test_end_time = sample_submission_df[sample_submission_df[\"id\"]==row[\"id\"]][\"meas_time\"].max()\n",
    "            \n",
    "            truncate_start_point = int((test_start_time - start_psg_date).total_seconds())\n",
    "            truncate_end_point = int((test_end_time- start_psg_date).total_seconds())+30\n",
    "            \n",
    "            event_range = list(range(truncate_start_point, truncate_end_point, 30))\n",
    "            events = np.zeros((len(event_range), 3), dtype=int)\n",
    "            events[:, 0] = event_range\n",
    "            events = events * 100\n",
    "            \n",
    "            event_id = {'Sleep stage W': 0}\n",
    "            \n",
    "    \n",
    "        # 30秒毎に1epochとする\n",
    "        tmax = 30. - 1. / psg_edf.info['sfreq']\n",
    "        epoch = mne.Epochs(raw=psg_edf, events=events, event_id=event_id, tmin=0, tmax=tmax, baseline=None, verbose=False, on_missing='ignore')\n",
    "        \n",
    "        # 途中でデータが落ちてないかチェック\n",
    "        assert len(epoch.events) * 30 == truncate_end_point - truncate_start_point\n",
    "        \n",
    "        # メタデータを追加\n",
    "        epoch.info[\"temp\"] = {\n",
    "            \"id\":row[\"id\"],\n",
    "            \"subject_id\":row[\"subject_id\"],\n",
    "            \"night\":row[\"night\"],\n",
    "            \"age\":row[\"age\"],\n",
    "            \"sex\":row[\"sex\"],\n",
    "            \"truncate_start_point\":truncate_start_point\n",
    "        }\n",
    "\n",
    "        whole_epoch_data.append(epoch)\n",
    "\n",
    "    return whole_epoch_data "
   ]
  },
  {
   "cell_type": "code",
   "execution_count": 75,
   "id": "49923354-0d3d-4d18-8d45-2cae82adeeae",
   "metadata": {
    "colab": {
     "base_uri": "https://localhost:8080/",
     "height": 81,
     "referenced_widgets": [
      "fc1773a066a6431891b559aaf23235a5",
      "184f589a48ee4dad9b7d985af7ebb7f4",
      "2ddfaf2c848f48e8adfb175ff98167ee",
      "eb91cc04d2b04da4811f5f7052bac734",
      "4f2ce29237c449adab26d86721334dec",
      "54860694f2c74a83b1d54be8bae65353",
      "aa04ef62ce7e4ec08d9f5c62cd2896fa",
      "b5bc826695b5420e8586957a5100b63c",
      "d809e2257ec44c76a8f89d1d580d40da",
      "724e84efc801471ca9a8fce6fb02469d",
      "53a6d0c5917346049dabea49c2594491",
      "4509095b684d4b5ab4b887bec45d04e0",
      "695bbe82dfd44826a1999c860570e15c",
      "718eb114f8e14611b4e829998b1b8122",
      "fe9341a5d41243c8b0809c3a11295b72",
      "6ba1ae2c7ec64740b4fcfd03360077b1",
      "cff15a1ee9f0426bbd922b2feae69ef1",
      "4a58427a8a704a7d9103ef0181312aa1",
      "3ef883cb071d4a88ae582baff71c1ffb",
      "24216c3b7f8f479483f1400e0f36492e",
      "77d7014ad852491783b50871b67a1811",
      "a6f1dcefee3e48c7a9f932976db7706b"
     ]
    },
    "id": "49923354-0d3d-4d18-8d45-2cae82adeeae",
    "outputId": "b427dd13-3810-42ce-99f4-77e582defbb2",
    "tags": []
   },
   "outputs": [
    {
     "data": {
      "application/vnd.jupyter.widget-view+json": {
       "model_id": "ce2ab1aec5854459939d7eb9b2153414",
       "version_major": 2,
       "version_minor": 0
      },
      "text/plain": [
       "  0%|          | 0/50 [00:00<?, ?it/s]"
      ]
     },
     "metadata": {},
     "output_type": "display_data"
    },
    {
     "ename": "KeyboardInterrupt",
     "evalue": "",
     "output_type": "error",
     "traceback": [
      "\u001b[0;31m---------------------------------------------------------------------------\u001b[0m",
      "\u001b[0;31mKeyboardInterrupt\u001b[0m                         Traceback (most recent call last)",
      "\u001b[0;32m/tmp/ipykernel_103/2670386340.py\u001b[0m in \u001b[0;36m<module>\u001b[0;34m\u001b[0m\n\u001b[1;32m      3\u001b[0m \u001b[0mtrain_record_subset_df\u001b[0m \u001b[0;34m=\u001b[0m \u001b[0mtrain_record_df\u001b[0m\u001b[0;34m.\u001b[0m\u001b[0msample\u001b[0m\u001b[0;34m(\u001b[0m\u001b[0mn\u001b[0m\u001b[0;34m=\u001b[0m\u001b[0;36m50\u001b[0m\u001b[0;34m)\u001b[0m\u001b[0;34m.\u001b[0m\u001b[0mreset_index\u001b[0m\u001b[0;34m(\u001b[0m\u001b[0mdrop\u001b[0m\u001b[0;34m=\u001b[0m\u001b[0;32mTrue\u001b[0m\u001b[0;34m)\u001b[0m\u001b[0;34m\u001b[0m\u001b[0;34m\u001b[0m\u001b[0m\n\u001b[1;32m      4\u001b[0m \u001b[0;34m\u001b[0m\u001b[0m\n\u001b[0;32m----> 5\u001b[0;31m \u001b[0mtrain_subset_epoch\u001b[0m \u001b[0;34m=\u001b[0m \u001b[0mread_and_set_annoation\u001b[0m\u001b[0;34m(\u001b[0m\u001b[0mtrain_record_subset_df\u001b[0m\u001b[0;34m,\u001b[0m \u001b[0minclude\u001b[0m\u001b[0;34m=\u001b[0m\u001b[0;34m[\u001b[0m\u001b[0;34m\"EEG Fpz-Cz\"\u001b[0m\u001b[0;34m]\u001b[0m\u001b[0;34m,\u001b[0m \u001b[0mis_test\u001b[0m\u001b[0;34m=\u001b[0m\u001b[0;32mFalse\u001b[0m\u001b[0;34m)\u001b[0m\u001b[0;34m\u001b[0m\u001b[0;34m\u001b[0m\u001b[0m\n\u001b[0m\u001b[1;32m      6\u001b[0m \u001b[0mtest_whole_epoch\u001b[0m \u001b[0;34m=\u001b[0m \u001b[0mread_and_set_annoation\u001b[0m\u001b[0;34m(\u001b[0m\u001b[0mtest_record_df\u001b[0m\u001b[0;34m,\u001b[0m \u001b[0minclude\u001b[0m\u001b[0;34m=\u001b[0m\u001b[0;34m[\u001b[0m\u001b[0;34m\"EEG Fpz-Cz\"\u001b[0m\u001b[0;34m]\u001b[0m\u001b[0;34m,\u001b[0m \u001b[0mis_test\u001b[0m\u001b[0;34m=\u001b[0m\u001b[0;32mTrue\u001b[0m\u001b[0;34m)\u001b[0m\u001b[0;34m\u001b[0m\u001b[0;34m\u001b[0m\u001b[0m\n",
      "\u001b[0;32m/tmp/ipykernel_103/3719084047.py\u001b[0m in \u001b[0;36mread_and_set_annoation\u001b[0;34m(record_df, include, is_test)\u001b[0m\n\u001b[1;32m     17\u001b[0m             \u001b[0;31m# アノテーションデータの切り捨て\u001b[0m\u001b[0;34m\u001b[0m\u001b[0;34m\u001b[0m\u001b[0m\n\u001b[1;32m     18\u001b[0m             \u001b[0mpsg_edf\u001b[0m\u001b[0;34m.\u001b[0m\u001b[0mset_annotations\u001b[0m\u001b[0;34m(\u001b[0m\u001b[0mannot\u001b[0m\u001b[0;34m,\u001b[0m \u001b[0memit_warning\u001b[0m\u001b[0;34m=\u001b[0m\u001b[0;32mFalse\u001b[0m\u001b[0;34m)\u001b[0m\u001b[0;34m\u001b[0m\u001b[0;34m\u001b[0m\u001b[0m\n\u001b[0;32m---> 19\u001b[0;31m             \u001b[0mevents\u001b[0m\u001b[0;34m,\u001b[0m \u001b[0m_\u001b[0m \u001b[0;34m=\u001b[0m \u001b[0mmne\u001b[0m\u001b[0;34m.\u001b[0m\u001b[0mevents_from_annotations\u001b[0m\u001b[0;34m(\u001b[0m\u001b[0mpsg_edf\u001b[0m\u001b[0;34m,\u001b[0m \u001b[0mevent_id\u001b[0m\u001b[0;34m=\u001b[0m\u001b[0mRANDK_LABEL2ID\u001b[0m\u001b[0;34m,\u001b[0m \u001b[0mchunk_duration\u001b[0m\u001b[0;34m=\u001b[0m\u001b[0;36m30.\u001b[0m\u001b[0;34m,\u001b[0m \u001b[0mverbose\u001b[0m\u001b[0;34m=\u001b[0m\u001b[0;32mFalse\u001b[0m\u001b[0;34m)\u001b[0m\u001b[0;34m\u001b[0m\u001b[0;34m\u001b[0m\u001b[0m\n\u001b[0m\u001b[1;32m     20\u001b[0m \u001b[0;34m\u001b[0m\u001b[0m\n\u001b[1;32m     21\u001b[0m             \u001b[0mevent_id\u001b[0m \u001b[0;34m=\u001b[0m \u001b[0mLABEL2ID\u001b[0m\u001b[0;34m\u001b[0m\u001b[0;34m\u001b[0m\u001b[0m\n",
      "\u001b[0;32m<decorator-gen-135>\u001b[0m in \u001b[0;36mevents_from_annotations\u001b[0;34m(raw, event_id, regexp, use_rounding, chunk_duration, verbose)\u001b[0m\n",
      "\u001b[0;32m/opt/anaconda3/lib/python3.9/site-packages/mne/annotations.py\u001b[0m in \u001b[0;36mevents_from_annotations\u001b[0;34m(raw, event_id, regexp, use_rounding, chunk_duration, verbose)\u001b[0m\n\u001b[1;32m   1497\u001b[0m             \u001b[0;32mif\u001b[0m \u001b[0mgood_events\u001b[0m\u001b[0;34m.\u001b[0m\u001b[0many\u001b[0m\u001b[0;34m(\u001b[0m\u001b[0;34m)\u001b[0m\u001b[0;34m:\u001b[0m\u001b[0;34m\u001b[0m\u001b[0;34m\u001b[0m\u001b[0m\n\u001b[1;32m   1498\u001b[0m                 \u001b[0m_onsets\u001b[0m \u001b[0;34m=\u001b[0m \u001b[0m_onsets\u001b[0m\u001b[0;34m[\u001b[0m\u001b[0mgood_events\u001b[0m\u001b[0;34m]\u001b[0m\u001b[0;34m\u001b[0m\u001b[0;34m\u001b[0m\u001b[0m\n\u001b[0;32m-> 1499\u001b[0;31m                 _inds = raw.time_as_index(_onsets,\n\u001b[0m\u001b[1;32m   1500\u001b[0m                                           \u001b[0muse_rounding\u001b[0m\u001b[0;34m=\u001b[0m\u001b[0muse_rounding\u001b[0m\u001b[0;34m,\u001b[0m\u001b[0;34m\u001b[0m\u001b[0;34m\u001b[0m\u001b[0m\n\u001b[1;32m   1501\u001b[0m                                           origin=annotations.orig_time)\n",
      "\u001b[0;32m/opt/anaconda3/lib/python3.9/site-packages/mne/io/base.py\u001b[0m in \u001b[0;36mtime_as_index\u001b[0;34m(self, times, use_rounding, origin)\u001b[0m\n\u001b[1;32m    572\u001b[0m         \u001b[0mtimes\u001b[0m \u001b[0;34m=\u001b[0m \u001b[0mnp\u001b[0m\u001b[0;34m.\u001b[0m\u001b[0matleast_1d\u001b[0m\u001b[0;34m(\u001b[0m\u001b[0mtimes\u001b[0m\u001b[0;34m)\u001b[0m \u001b[0;34m+\u001b[0m \u001b[0mdelta\u001b[0m\u001b[0;34m\u001b[0m\u001b[0;34m\u001b[0m\u001b[0m\n\u001b[1;32m    573\u001b[0m \u001b[0;34m\u001b[0m\u001b[0m\n\u001b[0;32m--> 574\u001b[0;31m         \u001b[0;32mreturn\u001b[0m \u001b[0msuper\u001b[0m\u001b[0;34m(\u001b[0m\u001b[0mBaseRaw\u001b[0m\u001b[0;34m,\u001b[0m \u001b[0mself\u001b[0m\u001b[0;34m)\u001b[0m\u001b[0;34m.\u001b[0m\u001b[0mtime_as_index\u001b[0m\u001b[0;34m(\u001b[0m\u001b[0mtimes\u001b[0m\u001b[0;34m,\u001b[0m \u001b[0muse_rounding\u001b[0m\u001b[0;34m)\u001b[0m\u001b[0;34m\u001b[0m\u001b[0;34m\u001b[0m\u001b[0m\n\u001b[0m\u001b[1;32m    575\u001b[0m \u001b[0;34m\u001b[0m\u001b[0m\n\u001b[1;32m    576\u001b[0m     \u001b[0;34m@\u001b[0m\u001b[0mproperty\u001b[0m\u001b[0;34m\u001b[0m\u001b[0;34m\u001b[0m\u001b[0m\n",
      "\u001b[0;32m/opt/anaconda3/lib/python3.9/site-packages/mne/utils/mixin.py\u001b[0m in \u001b[0;36mtime_as_index\u001b[0;34m(self, times, use_rounding)\u001b[0m\n\u001b[1;32m    608\u001b[0m         \u001b[0;32melse\u001b[0m\u001b[0;34m:\u001b[0m\u001b[0;34m\u001b[0m\u001b[0;34m\u001b[0m\u001b[0m\n\u001b[1;32m    609\u001b[0m             \u001b[0msfreq\u001b[0m \u001b[0;34m=\u001b[0m \u001b[0mself\u001b[0m\u001b[0;34m.\u001b[0m\u001b[0minfo\u001b[0m\u001b[0;34m[\u001b[0m\u001b[0;34m'sfreq'\u001b[0m\u001b[0;34m]\u001b[0m\u001b[0;34m\u001b[0m\u001b[0;34m\u001b[0m\u001b[0m\n\u001b[0;32m--> 610\u001b[0;31m         \u001b[0mindex\u001b[0m \u001b[0;34m=\u001b[0m \u001b[0;34m(\u001b[0m\u001b[0mnp\u001b[0m\u001b[0;34m.\u001b[0m\u001b[0matleast_1d\u001b[0m\u001b[0;34m(\u001b[0m\u001b[0mtimes\u001b[0m\u001b[0;34m)\u001b[0m \u001b[0;34m-\u001b[0m \u001b[0mself\u001b[0m\u001b[0;34m.\u001b[0m\u001b[0mtimes\u001b[0m\u001b[0;34m[\u001b[0m\u001b[0;36m0\u001b[0m\u001b[0;34m]\u001b[0m\u001b[0;34m)\u001b[0m \u001b[0;34m*\u001b[0m \u001b[0msfreq\u001b[0m\u001b[0;34m\u001b[0m\u001b[0;34m\u001b[0m\u001b[0m\n\u001b[0m\u001b[1;32m    611\u001b[0m         \u001b[0;32mif\u001b[0m \u001b[0muse_rounding\u001b[0m\u001b[0;34m:\u001b[0m\u001b[0;34m\u001b[0m\u001b[0;34m\u001b[0m\u001b[0m\n\u001b[1;32m    612\u001b[0m             \u001b[0mindex\u001b[0m \u001b[0;34m=\u001b[0m \u001b[0mnp\u001b[0m\u001b[0;34m.\u001b[0m\u001b[0mround\u001b[0m\u001b[0;34m(\u001b[0m\u001b[0mindex\u001b[0m\u001b[0;34m)\u001b[0m\u001b[0;34m\u001b[0m\u001b[0;34m\u001b[0m\u001b[0m\n",
      "\u001b[0;32m/opt/anaconda3/lib/python3.9/site-packages/mne/io/base.py\u001b[0m in \u001b[0;36mtimes\u001b[0;34m(self)\u001b[0m\n\u001b[1;32m   1547\u001b[0m     \u001b[0;32mdef\u001b[0m \u001b[0mtimes\u001b[0m\u001b[0;34m(\u001b[0m\u001b[0mself\u001b[0m\u001b[0;34m)\u001b[0m\u001b[0;34m:\u001b[0m\u001b[0;34m\u001b[0m\u001b[0;34m\u001b[0m\u001b[0m\n\u001b[1;32m   1548\u001b[0m         \u001b[0;34m\"\"\"Time points.\"\"\"\u001b[0m\u001b[0;34m\u001b[0m\u001b[0;34m\u001b[0m\u001b[0m\n\u001b[0;32m-> 1549\u001b[0;31m         \u001b[0mout\u001b[0m \u001b[0;34m=\u001b[0m \u001b[0m_arange_div\u001b[0m\u001b[0;34m(\u001b[0m\u001b[0mself\u001b[0m\u001b[0;34m.\u001b[0m\u001b[0mn_times\u001b[0m\u001b[0;34m,\u001b[0m \u001b[0mfloat\u001b[0m\u001b[0;34m(\u001b[0m\u001b[0mself\u001b[0m\u001b[0;34m.\u001b[0m\u001b[0minfo\u001b[0m\u001b[0;34m[\u001b[0m\u001b[0;34m'sfreq'\u001b[0m\u001b[0;34m]\u001b[0m\u001b[0;34m)\u001b[0m\u001b[0;34m)\u001b[0m\u001b[0;34m\u001b[0m\u001b[0;34m\u001b[0m\u001b[0m\n\u001b[0m\u001b[1;32m   1550\u001b[0m         \u001b[0mout\u001b[0m\u001b[0;34m.\u001b[0m\u001b[0mflags\u001b[0m\u001b[0;34m[\u001b[0m\u001b[0;34m'WRITEABLE'\u001b[0m\u001b[0;34m]\u001b[0m \u001b[0;34m=\u001b[0m \u001b[0;32mFalse\u001b[0m\u001b[0;34m\u001b[0m\u001b[0;34m\u001b[0m\u001b[0m\n\u001b[1;32m   1551\u001b[0m         \u001b[0;32mreturn\u001b[0m \u001b[0mout\u001b[0m\u001b[0;34m\u001b[0m\u001b[0;34m\u001b[0m\u001b[0m\n",
      "\u001b[0;32m/opt/anaconda3/lib/python3.9/site-packages/numba/core/serialize.py\u001b[0m in \u001b[0;36m_numba_unpickle\u001b[0;34m(address, bytedata, hashed)\u001b[0m\n\u001b[1;32m     27\u001b[0m \u001b[0;34m\u001b[0m\u001b[0m\n\u001b[1;32m     28\u001b[0m \u001b[0;34m\u001b[0m\u001b[0m\n\u001b[0;32m---> 29\u001b[0;31m \u001b[0;32mdef\u001b[0m \u001b[0m_numba_unpickle\u001b[0m\u001b[0;34m(\u001b[0m\u001b[0maddress\u001b[0m\u001b[0;34m,\u001b[0m \u001b[0mbytedata\u001b[0m\u001b[0;34m,\u001b[0m \u001b[0mhashed\u001b[0m\u001b[0;34m)\u001b[0m\u001b[0;34m:\u001b[0m\u001b[0;34m\u001b[0m\u001b[0;34m\u001b[0m\u001b[0m\n\u001b[0m\u001b[1;32m     30\u001b[0m     \"\"\"Used by `numba_unpickle` from _helperlib.c\n\u001b[1;32m     31\u001b[0m \u001b[0;34m\u001b[0m\u001b[0m\n",
      "\u001b[0;31mKeyboardInterrupt\u001b[0m: "
     ]
    }
   ],
   "source": [
    "# 処理を簡単にするためにEEG Fpz-Czのみ読み込みます\n",
    "# またtrainをすべて処理するには少し時間がかかるため、ここでは半分ほどの50を利用することにします\n",
    "train_record_subset_df = train_record_df.sample(n=50).reset_index(drop=True)\n",
    "\n",
    "train_subset_epoch = read_and_set_annoation(train_record_subset_df, include=[\"EEG Fpz-Cz\"], is_test=False)\n",
    "test_whole_epoch = read_and_set_annoation(test_record_df, include=[\"EEG Fpz-Cz\"], is_test=True)"
   ]
  },
  {
   "cell_type": "markdown",
   "id": "5eeaf5da-1482-49ac-993c-c70a1814f215",
   "metadata": {
    "id": "5eeaf5da-1482-49ac-993c-c70a1814f215"
   },
   "source": [
    "# epochとlabelの関係の可視化"
   ]
  },
  {
   "cell_type": "code",
   "execution_count": 76,
   "id": "f244b278-7f62-40eb-acae-9216a3b9736b",
   "metadata": {
    "id": "f244b278-7f62-40eb-acae-9216a3b9736b"
   },
   "outputs": [],
   "source": [
    "import plotly.graph_objects as go"
   ]
  },
  {
   "cell_type": "code",
   "execution_count": 77,
   "id": "41ba69fd-d899-4b60-af5c-ff4502c12ccc",
   "metadata": {
    "id": "41ba69fd-d899-4b60-af5c-ff4502c12ccc"
   },
   "outputs": [
    {
     "ename": "NameError",
     "evalue": "name 'train_subset_epoch' is not defined",
     "output_type": "error",
     "traceback": [
      "\u001b[0;31m---------------------------------------------------------------------------\u001b[0m",
      "\u001b[0;31mNameError\u001b[0m                                 Traceback (most recent call last)",
      "\u001b[0;32m/tmp/ipykernel_103/3937164063.py\u001b[0m in \u001b[0;36m<module>\u001b[0;34m\u001b[0m\n\u001b[0;32m----> 1\u001b[0;31m \u001b[0msample_events\u001b[0m \u001b[0;34m=\u001b[0m \u001b[0mtrain_subset_epoch\u001b[0m\u001b[0;34m[\u001b[0m\u001b[0;36m0\u001b[0m\u001b[0;34m]\u001b[0m\u001b[0;34m.\u001b[0m\u001b[0mevents\u001b[0m\u001b[0;34m[\u001b[0m\u001b[0;34m:\u001b[0m\u001b[0;34m,\u001b[0m \u001b[0;36m2\u001b[0m\u001b[0;34m]\u001b[0m\u001b[0;34m\u001b[0m\u001b[0;34m\u001b[0m\u001b[0m\n\u001b[0m\u001b[1;32m      2\u001b[0m \u001b[0msample_epoch_df\u001b[0m \u001b[0;34m=\u001b[0m \u001b[0mtrain_subset_epoch\u001b[0m\u001b[0;34m[\u001b[0m\u001b[0;36m0\u001b[0m\u001b[0;34m]\u001b[0m\u001b[0;34m.\u001b[0m\u001b[0mto_data_frame\u001b[0m\u001b[0;34m(\u001b[0m\u001b[0mverbose\u001b[0m\u001b[0;34m=\u001b[0m\u001b[0;32mFalse\u001b[0m\u001b[0;34m)\u001b[0m\u001b[0;34m\u001b[0m\u001b[0;34m\u001b[0m\u001b[0m\n",
      "\u001b[0;31mNameError\u001b[0m: name 'train_subset_epoch' is not defined"
     ]
    }
   ],
   "source": [
    "sample_events = train_subset_epoch[0].events[:, 2]\n",
    "sample_epoch_df = train_subset_epoch[0].to_data_frame(verbose=False)"
   ]
  },
  {
   "cell_type": "code",
   "execution_count": null,
   "id": "1e7dd1e8-79b6-472b-ac51-e51136cac8eb",
   "metadata": {
    "colab": {
     "base_uri": "https://localhost:8080/",
     "height": 542
    },
    "id": "1e7dd1e8-79b6-472b-ac51-e51136cac8eb",
    "outputId": "714571ce-04b5-4e19-f3ea-98a24b9df630"
   },
   "outputs": [],
   "source": [
    "go.Figure(\n",
    "    data=[\n",
    "        go.Scatter(x=sample_epoch_df[\"epoch\"].unique(), y=list(map(lambda x: ID2LABEL[x], sample_events)))\n",
    "    ],\n",
    "    layout=go.Layout(\n",
    "        yaxis=dict(title=\"sleep stage\"),\n",
    "        xaxis=dict(title=\"epoch\"),\n",
    "    )\n",
    ")"
   ]
  },
  {
   "cell_type": "markdown",
   "id": "d3009892-e881-4d47-a09d-eb1c277c27e9",
   "metadata": {
    "id": "d3009892-e881-4d47-a09d-eb1c277c27e9"
   },
   "source": [
    "直感的に分かるように、同じラベルが続いているのでepoch間のLabelには強い相関がありそうです。  \n",
    "また、切り捨てを行いましたがそれでも前半に長い`Sleep Stage W`があります。切り捨て処理には工夫の余地がありそうです。"
   ]
  },
  {
   "cell_type": "markdown",
   "id": "2fe7ee6b-629b-4d3c-83e8-be63e9715304",
   "metadata": {
    "id": "2fe7ee6b-629b-4d3c-83e8-be63e9715304"
   },
   "source": [
    "センサーデータがどのようになっているか確認してみます。  \n",
    "すべてをプロットするにはデータが多すぎるため、epochの平均をとります。"
   ]
  },
  {
   "cell_type": "code",
   "execution_count": null,
   "id": "f5aa6076-b78b-4ae7-9966-fd5e82599a63",
   "metadata": {
    "id": "f5aa6076-b78b-4ae7-9966-fd5e82599a63"
   },
   "outputs": [],
   "source": [
    "epoch_grouped_df = sample_epoch_df.groupby(\"epoch\").agg({\"EEG Fpz-Cz\":\"mean\"}).reset_index()"
   ]
  },
  {
   "cell_type": "code",
   "execution_count": null,
   "id": "c93489b1-b9ac-47f2-9d7c-7d63cb4f9e71",
   "metadata": {
    "colab": {
     "base_uri": "https://localhost:8080/",
     "height": 424
    },
    "id": "c93489b1-b9ac-47f2-9d7c-7d63cb4f9e71",
    "outputId": "825acfb4-9c61-4016-e2d1-8467417885d2"
   },
   "outputs": [],
   "source": [
    "epoch_grouped_df"
   ]
  },
  {
   "cell_type": "code",
   "execution_count": null,
   "id": "deb8214f-0439-4b64-8eb1-d315af043be5",
   "metadata": {
    "colab": {
     "base_uri": "https://localhost:8080/",
     "height": 542
    },
    "id": "deb8214f-0439-4b64-8eb1-d315af043be5",
    "outputId": "1450d4ed-7076-47a3-d085-b78a36c9998e"
   },
   "outputs": [],
   "source": [
    "go.Figure(\n",
    "    data=[\n",
    "        go.Scatter(x=epoch_grouped_df[\"epoch\"], y=epoch_grouped_df[\"EEG Fpz-Cz\"]),\n",
    "    ],\n",
    "    layout=go.Layout(\n",
    "        yaxis=dict(title=\"EEG Fpz-Cz\"),\n",
    "        xaxis=dict(title=\"epoch\"),\n",
    "    )\n",
    ")"
   ]
  },
  {
   "cell_type": "markdown",
   "id": "cab653da-42b1-4243-876b-05d717ec3773",
   "metadata": {
    "id": "cab653da-42b1-4243-876b-05d717ec3773"
   },
   "source": [
    "中間では脳波の動きは小さく、前後で大きくなっています。  \n",
    "起床しているときは脳波の動きが活発になっている印象があります  "
   ]
  },
  {
   "cell_type": "markdown",
   "id": "b817e7fe-7b85-45bd-bc9a-23920ac6fe80",
   "metadata": {
    "id": "b817e7fe-7b85-45bd-bc9a-23920ac6fe80"
   },
   "source": [
    "# 特徴量エンジニアリング\n",
    "`MNE`ライブラリで紹介されている、パワースペクトル密度を使った方法を試してみます。\n",
    "\n",
    "https://mne.tools/stable/auto_tutorials/clinical/60_sleep.html#feature-engineering"
   ]
  },
  {
   "cell_type": "code",
   "execution_count": null,
   "id": "0e4fbda8-890c-4010-9c0e-2e049b8e21b5",
   "metadata": {
    "id": "0e4fbda8-890c-4010-9c0e-2e049b8e21b5"
   },
   "outputs": [],
   "source": [
    "def eeg_power_band(epochs):\n",
    "    \"\"\"EEG relative power band feature extraction.\n",
    "\n",
    "    This function takes an ``mne.Epochs`` object and creates EEG features based\n",
    "    on relative power in specific frequency bands that are compatible with\n",
    "    scikit-learn.\n",
    "\n",
    "    Parameters\n",
    "    ----------\n",
    "    epochs : Epochs\n",
    "        The data.\n",
    "\n",
    "    Returns\n",
    "    -------\n",
    "    X : numpy array of shape [n_samples, 5]\n",
    "        Transformed data. \n",
    "    \"\"\"\n",
    "    # specific frequency bands\n",
    "    FREQ_BANDS = {\"delta\": [0.5, 4.5],\n",
    "                  \"theta\": [4.5, 8.5],\n",
    "                  \"alpha\": [8.5, 11.5],\n",
    "                  \"sigma\": [11.5, 15.5],\n",
    "                  \"beta\": [15.5, 30]}\n",
    "\n",
    "    spectrum = epochs.compute_psd(picks='eeg', fmin=0.5, fmax=30. ,verbose=False)\n",
    "    psds, freqs = spectrum.get_data(return_freqs=True)\n",
    "    # Normalize the PSDs\n",
    "    psds /= np.sum(psds, axis=-1, keepdims=True)\n",
    "\n",
    "    X = []\n",
    "    for fmin, fmax in FREQ_BANDS.values():\n",
    "        psds_band = psds[:, :, (freqs >= fmin) & (freqs < fmax)].mean(axis=-1)\n",
    "        X.append(psds_band.reshape(len(psds), -1))\n",
    "\n",
    "    return np.concatenate(X, axis=1)"
   ]
  },
  {
   "cell_type": "code",
   "execution_count": null,
   "id": "45973976-b90d-4bdc-85f8-794dcd1ed853",
   "metadata": {
    "colab": {
     "base_uri": "https://localhost:8080/",
     "height": 49,
     "referenced_widgets": [
      "5409970dc1494b1cba09df668037b293",
      "2e8e48107ba840ed825f88519a123eca",
      "8eee34c6ee2e44a7b49c5db44a7d0925",
      "c439225bb371403ea84d0b917532a22f",
      "6011f4b1a141487fa32f9d540b07663e",
      "27f7dea587f94ad78880e83fe81993ec",
      "2c95fb445e2c47ac93364bc8d40846ba",
      "818e850091f04faaab5bd6f8aba8c332",
      "f30189ad2c0340aba43684da3fb21719",
      "6d5c86c364a9436c899e9dc8fceed7db",
      "e230162299d74c98a14e756f8c62a7e4"
     ]
    },
    "id": "45973976-b90d-4bdc-85f8-794dcd1ed853",
    "outputId": "d58fa97d-61d5-4774-ca1c-b89fc0e72835"
   },
   "outputs": [],
   "source": [
    "train_df = []\n",
    "for epoch in tqdm(train_subset_epoch):\n",
    "    # 波形をdataframe化\n",
    "    epoch_df = epoch_to_df(epoch)\n",
    "    # submit形式のデータフレーム生成\n",
    "    sub_df = epoch_to_sub_df(epoch_df, epoch.info[\"temp\"][\"id\"], is_train=True)\n",
    "    \n",
    "    # パワースペクトル密度計算\n",
    "    feature_df = pd.DataFrame(eeg_power_band(epoch))\n",
    "    \n",
    "    _df = pd.concat([sub_df, feature_df], axis=1)\n",
    "    # 必要ないラベルがある場合は除外する\n",
    "    _df = _df[~_df[\"condition\"].isin([\"Sleep stage ?\", \"Movement time\"])]\n",
    "    \n",
    "    train_df.append(_df)\n",
    "    \n",
    "train_df = pd.concat(train_df).reset_index(drop=True)"
   ]
  },
  {
   "cell_type": "code",
   "execution_count": null,
   "id": "d31607b8-8825-4f26-b210-ecba8a712ee5",
   "metadata": {
    "colab": {
     "base_uri": "https://localhost:8080/"
    },
    "id": "d31607b8-8825-4f26-b210-ecba8a712ee5",
    "outputId": "1043b76a-dfa4-4f03-b0b7-afa8951ee4d6"
   },
   "outputs": [],
   "source": [
    "train_df[\"condition\"].value_counts()"
   ]
  },
  {
   "cell_type": "code",
   "execution_count": null,
   "id": "b4bfca40-ffeb-4e66-8175-405143a179aa",
   "metadata": {
    "id": "b4bfca40-ffeb-4e66-8175-405143a179aa"
   },
   "outputs": [],
   "source": [
    "# ラベルIDに変換\n",
    "train_df[\"condition\"] = train_df[\"condition\"].map(LABEL2ID)"
   ]
  },
  {
   "cell_type": "code",
   "execution_count": null,
   "id": "709b12fe-6842-4738-ba8b-2f03bc3eaf06",
   "metadata": {
    "colab": {
     "base_uri": "https://localhost:8080/",
     "height": 424
    },
    "id": "709b12fe-6842-4738-ba8b-2f03bc3eaf06",
    "outputId": "289b3697-8ee9-47c7-cd9c-0a85263b1eb2"
   },
   "outputs": [],
   "source": [
    "train_df"
   ]
  },
  {
   "cell_type": "code",
   "execution_count": null,
   "id": "ca63f6c0-9b2d-4580-852d-2292c800c815",
   "metadata": {
    "colab": {
     "base_uri": "https://localhost:8080/",
     "height": 49,
     "referenced_widgets": [
      "fb2726014ecd47e0bd118ef755a31dd8",
      "23c91e1965b34cc5b068e3e225d0d8a6",
      "b23e0b4dc03944bd945d6a9234f3cf2b",
      "2958134835ff4c158e680de541c8a39b",
      "5b449025ff1c40fea42fa6f3935d0607",
      "52963750f782466eb3ed37f4c9ea8c2a",
      "3aa4bf78b132459fba9f976aaa6eefe2",
      "e4f49c276a1247a58977240b19a0affe",
      "4f277070bad640e0bd9b391f13adc8b0",
      "cdc622e8e80b48a996e38332d5aadfa7",
      "458a82bc2dea484ca9e0fedfa569bab2"
     ]
    },
    "id": "ca63f6c0-9b2d-4580-852d-2292c800c815",
    "outputId": "64e20a34-e120-44fb-c8b8-2280fe8d8b7a"
   },
   "outputs": [],
   "source": [
    "test_df = []\n",
    "for epoch in tqdm(test_whole_epoch):\n",
    "    # 波形をdataframe化\n",
    "    epoch_df = epoch_to_df(epoch)\n",
    "    # submit形式のデータフレーム生成\n",
    "    sub_df = epoch_to_sub_df(epoch_df, epoch.info[\"temp\"][\"id\"], is_train=False)\n",
    "\n",
    "    # パワースペクトル密度計算\n",
    "    feature_df = pd.DataFrame(eeg_power_band(epoch))\n",
    "    \n",
    "    _df = pd.concat([sub_df, feature_df], axis=1)\n",
    "    \n",
    "    test_df.append(pd.concat([sub_df, feature_df], axis=1))\n",
    "    \n",
    "test_df = pd.concat(test_df)"
   ]
  },
  {
   "cell_type": "markdown",
   "id": "09435253-3a9e-496f-bd7f-219e3bd9bd0c",
   "metadata": {
    "id": "09435253-3a9e-496f-bd7f-219e3bd9bd0c"
   },
   "source": [
    "# 訓練\n",
    "\n",
    "検証セットを作成します。  \n",
    "約20％の被験者を検証セットに割り当てます。  \n",
    "テストセットの分割のように、同じ被験者は検証セットに含まれないようにします。\n",
    "\n",
    "ベースラインとしてランダムフォレストを使用します"
   ]
  },
  {
   "cell_type": "code",
   "execution_count": null,
   "id": "05224fe9-22e5-4aa0-b5eb-8d35ba9d8ee7",
   "metadata": {
    "id": "05224fe9-22e5-4aa0-b5eb-8d35ba9d8ee7"
   },
   "outputs": [],
   "source": [
    "# 20％の被験者を選ぶ\n",
    "val_size = int(train_record_df[\"subject_id\"].nunique() * 0.20)\n",
    "train_all_subjects = train_record_df[\"subject_id\"].unique()\n",
    "np.random.shuffle(train_all_subjects)\n",
    "\n",
    "val_subjects = train_all_subjects[:val_size]\n",
    "val_ids = train_record_df[train_record_df[\"subject_id\"].isin(val_subjects)][\"id\"]"
   ]
  },
  {
   "cell_type": "code",
   "execution_count": null,
   "id": "cbcf92e5-cab4-4849-b10d-d7606bfb1ae0",
   "metadata": {
    "id": "cbcf92e5-cab4-4849-b10d-d7606bfb1ae0"
   },
   "outputs": [],
   "source": [
    "# 検証セットを作成します\n",
    "trn_df = train_df[~train_df[\"id\"].isin(val_ids)]\n",
    "val_df = train_df[train_df[\"id\"].isin(val_ids)]"
   ]
  },
  {
   "cell_type": "code",
   "execution_count": null,
   "id": "d0b9a248-fe1a-4ba7-9a3d-a7d3c0a11fab",
   "metadata": {
    "colab": {
     "base_uri": "https://localhost:8080/",
     "height": 424
    },
    "id": "d0b9a248-fe1a-4ba7-9a3d-a7d3c0a11fab",
    "outputId": "07e28f66-a853-435b-8091-afef02e17082"
   },
   "outputs": [],
   "source": [
    "trn_df"
   ]
  },
  {
   "cell_type": "code",
   "execution_count": null,
   "id": "373ade32-cb44-407f-b3e3-82559105bc00",
   "metadata": {
    "colab": {
     "base_uri": "https://localhost:8080/",
     "height": 424
    },
    "id": "373ade32-cb44-407f-b3e3-82559105bc00",
    "outputId": "653b3172-ad23-406c-b1ce-5f0a64ca595c"
   },
   "outputs": [],
   "source": [
    "val_df"
   ]
  },
  {
   "cell_type": "code",
   "execution_count": null,
   "id": "58b2033a-7b04-43da-9fd5-cb0edaac2dc8",
   "metadata": {
    "colab": {
     "base_uri": "https://localhost:8080/"
    },
    "id": "58b2033a-7b04-43da-9fd5-cb0edaac2dc8",
    "outputId": "d0fbace3-039e-4139-95c0-6410ed55e17e"
   },
   "outputs": [],
   "source": [
    "model = RandomForestClassifier(n_estimators=100, random_state=42)\n",
    "model.fit(trn_df.iloc[:, 3:], trn_df[\"condition\"])"
   ]
  },
  {
   "cell_type": "markdown",
   "id": "1d613d89-aa23-4c88-8424-462105209db1",
   "metadata": {
    "id": "1d613d89-aa23-4c88-8424-462105209db1"
   },
   "source": [
    "# 結果"
   ]
  },
  {
   "cell_type": "code",
   "execution_count": null,
   "id": "h1juQnMOKiUq",
   "metadata": {
    "id": "h1juQnMOKiUq"
   },
   "outputs": [],
   "source": [
    "val_preds = model.predict(val_df.iloc[:, 3:])"
   ]
  },
  {
   "cell_type": "code",
   "execution_count": null,
   "id": "wyuifnIoKl6v",
   "metadata": {
    "colab": {
     "base_uri": "https://localhost:8080/"
    },
    "id": "wyuifnIoKl6v",
    "outputId": "8b6623ab-6d13-42b8-ccd5-bdd05568b298"
   },
   "outputs": [],
   "source": [
    "score = accuracy_score(val_df[\"condition\"], val_preds)\n",
    "print(score)"
   ]
  },
  {
   "cell_type": "code",
   "execution_count": null,
   "id": "5kCt6LbDKjsz",
   "metadata": {
    "colab": {
     "base_uri": "https://localhost:8080/"
    },
    "id": "5kCt6LbDKjsz",
    "outputId": "28c47bce-5948-42c4-a4de-5dc8a65163f1"
   },
   "outputs": [],
   "source": [
    "print(classification_report(val_df[\"condition\"], val_preds,))"
   ]
  },
  {
   "cell_type": "markdown",
   "id": "KRFNdGghA9Op",
   "metadata": {
    "id": "KRFNdGghA9Op"
   },
   "source": [
    "# テストの予測"
   ]
  },
  {
   "cell_type": "code",
   "execution_count": null,
   "id": "45798bc2-869a-417b-a481-c69adaa9a2a2",
   "metadata": {
    "colab": {
     "base_uri": "https://localhost:8080/",
     "height": 424
    },
    "id": "45798bc2-869a-417b-a481-c69adaa9a2a2",
    "outputId": "96c13b65-602d-4416-fab4-d7674c8de729"
   },
   "outputs": [],
   "source": [
    "test_df"
   ]
  },
  {
   "cell_type": "code",
   "execution_count": null,
   "id": "DFdsDUePA4h1",
   "metadata": {
    "id": "DFdsDUePA4h1"
   },
   "outputs": [],
   "source": [
    "test_preds = model.predict(test_df.iloc[:, 2:])"
   ]
  },
  {
   "cell_type": "code",
   "execution_count": null,
   "id": "CudKFy6lBNID",
   "metadata": {
    "id": "CudKFy6lBNID"
   },
   "outputs": [],
   "source": [
    "sample_submission_df[\"condition\"] = test_preds"
   ]
  },
  {
   "cell_type": "code",
   "execution_count": null,
   "id": "JSDCyviqBKuH",
   "metadata": {
    "id": "JSDCyviqBKuH"
   },
   "outputs": [],
   "source": [
    "sample_submission_df[\"condition\"] = sample_submission_df[\"condition\"].map(ID2LABEL)"
   ]
  },
  {
   "cell_type": "code",
   "execution_count": null,
   "id": "hIOsgSpyB5i6",
   "metadata": {
    "colab": {
     "base_uri": "https://localhost:8080/",
     "height": 424
    },
    "id": "hIOsgSpyB5i6",
    "outputId": "9f22dad9-e46e-4461-e1d1-51c6003fa2ae"
   },
   "outputs": [],
   "source": [
    "sample_submission_df"
   ]
  },
  {
   "cell_type": "code",
   "execution_count": null,
   "id": "6e7c225e-559c-437d-a3ff-038d57340ba4",
   "metadata": {
    "colab": {
     "base_uri": "https://localhost:8080/"
    },
    "id": "6e7c225e-559c-437d-a3ff-038d57340ba4",
    "outputId": "1cda0144-810f-4b7c-f857-f2bb3c0017ab"
   },
   "outputs": [],
   "source": [
    "sample_submission_df[\"condition\"].value_counts()"
   ]
  },
  {
   "cell_type": "code",
   "execution_count": null,
   "id": "0o-TeYMBJrUi",
   "metadata": {
    "id": "0o-TeYMBJrUi"
   },
   "outputs": [],
   "source": [
    "sample_submission_df.to_csv(\"submit.csv\", index=False)"
   ]
  },
  {
   "cell_type": "markdown",
   "id": "983ffe81-da52-4f7a-979b-f0d668a49326",
   "metadata": {
    "id": "983ffe81-da52-4f7a-979b-f0d668a49326"
   },
   "source": [
    "#### 改善のヒント\n",
    "* 利用するチャンネルを増やす\n",
    "  * REM睡眠は眼球運動を伴います。眼の動きを記録したEOGチャンネルを取り入れることで精度向上の可能性があります\n",
    "* 特徴量エンジニアリングを工夫する\n",
    "  * 睡眠段階は前後のepochの睡眠段階と強い相関がありそうなので前後の特徴量を考慮できるようにする\n",
    "  * 特徴量を自動生成してくれるライブラリ等を利用する\n",
    "* 最先端の手法をためす\n",
    "    * [Paper with Code](https://paperswithcode.com/sota/sleep-stage-detection-on-sleep-edf)にSleep EDF Expandedのスコアが掲載されています\n",
    "    * 深層学習を利用したモデルなども提案されています"
   ]
  },
  {
   "cell_type": "markdown",
   "id": "0d4629a0-83c5-4d98-9ff2-ff6089289966",
   "metadata": {
    "id": "0d4629a0-83c5-4d98-9ff2-ff6089289966"
   },
   "source": [
    "# 参考文献\n",
    "[1] 八木 朝子,我が国における睡眠ポリグラフ検査（PSG）の現状,医学検査,Vol.65,1号,p1-11,2016,[doi:10.14932/jamt.15-70](https://doi.org/10.14932/jamt.15-70)  \n",
    "\n",
    "[2] 加藤 久美,睡眠関連疾患の評価法,脳と発達,Vol.49,6号,p391-395,2017,[doi:10.11251/ojjscn.49.391](https://doi.org/10.11251/ojjscn.49.391)\n",
    "\n",
    "[3] 野田 明子,睡眠検査,医学検査,Vol.66,J-STAGE-2号,p.95-105,2017,[doi:10.14932/jamt.17J2-13](https://doi.org/10.14932/jamt.17J2-13)  \n",
    "\n",
    "[4] 野田 明子,古池 保雄,終夜睡眠ポリグラフ,生体医工学,Vol.46,2号,p.134-143,2008,[doi:10.11239/jsmbe.46.134](https://doi.org/10.11239/jsmbe.46.134)"
   ]
  }
 ],
 "metadata": {
  "colab": {
   "collapsed_sections": [
    "558379c0-9a21-4a54-9ea5-da78aa21ebc2",
    "gJ-GueGP12i3",
    "bfc88a59-957d-4d15-857c-d7c2384ca08d",
    "IDjK-146QLnN",
    "3968c437-aad9-4786-9839-67fac20e358e",
    "5a0a36f1-ef39-46fe-87e8-f56f1950e06d",
    "5eeaf5da-1482-49ac-993c-c70a1814f215",
    "b817e7fe-7b85-45bd-bc9a-23920ac6fe80",
    "09435253-3a9e-496f-bd7f-219e3bd9bd0c",
    "1d613d89-aa23-4c88-8424-462105209db1",
    "KRFNdGghA9Op",
    "983ffe81-da52-4f7a-979b-f0d668a49326",
    "0d4629a0-83c5-4d98-9ff2-ff6089289966"
   ],
   "provenance": []
  },
  "kernelspec": {
   "display_name": "Python 3 (ipykernel)",
   "language": "python",
   "name": "python3"
  },
  "language_info": {
   "codemirror_mode": {
    "name": "ipython",
    "version": 3
   },
   "file_extension": ".py",
   "mimetype": "text/x-python",
   "name": "python",
   "nbconvert_exporter": "python",
   "pygments_lexer": "ipython3",
   "version": "3.9.13"
  },
  "widgets": {
   "application/vnd.jupyter.widget-state+json": {
    "184f589a48ee4dad9b7d985af7ebb7f4": {
     "model_module": "@jupyter-widgets/controls",
     "model_module_version": "1.5.0",
     "model_name": "HTMLModel",
     "state": {
      "_dom_classes": [],
      "_model_module": "@jupyter-widgets/controls",
      "_model_module_version": "1.5.0",
      "_model_name": "HTMLModel",
      "_view_count": null,
      "_view_module": "@jupyter-widgets/controls",
      "_view_module_version": "1.5.0",
      "_view_name": "HTMLView",
      "description": "",
      "description_tooltip": null,
      "layout": "IPY_MODEL_54860694f2c74a83b1d54be8bae65353",
      "placeholder": "​",
      "style": "IPY_MODEL_aa04ef62ce7e4ec08d9f5c62cd2896fa",
      "value": "100%"
     }
    },
    "23c91e1965b34cc5b068e3e225d0d8a6": {
     "model_module": "@jupyter-widgets/controls",
     "model_module_version": "1.5.0",
     "model_name": "HTMLModel",
     "state": {
      "_dom_classes": [],
      "_model_module": "@jupyter-widgets/controls",
      "_model_module_version": "1.5.0",
      "_model_name": "HTMLModel",
      "_view_count": null,
      "_view_module": "@jupyter-widgets/controls",
      "_view_module_version": "1.5.0",
      "_view_name": "HTMLView",
      "description": "",
      "description_tooltip": null,
      "layout": "IPY_MODEL_52963750f782466eb3ed37f4c9ea8c2a",
      "placeholder": "​",
      "style": "IPY_MODEL_3aa4bf78b132459fba9f976aaa6eefe2",
      "value": "100%"
     }
    },
    "24216c3b7f8f479483f1400e0f36492e": {
     "model_module": "@jupyter-widgets/controls",
     "model_module_version": "1.5.0",
     "model_name": "ProgressStyleModel",
     "state": {
      "_model_module": "@jupyter-widgets/controls",
      "_model_module_version": "1.5.0",
      "_model_name": "ProgressStyleModel",
      "_view_count": null,
      "_view_module": "@jupyter-widgets/base",
      "_view_module_version": "1.2.0",
      "_view_name": "StyleView",
      "bar_color": null,
      "description_width": ""
     }
    },
    "27f7dea587f94ad78880e83fe81993ec": {
     "model_module": "@jupyter-widgets/base",
     "model_module_version": "1.2.0",
     "model_name": "LayoutModel",
     "state": {
      "_model_module": "@jupyter-widgets/base",
      "_model_module_version": "1.2.0",
      "_model_name": "LayoutModel",
      "_view_count": null,
      "_view_module": "@jupyter-widgets/base",
      "_view_module_version": "1.2.0",
      "_view_name": "LayoutView",
      "align_content": null,
      "align_items": null,
      "align_self": null,
      "border": null,
      "bottom": null,
      "display": null,
      "flex": null,
      "flex_flow": null,
      "grid_area": null,
      "grid_auto_columns": null,
      "grid_auto_flow": null,
      "grid_auto_rows": null,
      "grid_column": null,
      "grid_gap": null,
      "grid_row": null,
      "grid_template_areas": null,
      "grid_template_columns": null,
      "grid_template_rows": null,
      "height": null,
      "justify_content": null,
      "justify_items": null,
      "left": null,
      "margin": null,
      "max_height": null,
      "max_width": null,
      "min_height": null,
      "min_width": null,
      "object_fit": null,
      "object_position": null,
      "order": null,
      "overflow": null,
      "overflow_x": null,
      "overflow_y": null,
      "padding": null,
      "right": null,
      "top": null,
      "visibility": null,
      "width": null
     }
    },
    "2958134835ff4c158e680de541c8a39b": {
     "model_module": "@jupyter-widgets/controls",
     "model_module_version": "1.5.0",
     "model_name": "HTMLModel",
     "state": {
      "_dom_classes": [],
      "_model_module": "@jupyter-widgets/controls",
      "_model_module_version": "1.5.0",
      "_model_name": "HTMLModel",
      "_view_count": null,
      "_view_module": "@jupyter-widgets/controls",
      "_view_module_version": "1.5.0",
      "_view_name": "HTMLView",
      "description": "",
      "description_tooltip": null,
      "layout": "IPY_MODEL_cdc622e8e80b48a996e38332d5aadfa7",
      "placeholder": "​",
      "style": "IPY_MODEL_458a82bc2dea484ca9e0fedfa569bab2",
      "value": " 45/45 [01:19&lt;00:00,  2.17s/it]"
     }
    },
    "2c95fb445e2c47ac93364bc8d40846ba": {
     "model_module": "@jupyter-widgets/controls",
     "model_module_version": "1.5.0",
     "model_name": "DescriptionStyleModel",
     "state": {
      "_model_module": "@jupyter-widgets/controls",
      "_model_module_version": "1.5.0",
      "_model_name": "DescriptionStyleModel",
      "_view_count": null,
      "_view_module": "@jupyter-widgets/base",
      "_view_module_version": "1.2.0",
      "_view_name": "StyleView",
      "description_width": ""
     }
    },
    "2ddfaf2c848f48e8adfb175ff98167ee": {
     "model_module": "@jupyter-widgets/controls",
     "model_module_version": "1.5.0",
     "model_name": "FloatProgressModel",
     "state": {
      "_dom_classes": [],
      "_model_module": "@jupyter-widgets/controls",
      "_model_module_version": "1.5.0",
      "_model_name": "FloatProgressModel",
      "_view_count": null,
      "_view_module": "@jupyter-widgets/controls",
      "_view_module_version": "1.5.0",
      "_view_name": "ProgressView",
      "bar_style": "success",
      "description": "",
      "description_tooltip": null,
      "layout": "IPY_MODEL_b5bc826695b5420e8586957a5100b63c",
      "max": 50,
      "min": 0,
      "orientation": "horizontal",
      "style": "IPY_MODEL_d809e2257ec44c76a8f89d1d580d40da",
      "value": 50
     }
    },
    "2e8e48107ba840ed825f88519a123eca": {
     "model_module": "@jupyter-widgets/controls",
     "model_module_version": "1.5.0",
     "model_name": "HTMLModel",
     "state": {
      "_dom_classes": [],
      "_model_module": "@jupyter-widgets/controls",
      "_model_module_version": "1.5.0",
      "_model_name": "HTMLModel",
      "_view_count": null,
      "_view_module": "@jupyter-widgets/controls",
      "_view_module_version": "1.5.0",
      "_view_name": "HTMLView",
      "description": "",
      "description_tooltip": null,
      "layout": "IPY_MODEL_27f7dea587f94ad78880e83fe81993ec",
      "placeholder": "​",
      "style": "IPY_MODEL_2c95fb445e2c47ac93364bc8d40846ba",
      "value": "100%"
     }
    },
    "3aa4bf78b132459fba9f976aaa6eefe2": {
     "model_module": "@jupyter-widgets/controls",
     "model_module_version": "1.5.0",
     "model_name": "DescriptionStyleModel",
     "state": {
      "_model_module": "@jupyter-widgets/controls",
      "_model_module_version": "1.5.0",
      "_model_name": "DescriptionStyleModel",
      "_view_count": null,
      "_view_module": "@jupyter-widgets/base",
      "_view_module_version": "1.2.0",
      "_view_name": "StyleView",
      "description_width": ""
     }
    },
    "3ef883cb071d4a88ae582baff71c1ffb": {
     "model_module": "@jupyter-widgets/base",
     "model_module_version": "1.2.0",
     "model_name": "LayoutModel",
     "state": {
      "_model_module": "@jupyter-widgets/base",
      "_model_module_version": "1.2.0",
      "_model_name": "LayoutModel",
      "_view_count": null,
      "_view_module": "@jupyter-widgets/base",
      "_view_module_version": "1.2.0",
      "_view_name": "LayoutView",
      "align_content": null,
      "align_items": null,
      "align_self": null,
      "border": null,
      "bottom": null,
      "display": null,
      "flex": null,
      "flex_flow": null,
      "grid_area": null,
      "grid_auto_columns": null,
      "grid_auto_flow": null,
      "grid_auto_rows": null,
      "grid_column": null,
      "grid_gap": null,
      "grid_row": null,
      "grid_template_areas": null,
      "grid_template_columns": null,
      "grid_template_rows": null,
      "height": null,
      "justify_content": null,
      "justify_items": null,
      "left": null,
      "margin": null,
      "max_height": null,
      "max_width": null,
      "min_height": null,
      "min_width": null,
      "object_fit": null,
      "object_position": null,
      "order": null,
      "overflow": null,
      "overflow_x": null,
      "overflow_y": null,
      "padding": null,
      "right": null,
      "top": null,
      "visibility": null,
      "width": null
     }
    },
    "4509095b684d4b5ab4b887bec45d04e0": {
     "model_module": "@jupyter-widgets/controls",
     "model_module_version": "1.5.0",
     "model_name": "HBoxModel",
     "state": {
      "_dom_classes": [],
      "_model_module": "@jupyter-widgets/controls",
      "_model_module_version": "1.5.0",
      "_model_name": "HBoxModel",
      "_view_count": null,
      "_view_module": "@jupyter-widgets/controls",
      "_view_module_version": "1.5.0",
      "_view_name": "HBoxView",
      "box_style": "",
      "children": [
       "IPY_MODEL_695bbe82dfd44826a1999c860570e15c",
       "IPY_MODEL_718eb114f8e14611b4e829998b1b8122",
       "IPY_MODEL_fe9341a5d41243c8b0809c3a11295b72"
      ],
      "layout": "IPY_MODEL_6ba1ae2c7ec64740b4fcfd03360077b1"
     }
    },
    "458a82bc2dea484ca9e0fedfa569bab2": {
     "model_module": "@jupyter-widgets/controls",
     "model_module_version": "1.5.0",
     "model_name": "DescriptionStyleModel",
     "state": {
      "_model_module": "@jupyter-widgets/controls",
      "_model_module_version": "1.5.0",
      "_model_name": "DescriptionStyleModel",
      "_view_count": null,
      "_view_module": "@jupyter-widgets/base",
      "_view_module_version": "1.2.0",
      "_view_name": "StyleView",
      "description_width": ""
     }
    },
    "4a58427a8a704a7d9103ef0181312aa1": {
     "model_module": "@jupyter-widgets/controls",
     "model_module_version": "1.5.0",
     "model_name": "DescriptionStyleModel",
     "state": {
      "_model_module": "@jupyter-widgets/controls",
      "_model_module_version": "1.5.0",
      "_model_name": "DescriptionStyleModel",
      "_view_count": null,
      "_view_module": "@jupyter-widgets/base",
      "_view_module_version": "1.2.0",
      "_view_name": "StyleView",
      "description_width": ""
     }
    },
    "4f277070bad640e0bd9b391f13adc8b0": {
     "model_module": "@jupyter-widgets/controls",
     "model_module_version": "1.5.0",
     "model_name": "ProgressStyleModel",
     "state": {
      "_model_module": "@jupyter-widgets/controls",
      "_model_module_version": "1.5.0",
      "_model_name": "ProgressStyleModel",
      "_view_count": null,
      "_view_module": "@jupyter-widgets/base",
      "_view_module_version": "1.2.0",
      "_view_name": "StyleView",
      "bar_color": null,
      "description_width": ""
     }
    },
    "4f2ce29237c449adab26d86721334dec": {
     "model_module": "@jupyter-widgets/base",
     "model_module_version": "1.2.0",
     "model_name": "LayoutModel",
     "state": {
      "_model_module": "@jupyter-widgets/base",
      "_model_module_version": "1.2.0",
      "_model_name": "LayoutModel",
      "_view_count": null,
      "_view_module": "@jupyter-widgets/base",
      "_view_module_version": "1.2.0",
      "_view_name": "LayoutView",
      "align_content": null,
      "align_items": null,
      "align_self": null,
      "border": null,
      "bottom": null,
      "display": null,
      "flex": null,
      "flex_flow": null,
      "grid_area": null,
      "grid_auto_columns": null,
      "grid_auto_flow": null,
      "grid_auto_rows": null,
      "grid_column": null,
      "grid_gap": null,
      "grid_row": null,
      "grid_template_areas": null,
      "grid_template_columns": null,
      "grid_template_rows": null,
      "height": null,
      "justify_content": null,
      "justify_items": null,
      "left": null,
      "margin": null,
      "max_height": null,
      "max_width": null,
      "min_height": null,
      "min_width": null,
      "object_fit": null,
      "object_position": null,
      "order": null,
      "overflow": null,
      "overflow_x": null,
      "overflow_y": null,
      "padding": null,
      "right": null,
      "top": null,
      "visibility": null,
      "width": null
     }
    },
    "52963750f782466eb3ed37f4c9ea8c2a": {
     "model_module": "@jupyter-widgets/base",
     "model_module_version": "1.2.0",
     "model_name": "LayoutModel",
     "state": {
      "_model_module": "@jupyter-widgets/base",
      "_model_module_version": "1.2.0",
      "_model_name": "LayoutModel",
      "_view_count": null,
      "_view_module": "@jupyter-widgets/base",
      "_view_module_version": "1.2.0",
      "_view_name": "LayoutView",
      "align_content": null,
      "align_items": null,
      "align_self": null,
      "border": null,
      "bottom": null,
      "display": null,
      "flex": null,
      "flex_flow": null,
      "grid_area": null,
      "grid_auto_columns": null,
      "grid_auto_flow": null,
      "grid_auto_rows": null,
      "grid_column": null,
      "grid_gap": null,
      "grid_row": null,
      "grid_template_areas": null,
      "grid_template_columns": null,
      "grid_template_rows": null,
      "height": null,
      "justify_content": null,
      "justify_items": null,
      "left": null,
      "margin": null,
      "max_height": null,
      "max_width": null,
      "min_height": null,
      "min_width": null,
      "object_fit": null,
      "object_position": null,
      "order": null,
      "overflow": null,
      "overflow_x": null,
      "overflow_y": null,
      "padding": null,
      "right": null,
      "top": null,
      "visibility": null,
      "width": null
     }
    },
    "53a6d0c5917346049dabea49c2594491": {
     "model_module": "@jupyter-widgets/controls",
     "model_module_version": "1.5.0",
     "model_name": "DescriptionStyleModel",
     "state": {
      "_model_module": "@jupyter-widgets/controls",
      "_model_module_version": "1.5.0",
      "_model_name": "DescriptionStyleModel",
      "_view_count": null,
      "_view_module": "@jupyter-widgets/base",
      "_view_module_version": "1.2.0",
      "_view_name": "StyleView",
      "description_width": ""
     }
    },
    "5409970dc1494b1cba09df668037b293": {
     "model_module": "@jupyter-widgets/controls",
     "model_module_version": "1.5.0",
     "model_name": "HBoxModel",
     "state": {
      "_dom_classes": [],
      "_model_module": "@jupyter-widgets/controls",
      "_model_module_version": "1.5.0",
      "_model_name": "HBoxModel",
      "_view_count": null,
      "_view_module": "@jupyter-widgets/controls",
      "_view_module_version": "1.5.0",
      "_view_name": "HBoxView",
      "box_style": "",
      "children": [
       "IPY_MODEL_2e8e48107ba840ed825f88519a123eca",
       "IPY_MODEL_8eee34c6ee2e44a7b49c5db44a7d0925",
       "IPY_MODEL_c439225bb371403ea84d0b917532a22f"
      ],
      "layout": "IPY_MODEL_6011f4b1a141487fa32f9d540b07663e"
     }
    },
    "54860694f2c74a83b1d54be8bae65353": {
     "model_module": "@jupyter-widgets/base",
     "model_module_version": "1.2.0",
     "model_name": "LayoutModel",
     "state": {
      "_model_module": "@jupyter-widgets/base",
      "_model_module_version": "1.2.0",
      "_model_name": "LayoutModel",
      "_view_count": null,
      "_view_module": "@jupyter-widgets/base",
      "_view_module_version": "1.2.0",
      "_view_name": "LayoutView",
      "align_content": null,
      "align_items": null,
      "align_self": null,
      "border": null,
      "bottom": null,
      "display": null,
      "flex": null,
      "flex_flow": null,
      "grid_area": null,
      "grid_auto_columns": null,
      "grid_auto_flow": null,
      "grid_auto_rows": null,
      "grid_column": null,
      "grid_gap": null,
      "grid_row": null,
      "grid_template_areas": null,
      "grid_template_columns": null,
      "grid_template_rows": null,
      "height": null,
      "justify_content": null,
      "justify_items": null,
      "left": null,
      "margin": null,
      "max_height": null,
      "max_width": null,
      "min_height": null,
      "min_width": null,
      "object_fit": null,
      "object_position": null,
      "order": null,
      "overflow": null,
      "overflow_x": null,
      "overflow_y": null,
      "padding": null,
      "right": null,
      "top": null,
      "visibility": null,
      "width": null
     }
    },
    "5b449025ff1c40fea42fa6f3935d0607": {
     "model_module": "@jupyter-widgets/base",
     "model_module_version": "1.2.0",
     "model_name": "LayoutModel",
     "state": {
      "_model_module": "@jupyter-widgets/base",
      "_model_module_version": "1.2.0",
      "_model_name": "LayoutModel",
      "_view_count": null,
      "_view_module": "@jupyter-widgets/base",
      "_view_module_version": "1.2.0",
      "_view_name": "LayoutView",
      "align_content": null,
      "align_items": null,
      "align_self": null,
      "border": null,
      "bottom": null,
      "display": null,
      "flex": null,
      "flex_flow": null,
      "grid_area": null,
      "grid_auto_columns": null,
      "grid_auto_flow": null,
      "grid_auto_rows": null,
      "grid_column": null,
      "grid_gap": null,
      "grid_row": null,
      "grid_template_areas": null,
      "grid_template_columns": null,
      "grid_template_rows": null,
      "height": null,
      "justify_content": null,
      "justify_items": null,
      "left": null,
      "margin": null,
      "max_height": null,
      "max_width": null,
      "min_height": null,
      "min_width": null,
      "object_fit": null,
      "object_position": null,
      "order": null,
      "overflow": null,
      "overflow_x": null,
      "overflow_y": null,
      "padding": null,
      "right": null,
      "top": null,
      "visibility": null,
      "width": null
     }
    },
    "6011f4b1a141487fa32f9d540b07663e": {
     "model_module": "@jupyter-widgets/base",
     "model_module_version": "1.2.0",
     "model_name": "LayoutModel",
     "state": {
      "_model_module": "@jupyter-widgets/base",
      "_model_module_version": "1.2.0",
      "_model_name": "LayoutModel",
      "_view_count": null,
      "_view_module": "@jupyter-widgets/base",
      "_view_module_version": "1.2.0",
      "_view_name": "LayoutView",
      "align_content": null,
      "align_items": null,
      "align_self": null,
      "border": null,
      "bottom": null,
      "display": null,
      "flex": null,
      "flex_flow": null,
      "grid_area": null,
      "grid_auto_columns": null,
      "grid_auto_flow": null,
      "grid_auto_rows": null,
      "grid_column": null,
      "grid_gap": null,
      "grid_row": null,
      "grid_template_areas": null,
      "grid_template_columns": null,
      "grid_template_rows": null,
      "height": null,
      "justify_content": null,
      "justify_items": null,
      "left": null,
      "margin": null,
      "max_height": null,
      "max_width": null,
      "min_height": null,
      "min_width": null,
      "object_fit": null,
      "object_position": null,
      "order": null,
      "overflow": null,
      "overflow_x": null,
      "overflow_y": null,
      "padding": null,
      "right": null,
      "top": null,
      "visibility": null,
      "width": null
     }
    },
    "695bbe82dfd44826a1999c860570e15c": {
     "model_module": "@jupyter-widgets/controls",
     "model_module_version": "1.5.0",
     "model_name": "HTMLModel",
     "state": {
      "_dom_classes": [],
      "_model_module": "@jupyter-widgets/controls",
      "_model_module_version": "1.5.0",
      "_model_name": "HTMLModel",
      "_view_count": null,
      "_view_module": "@jupyter-widgets/controls",
      "_view_module_version": "1.5.0",
      "_view_name": "HTMLView",
      "description": "",
      "description_tooltip": null,
      "layout": "IPY_MODEL_cff15a1ee9f0426bbd922b2feae69ef1",
      "placeholder": "​",
      "style": "IPY_MODEL_4a58427a8a704a7d9103ef0181312aa1",
      "value": "100%"
     }
    },
    "6ba1ae2c7ec64740b4fcfd03360077b1": {
     "model_module": "@jupyter-widgets/base",
     "model_module_version": "1.2.0",
     "model_name": "LayoutModel",
     "state": {
      "_model_module": "@jupyter-widgets/base",
      "_model_module_version": "1.2.0",
      "_model_name": "LayoutModel",
      "_view_count": null,
      "_view_module": "@jupyter-widgets/base",
      "_view_module_version": "1.2.0",
      "_view_name": "LayoutView",
      "align_content": null,
      "align_items": null,
      "align_self": null,
      "border": null,
      "bottom": null,
      "display": null,
      "flex": null,
      "flex_flow": null,
      "grid_area": null,
      "grid_auto_columns": null,
      "grid_auto_flow": null,
      "grid_auto_rows": null,
      "grid_column": null,
      "grid_gap": null,
      "grid_row": null,
      "grid_template_areas": null,
      "grid_template_columns": null,
      "grid_template_rows": null,
      "height": null,
      "justify_content": null,
      "justify_items": null,
      "left": null,
      "margin": null,
      "max_height": null,
      "max_width": null,
      "min_height": null,
      "min_width": null,
      "object_fit": null,
      "object_position": null,
      "order": null,
      "overflow": null,
      "overflow_x": null,
      "overflow_y": null,
      "padding": null,
      "right": null,
      "top": null,
      "visibility": null,
      "width": null
     }
    },
    "6d5c86c364a9436c899e9dc8fceed7db": {
     "model_module": "@jupyter-widgets/base",
     "model_module_version": "1.2.0",
     "model_name": "LayoutModel",
     "state": {
      "_model_module": "@jupyter-widgets/base",
      "_model_module_version": "1.2.0",
      "_model_name": "LayoutModel",
      "_view_count": null,
      "_view_module": "@jupyter-widgets/base",
      "_view_module_version": "1.2.0",
      "_view_name": "LayoutView",
      "align_content": null,
      "align_items": null,
      "align_self": null,
      "border": null,
      "bottom": null,
      "display": null,
      "flex": null,
      "flex_flow": null,
      "grid_area": null,
      "grid_auto_columns": null,
      "grid_auto_flow": null,
      "grid_auto_rows": null,
      "grid_column": null,
      "grid_gap": null,
      "grid_row": null,
      "grid_template_areas": null,
      "grid_template_columns": null,
      "grid_template_rows": null,
      "height": null,
      "justify_content": null,
      "justify_items": null,
      "left": null,
      "margin": null,
      "max_height": null,
      "max_width": null,
      "min_height": null,
      "min_width": null,
      "object_fit": null,
      "object_position": null,
      "order": null,
      "overflow": null,
      "overflow_x": null,
      "overflow_y": null,
      "padding": null,
      "right": null,
      "top": null,
      "visibility": null,
      "width": null
     }
    },
    "718eb114f8e14611b4e829998b1b8122": {
     "model_module": "@jupyter-widgets/controls",
     "model_module_version": "1.5.0",
     "model_name": "FloatProgressModel",
     "state": {
      "_dom_classes": [],
      "_model_module": "@jupyter-widgets/controls",
      "_model_module_version": "1.5.0",
      "_model_name": "FloatProgressModel",
      "_view_count": null,
      "_view_module": "@jupyter-widgets/controls",
      "_view_module_version": "1.5.0",
      "_view_name": "ProgressView",
      "bar_style": "success",
      "description": "",
      "description_tooltip": null,
      "layout": "IPY_MODEL_3ef883cb071d4a88ae582baff71c1ffb",
      "max": 45,
      "min": 0,
      "orientation": "horizontal",
      "style": "IPY_MODEL_24216c3b7f8f479483f1400e0f36492e",
      "value": 45
     }
    },
    "724e84efc801471ca9a8fce6fb02469d": {
     "model_module": "@jupyter-widgets/base",
     "model_module_version": "1.2.0",
     "model_name": "LayoutModel",
     "state": {
      "_model_module": "@jupyter-widgets/base",
      "_model_module_version": "1.2.0",
      "_model_name": "LayoutModel",
      "_view_count": null,
      "_view_module": "@jupyter-widgets/base",
      "_view_module_version": "1.2.0",
      "_view_name": "LayoutView",
      "align_content": null,
      "align_items": null,
      "align_self": null,
      "border": null,
      "bottom": null,
      "display": null,
      "flex": null,
      "flex_flow": null,
      "grid_area": null,
      "grid_auto_columns": null,
      "grid_auto_flow": null,
      "grid_auto_rows": null,
      "grid_column": null,
      "grid_gap": null,
      "grid_row": null,
      "grid_template_areas": null,
      "grid_template_columns": null,
      "grid_template_rows": null,
      "height": null,
      "justify_content": null,
      "justify_items": null,
      "left": null,
      "margin": null,
      "max_height": null,
      "max_width": null,
      "min_height": null,
      "min_width": null,
      "object_fit": null,
      "object_position": null,
      "order": null,
      "overflow": null,
      "overflow_x": null,
      "overflow_y": null,
      "padding": null,
      "right": null,
      "top": null,
      "visibility": null,
      "width": null
     }
    },
    "77d7014ad852491783b50871b67a1811": {
     "model_module": "@jupyter-widgets/base",
     "model_module_version": "1.2.0",
     "model_name": "LayoutModel",
     "state": {
      "_model_module": "@jupyter-widgets/base",
      "_model_module_version": "1.2.0",
      "_model_name": "LayoutModel",
      "_view_count": null,
      "_view_module": "@jupyter-widgets/base",
      "_view_module_version": "1.2.0",
      "_view_name": "LayoutView",
      "align_content": null,
      "align_items": null,
      "align_self": null,
      "border": null,
      "bottom": null,
      "display": null,
      "flex": null,
      "flex_flow": null,
      "grid_area": null,
      "grid_auto_columns": null,
      "grid_auto_flow": null,
      "grid_auto_rows": null,
      "grid_column": null,
      "grid_gap": null,
      "grid_row": null,
      "grid_template_areas": null,
      "grid_template_columns": null,
      "grid_template_rows": null,
      "height": null,
      "justify_content": null,
      "justify_items": null,
      "left": null,
      "margin": null,
      "max_height": null,
      "max_width": null,
      "min_height": null,
      "min_width": null,
      "object_fit": null,
      "object_position": null,
      "order": null,
      "overflow": null,
      "overflow_x": null,
      "overflow_y": null,
      "padding": null,
      "right": null,
      "top": null,
      "visibility": null,
      "width": null
     }
    },
    "818e850091f04faaab5bd6f8aba8c332": {
     "model_module": "@jupyter-widgets/base",
     "model_module_version": "1.2.0",
     "model_name": "LayoutModel",
     "state": {
      "_model_module": "@jupyter-widgets/base",
      "_model_module_version": "1.2.0",
      "_model_name": "LayoutModel",
      "_view_count": null,
      "_view_module": "@jupyter-widgets/base",
      "_view_module_version": "1.2.0",
      "_view_name": "LayoutView",
      "align_content": null,
      "align_items": null,
      "align_self": null,
      "border": null,
      "bottom": null,
      "display": null,
      "flex": null,
      "flex_flow": null,
      "grid_area": null,
      "grid_auto_columns": null,
      "grid_auto_flow": null,
      "grid_auto_rows": null,
      "grid_column": null,
      "grid_gap": null,
      "grid_row": null,
      "grid_template_areas": null,
      "grid_template_columns": null,
      "grid_template_rows": null,
      "height": null,
      "justify_content": null,
      "justify_items": null,
      "left": null,
      "margin": null,
      "max_height": null,
      "max_width": null,
      "min_height": null,
      "min_width": null,
      "object_fit": null,
      "object_position": null,
      "order": null,
      "overflow": null,
      "overflow_x": null,
      "overflow_y": null,
      "padding": null,
      "right": null,
      "top": null,
      "visibility": null,
      "width": null
     }
    },
    "8eee34c6ee2e44a7b49c5db44a7d0925": {
     "model_module": "@jupyter-widgets/controls",
     "model_module_version": "1.5.0",
     "model_name": "FloatProgressModel",
     "state": {
      "_dom_classes": [],
      "_model_module": "@jupyter-widgets/controls",
      "_model_module_version": "1.5.0",
      "_model_name": "FloatProgressModel",
      "_view_count": null,
      "_view_module": "@jupyter-widgets/controls",
      "_view_module_version": "1.5.0",
      "_view_name": "ProgressView",
      "bar_style": "success",
      "description": "",
      "description_tooltip": null,
      "layout": "IPY_MODEL_818e850091f04faaab5bd6f8aba8c332",
      "max": 50,
      "min": 0,
      "orientation": "horizontal",
      "style": "IPY_MODEL_f30189ad2c0340aba43684da3fb21719",
      "value": 50
     }
    },
    "a6f1dcefee3e48c7a9f932976db7706b": {
     "model_module": "@jupyter-widgets/controls",
     "model_module_version": "1.5.0",
     "model_name": "DescriptionStyleModel",
     "state": {
      "_model_module": "@jupyter-widgets/controls",
      "_model_module_version": "1.5.0",
      "_model_name": "DescriptionStyleModel",
      "_view_count": null,
      "_view_module": "@jupyter-widgets/base",
      "_view_module_version": "1.2.0",
      "_view_name": "StyleView",
      "description_width": ""
     }
    },
    "aa04ef62ce7e4ec08d9f5c62cd2896fa": {
     "model_module": "@jupyter-widgets/controls",
     "model_module_version": "1.5.0",
     "model_name": "DescriptionStyleModel",
     "state": {
      "_model_module": "@jupyter-widgets/controls",
      "_model_module_version": "1.5.0",
      "_model_name": "DescriptionStyleModel",
      "_view_count": null,
      "_view_module": "@jupyter-widgets/base",
      "_view_module_version": "1.2.0",
      "_view_name": "StyleView",
      "description_width": ""
     }
    },
    "b23e0b4dc03944bd945d6a9234f3cf2b": {
     "model_module": "@jupyter-widgets/controls",
     "model_module_version": "1.5.0",
     "model_name": "FloatProgressModel",
     "state": {
      "_dom_classes": [],
      "_model_module": "@jupyter-widgets/controls",
      "_model_module_version": "1.5.0",
      "_model_name": "FloatProgressModel",
      "_view_count": null,
      "_view_module": "@jupyter-widgets/controls",
      "_view_module_version": "1.5.0",
      "_view_name": "ProgressView",
      "bar_style": "success",
      "description": "",
      "description_tooltip": null,
      "layout": "IPY_MODEL_e4f49c276a1247a58977240b19a0affe",
      "max": 45,
      "min": 0,
      "orientation": "horizontal",
      "style": "IPY_MODEL_4f277070bad640e0bd9b391f13adc8b0",
      "value": 45
     }
    },
    "b5bc826695b5420e8586957a5100b63c": {
     "model_module": "@jupyter-widgets/base",
     "model_module_version": "1.2.0",
     "model_name": "LayoutModel",
     "state": {
      "_model_module": "@jupyter-widgets/base",
      "_model_module_version": "1.2.0",
      "_model_name": "LayoutModel",
      "_view_count": null,
      "_view_module": "@jupyter-widgets/base",
      "_view_module_version": "1.2.0",
      "_view_name": "LayoutView",
      "align_content": null,
      "align_items": null,
      "align_self": null,
      "border": null,
      "bottom": null,
      "display": null,
      "flex": null,
      "flex_flow": null,
      "grid_area": null,
      "grid_auto_columns": null,
      "grid_auto_flow": null,
      "grid_auto_rows": null,
      "grid_column": null,
      "grid_gap": null,
      "grid_row": null,
      "grid_template_areas": null,
      "grid_template_columns": null,
      "grid_template_rows": null,
      "height": null,
      "justify_content": null,
      "justify_items": null,
      "left": null,
      "margin": null,
      "max_height": null,
      "max_width": null,
      "min_height": null,
      "min_width": null,
      "object_fit": null,
      "object_position": null,
      "order": null,
      "overflow": null,
      "overflow_x": null,
      "overflow_y": null,
      "padding": null,
      "right": null,
      "top": null,
      "visibility": null,
      "width": null
     }
    },
    "c439225bb371403ea84d0b917532a22f": {
     "model_module": "@jupyter-widgets/controls",
     "model_module_version": "1.5.0",
     "model_name": "HTMLModel",
     "state": {
      "_dom_classes": [],
      "_model_module": "@jupyter-widgets/controls",
      "_model_module_version": "1.5.0",
      "_model_name": "HTMLModel",
      "_view_count": null,
      "_view_module": "@jupyter-widgets/controls",
      "_view_module_version": "1.5.0",
      "_view_name": "HTMLView",
      "description": "",
      "description_tooltip": null,
      "layout": "IPY_MODEL_6d5c86c364a9436c899e9dc8fceed7db",
      "placeholder": "​",
      "style": "IPY_MODEL_e230162299d74c98a14e756f8c62a7e4",
      "value": " 50/50 [01:58&lt;00:00,  2.32s/it]"
     }
    },
    "cdc622e8e80b48a996e38332d5aadfa7": {
     "model_module": "@jupyter-widgets/base",
     "model_module_version": "1.2.0",
     "model_name": "LayoutModel",
     "state": {
      "_model_module": "@jupyter-widgets/base",
      "_model_module_version": "1.2.0",
      "_model_name": "LayoutModel",
      "_view_count": null,
      "_view_module": "@jupyter-widgets/base",
      "_view_module_version": "1.2.0",
      "_view_name": "LayoutView",
      "align_content": null,
      "align_items": null,
      "align_self": null,
      "border": null,
      "bottom": null,
      "display": null,
      "flex": null,
      "flex_flow": null,
      "grid_area": null,
      "grid_auto_columns": null,
      "grid_auto_flow": null,
      "grid_auto_rows": null,
      "grid_column": null,
      "grid_gap": null,
      "grid_row": null,
      "grid_template_areas": null,
      "grid_template_columns": null,
      "grid_template_rows": null,
      "height": null,
      "justify_content": null,
      "justify_items": null,
      "left": null,
      "margin": null,
      "max_height": null,
      "max_width": null,
      "min_height": null,
      "min_width": null,
      "object_fit": null,
      "object_position": null,
      "order": null,
      "overflow": null,
      "overflow_x": null,
      "overflow_y": null,
      "padding": null,
      "right": null,
      "top": null,
      "visibility": null,
      "width": null
     }
    },
    "cff15a1ee9f0426bbd922b2feae69ef1": {
     "model_module": "@jupyter-widgets/base",
     "model_module_version": "1.2.0",
     "model_name": "LayoutModel",
     "state": {
      "_model_module": "@jupyter-widgets/base",
      "_model_module_version": "1.2.0",
      "_model_name": "LayoutModel",
      "_view_count": null,
      "_view_module": "@jupyter-widgets/base",
      "_view_module_version": "1.2.0",
      "_view_name": "LayoutView",
      "align_content": null,
      "align_items": null,
      "align_self": null,
      "border": null,
      "bottom": null,
      "display": null,
      "flex": null,
      "flex_flow": null,
      "grid_area": null,
      "grid_auto_columns": null,
      "grid_auto_flow": null,
      "grid_auto_rows": null,
      "grid_column": null,
      "grid_gap": null,
      "grid_row": null,
      "grid_template_areas": null,
      "grid_template_columns": null,
      "grid_template_rows": null,
      "height": null,
      "justify_content": null,
      "justify_items": null,
      "left": null,
      "margin": null,
      "max_height": null,
      "max_width": null,
      "min_height": null,
      "min_width": null,
      "object_fit": null,
      "object_position": null,
      "order": null,
      "overflow": null,
      "overflow_x": null,
      "overflow_y": null,
      "padding": null,
      "right": null,
      "top": null,
      "visibility": null,
      "width": null
     }
    },
    "d809e2257ec44c76a8f89d1d580d40da": {
     "model_module": "@jupyter-widgets/controls",
     "model_module_version": "1.5.0",
     "model_name": "ProgressStyleModel",
     "state": {
      "_model_module": "@jupyter-widgets/controls",
      "_model_module_version": "1.5.0",
      "_model_name": "ProgressStyleModel",
      "_view_count": null,
      "_view_module": "@jupyter-widgets/base",
      "_view_module_version": "1.2.0",
      "_view_name": "StyleView",
      "bar_color": null,
      "description_width": ""
     }
    },
    "e230162299d74c98a14e756f8c62a7e4": {
     "model_module": "@jupyter-widgets/controls",
     "model_module_version": "1.5.0",
     "model_name": "DescriptionStyleModel",
     "state": {
      "_model_module": "@jupyter-widgets/controls",
      "_model_module_version": "1.5.0",
      "_model_name": "DescriptionStyleModel",
      "_view_count": null,
      "_view_module": "@jupyter-widgets/base",
      "_view_module_version": "1.2.0",
      "_view_name": "StyleView",
      "description_width": ""
     }
    },
    "e4f49c276a1247a58977240b19a0affe": {
     "model_module": "@jupyter-widgets/base",
     "model_module_version": "1.2.0",
     "model_name": "LayoutModel",
     "state": {
      "_model_module": "@jupyter-widgets/base",
      "_model_module_version": "1.2.0",
      "_model_name": "LayoutModel",
      "_view_count": null,
      "_view_module": "@jupyter-widgets/base",
      "_view_module_version": "1.2.0",
      "_view_name": "LayoutView",
      "align_content": null,
      "align_items": null,
      "align_self": null,
      "border": null,
      "bottom": null,
      "display": null,
      "flex": null,
      "flex_flow": null,
      "grid_area": null,
      "grid_auto_columns": null,
      "grid_auto_flow": null,
      "grid_auto_rows": null,
      "grid_column": null,
      "grid_gap": null,
      "grid_row": null,
      "grid_template_areas": null,
      "grid_template_columns": null,
      "grid_template_rows": null,
      "height": null,
      "justify_content": null,
      "justify_items": null,
      "left": null,
      "margin": null,
      "max_height": null,
      "max_width": null,
      "min_height": null,
      "min_width": null,
      "object_fit": null,
      "object_position": null,
      "order": null,
      "overflow": null,
      "overflow_x": null,
      "overflow_y": null,
      "padding": null,
      "right": null,
      "top": null,
      "visibility": null,
      "width": null
     }
    },
    "eb91cc04d2b04da4811f5f7052bac734": {
     "model_module": "@jupyter-widgets/controls",
     "model_module_version": "1.5.0",
     "model_name": "HTMLModel",
     "state": {
      "_dom_classes": [],
      "_model_module": "@jupyter-widgets/controls",
      "_model_module_version": "1.5.0",
      "_model_name": "HTMLModel",
      "_view_count": null,
      "_view_module": "@jupyter-widgets/controls",
      "_view_module_version": "1.5.0",
      "_view_name": "HTMLView",
      "description": "",
      "description_tooltip": null,
      "layout": "IPY_MODEL_724e84efc801471ca9a8fce6fb02469d",
      "placeholder": "​",
      "style": "IPY_MODEL_53a6d0c5917346049dabea49c2594491",
      "value": " 50/50 [01:20&lt;00:00,  1.48s/it]"
     }
    },
    "f30189ad2c0340aba43684da3fb21719": {
     "model_module": "@jupyter-widgets/controls",
     "model_module_version": "1.5.0",
     "model_name": "ProgressStyleModel",
     "state": {
      "_model_module": "@jupyter-widgets/controls",
      "_model_module_version": "1.5.0",
      "_model_name": "ProgressStyleModel",
      "_view_count": null,
      "_view_module": "@jupyter-widgets/base",
      "_view_module_version": "1.2.0",
      "_view_name": "StyleView",
      "bar_color": null,
      "description_width": ""
     }
    },
    "fb2726014ecd47e0bd118ef755a31dd8": {
     "model_module": "@jupyter-widgets/controls",
     "model_module_version": "1.5.0",
     "model_name": "HBoxModel",
     "state": {
      "_dom_classes": [],
      "_model_module": "@jupyter-widgets/controls",
      "_model_module_version": "1.5.0",
      "_model_name": "HBoxModel",
      "_view_count": null,
      "_view_module": "@jupyter-widgets/controls",
      "_view_module_version": "1.5.0",
      "_view_name": "HBoxView",
      "box_style": "",
      "children": [
       "IPY_MODEL_23c91e1965b34cc5b068e3e225d0d8a6",
       "IPY_MODEL_b23e0b4dc03944bd945d6a9234f3cf2b",
       "IPY_MODEL_2958134835ff4c158e680de541c8a39b"
      ],
      "layout": "IPY_MODEL_5b449025ff1c40fea42fa6f3935d0607"
     }
    },
    "fc1773a066a6431891b559aaf23235a5": {
     "model_module": "@jupyter-widgets/controls",
     "model_module_version": "1.5.0",
     "model_name": "HBoxModel",
     "state": {
      "_dom_classes": [],
      "_model_module": "@jupyter-widgets/controls",
      "_model_module_version": "1.5.0",
      "_model_name": "HBoxModel",
      "_view_count": null,
      "_view_module": "@jupyter-widgets/controls",
      "_view_module_version": "1.5.0",
      "_view_name": "HBoxView",
      "box_style": "",
      "children": [
       "IPY_MODEL_184f589a48ee4dad9b7d985af7ebb7f4",
       "IPY_MODEL_2ddfaf2c848f48e8adfb175ff98167ee",
       "IPY_MODEL_eb91cc04d2b04da4811f5f7052bac734"
      ],
      "layout": "IPY_MODEL_4f2ce29237c449adab26d86721334dec"
     }
    },
    "fe9341a5d41243c8b0809c3a11295b72": {
     "model_module": "@jupyter-widgets/controls",
     "model_module_version": "1.5.0",
     "model_name": "HTMLModel",
     "state": {
      "_dom_classes": [],
      "_model_module": "@jupyter-widgets/controls",
      "_model_module_version": "1.5.0",
      "_model_name": "HTMLModel",
      "_view_count": null,
      "_view_module": "@jupyter-widgets/controls",
      "_view_module_version": "1.5.0",
      "_view_name": "HTMLView",
      "description": "",
      "description_tooltip": null,
      "layout": "IPY_MODEL_77d7014ad852491783b50871b67a1811",
      "placeholder": "​",
      "style": "IPY_MODEL_a6f1dcefee3e48c7a9f932976db7706b",
      "value": " 45/45 [00:01&lt;00:00, 31.05it/s]"
     }
    }
   }
  }
 },
 "nbformat": 4,
 "nbformat_minor": 5
}
